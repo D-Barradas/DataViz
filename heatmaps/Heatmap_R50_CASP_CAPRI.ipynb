{
 "cells": [
  {
   "cell_type": "code",
   "execution_count": 1,
   "id": "distributed-latvia",
   "metadata": {},
   "outputs": [],
   "source": [
    "import seaborn as sns\n",
    "import pandas as pd \n",
    "import matplotlib.pyplot as plt"
   ]
  },
  {
   "cell_type": "code",
   "execution_count": 51,
   "id": "initial-joining",
   "metadata": {},
   "outputs": [],
   "source": [
    "df = pd.read_csv(\"CAPRI_R50_results.csv\")"
   ]
  },
  {
   "cell_type": "code",
   "execution_count": 52,
   "id": "possible-nelson",
   "metadata": {},
   "outputs": [],
   "source": [
    "df.set_index(\"Target\",inplace=True)"
   ]
  },
  {
   "cell_type": "code",
   "execution_count": 87,
   "id": "representative-florist",
   "metadata": {},
   "outputs": [],
   "source": [
    "def discrete_convertion(x):\n",
    "    if x != 0 :\n",
    "        \n",
    "        #my_len = len(my_var)\n",
    "        #acc = 0 \n",
    "\n",
    "        if \"+\" == x :\n",
    "            return 2\n",
    "        elif \"++\" == x:\n",
    "            return 3\n",
    "        elif \"+++\" == x :\n",
    "            return 4\n",
    "        elif \"*\" == x :\n",
    "            return 1\n",
    "        \n",
    "        else:\n",
    "       # print (\"in else\")\n",
    "            return 0\n",
    "        #elif \"**\" == n[1:-1] :\n",
    "        #    med = n[0]"
   ]
  },
  {
   "cell_type": "code",
   "execution_count": 88,
   "id": "flying-mozambique",
   "metadata": {},
   "outputs": [
    {
     "data": {
      "text/plain": [
       "Index(['Top-1', 'Top-5', 'Top-10', 'Top1', 'Top5', 'Top10'], dtype='object')"
      ]
     },
     "execution_count": 88,
     "metadata": {},
     "output_type": "execute_result"
    }
   ],
   "source": [
    "df.columns"
   ]
  },
  {
   "cell_type": "code",
   "execution_count": 89,
   "id": "digital-lodging",
   "metadata": {},
   "outputs": [],
   "source": [
    "df[\"Top1\"] = df[\"Top-1\"].apply(discrete_convertion)\n",
    "df[\"Top5\"] = df[\"Top-5\"].apply(discrete_convertion)\n",
    "df[\"Top10\"] = df[\"Top-10\"].apply(discrete_convertion)\n"
   ]
  },
  {
   "cell_type": "code",
   "execution_count": 90,
   "id": "infrared-poetry",
   "metadata": {},
   "outputs": [
    {
     "data": {
      "text/html": [
       "<div>\n",
       "<style scoped>\n",
       "    .dataframe tbody tr th:only-of-type {\n",
       "        vertical-align: middle;\n",
       "    }\n",
       "\n",
       "    .dataframe tbody tr th {\n",
       "        vertical-align: top;\n",
       "    }\n",
       "\n",
       "    .dataframe thead th {\n",
       "        text-align: right;\n",
       "    }\n",
       "</style>\n",
       "<table border=\"1\" class=\"dataframe\">\n",
       "  <thead>\n",
       "    <tr style=\"text-align: right;\">\n",
       "      <th></th>\n",
       "      <th>Top-1</th>\n",
       "      <th>Top-5</th>\n",
       "      <th>Top-10</th>\n",
       "      <th>Top1</th>\n",
       "      <th>Top5</th>\n",
       "      <th>Top10</th>\n",
       "    </tr>\n",
       "    <tr>\n",
       "      <th>Target</th>\n",
       "      <th></th>\n",
       "      <th></th>\n",
       "      <th></th>\n",
       "      <th></th>\n",
       "      <th></th>\n",
       "      <th></th>\n",
       "    </tr>\n",
       "  </thead>\n",
       "  <tbody>\n",
       "    <tr>\n",
       "      <th>T164</th>\n",
       "      <td>+</td>\n",
       "      <td>+</td>\n",
       "      <td>+</td>\n",
       "      <td>2</td>\n",
       "      <td>2</td>\n",
       "      <td>2</td>\n",
       "    </tr>\n",
       "    <tr>\n",
       "      <th>T165</th>\n",
       "      <td>0</td>\n",
       "      <td>0</td>\n",
       "      <td>0</td>\n",
       "      <td>0</td>\n",
       "      <td>0</td>\n",
       "      <td>0</td>\n",
       "    </tr>\n",
       "    <tr>\n",
       "      <th>T166</th>\n",
       "      <td>++</td>\n",
       "      <td>++</td>\n",
       "      <td>++</td>\n",
       "      <td>3</td>\n",
       "      <td>3</td>\n",
       "      <td>3</td>\n",
       "    </tr>\n",
       "    <tr>\n",
       "      <th>T168</th>\n",
       "      <td>++</td>\n",
       "      <td>++</td>\n",
       "      <td>++</td>\n",
       "      <td>3</td>\n",
       "      <td>3</td>\n",
       "      <td>3</td>\n",
       "    </tr>\n",
       "    <tr>\n",
       "      <th>T169</th>\n",
       "      <td>0</td>\n",
       "      <td>0</td>\n",
       "      <td>0</td>\n",
       "      <td>0</td>\n",
       "      <td>0</td>\n",
       "      <td>0</td>\n",
       "    </tr>\n",
       "    <tr>\n",
       "      <th>T170-1234</th>\n",
       "      <td>0</td>\n",
       "      <td>0</td>\n",
       "      <td>0</td>\n",
       "      <td>0</td>\n",
       "      <td>0</td>\n",
       "      <td>0</td>\n",
       "    </tr>\n",
       "    <tr>\n",
       "      <th>T170-567</th>\n",
       "      <td>0</td>\n",
       "      <td>0</td>\n",
       "      <td>0</td>\n",
       "      <td>0</td>\n",
       "      <td>0</td>\n",
       "      <td>0</td>\n",
       "    </tr>\n",
       "    <tr>\n",
       "      <th>T170-89</th>\n",
       "      <td>0</td>\n",
       "      <td>0</td>\n",
       "      <td>+</td>\n",
       "      <td>0</td>\n",
       "      <td>0</td>\n",
       "      <td>2</td>\n",
       "    </tr>\n",
       "    <tr>\n",
       "      <th>T174</th>\n",
       "      <td>0</td>\n",
       "      <td>0</td>\n",
       "      <td>0</td>\n",
       "      <td>0</td>\n",
       "      <td>0</td>\n",
       "      <td>0</td>\n",
       "    </tr>\n",
       "    <tr>\n",
       "      <th>T176</th>\n",
       "      <td>*</td>\n",
       "      <td>*</td>\n",
       "      <td>*</td>\n",
       "      <td>1</td>\n",
       "      <td>1</td>\n",
       "      <td>1</td>\n",
       "    </tr>\n",
       "    <tr>\n",
       "      <th>T177</th>\n",
       "      <td>++</td>\n",
       "      <td>++</td>\n",
       "      <td>+++</td>\n",
       "      <td>3</td>\n",
       "      <td>3</td>\n",
       "      <td>4</td>\n",
       "    </tr>\n",
       "    <tr>\n",
       "      <th>T178</th>\n",
       "      <td>+</td>\n",
       "      <td>+</td>\n",
       "      <td>+</td>\n",
       "      <td>2</td>\n",
       "      <td>2</td>\n",
       "      <td>2</td>\n",
       "    </tr>\n",
       "    <tr>\n",
       "      <th>T179</th>\n",
       "      <td>+</td>\n",
       "      <td>+</td>\n",
       "      <td>+</td>\n",
       "      <td>2</td>\n",
       "      <td>2</td>\n",
       "      <td>2</td>\n",
       "    </tr>\n",
       "    <tr>\n",
       "      <th>T180</th>\n",
       "      <td>*</td>\n",
       "      <td>*</td>\n",
       "      <td>*</td>\n",
       "      <td>1</td>\n",
       "      <td>1</td>\n",
       "      <td>1</td>\n",
       "    </tr>\n",
       "  </tbody>\n",
       "</table>\n",
       "</div>"
      ],
      "text/plain": [
       "          Top-1 Top-5 Top-10  Top1  Top5  Top10\n",
       "Target                                         \n",
       "T164          +     +      +     2     2      2\n",
       "T165          0     0      0     0     0      0\n",
       "T166         ++    ++     ++     3     3      3\n",
       "T168         ++    ++     ++     3     3      3\n",
       "T169          0     0      0     0     0      0\n",
       "T170-1234     0     0      0     0     0      0\n",
       "T170-567      0     0      0     0     0      0\n",
       "T170-89       0     0      +     0     0      2\n",
       "T174          0     0      0     0     0      0\n",
       "T176          *     *      *     1     1      1\n",
       "T177         ++    ++    +++     3     3      4\n",
       "T178          +     +      +     2     2      2\n",
       "T179          +     +      +     2     2      2\n",
       "T180          *     *      *     1     1      1"
      ]
     },
     "execution_count": 90,
     "metadata": {},
     "output_type": "execute_result"
    }
   ],
   "source": [
    "df"
   ]
  },
  {
   "cell_type": "code",
   "execution_count": 96,
   "id": "demographic-context",
   "metadata": {},
   "outputs": [],
   "source": [
    "my_colors_2 = ['#ffffff','#bbbbbb','#007f00' , '#00b200' ,'#00e500']"
   ]
  },
  {
   "cell_type": "code",
   "execution_count": 113,
   "id": "least-unknown",
   "metadata": {},
   "outputs": [
    {
     "data": {
      "image/png": "[encoded data removed]",
      "text/plain": [
       "<Figure size 1080x720 with 2 Axes>"
      ]
     },
     "metadata": {
      "needs_background": "light"
     },
     "output_type": "display_data"
    }
   ],
   "source": [
    "f, ax = plt.subplots(figsize=(15 , 10))\n",
    "\n",
    "g = sns.heatmap(df[['Top1','Top5','Top10']].T,\n",
    "#                 cmap=\"Greens\",\n",
    "                cmap=my_colors_2,\n",
    "#                 cbar=False,\n",
    "                square=True,\n",
    "                linewidths=.5, \n",
    "                annot=False,\n",
    "                cbar_kws={\"shrink\": .2 ,\n",
    "                          \"ticks\":[3.6,2.75,2.0,1.25],\n",
    "                          \"pad\":0.009                      \n",
    "                        }\n",
    "               )\n",
    "cbar = g.collections[0].colorbar\n",
    "#cbar.set_ticks([2.6,1.85,1.1,0.4])\n",
    "cbar.set_ticklabels(['High', 'Medium', 'Acceptable','Incorrect'])\n",
    "#cbar.ax.tick_params(labelsize=20) \n",
    "#colorbar.set_ticklabels(['High', 'Medium', 'Acceptable','Incorrect'])\n",
    "ax.set_xlabel(\"Target\",size=18)\n",
    "ax.set_yticklabels(['Top-1', 'Top-5', 'Top-10'],rotation=0)\n",
    "\n",
    "plt.yticks(rotation=0)\n",
    "#plt.xticks(rotation=0)# \n",
    "plt.savefig(\"../heatmap_capri_r50_long_v2.svg\")"
   ]
  },
  {
   "cell_type": "code",
   "execution_count": 108,
   "id": "accepted-internship",
   "metadata": {},
   "outputs": [],
   "source": [
    "df2_short = df[['Top1','Top5','Top10']].T"
   ]
  },
  {
   "cell_type": "code",
   "execution_count": 109,
   "id": "oriental-captain",
   "metadata": {},
   "outputs": [
    {
     "data": {
      "text/html": [
       "<div>\n",
       "<style scoped>\n",
       "    .dataframe tbody tr th:only-of-type {\n",
       "        vertical-align: middle;\n",
       "    }\n",
       "\n",
       "    .dataframe tbody tr th {\n",
       "        vertical-align: top;\n",
       "    }\n",
       "\n",
       "    .dataframe thead th {\n",
       "        text-align: right;\n",
       "    }\n",
       "</style>\n",
       "<table border=\"1\" class=\"dataframe\">\n",
       "  <thead>\n",
       "    <tr style=\"text-align: right;\">\n",
       "      <th>Target</th>\n",
       "      <th>T164</th>\n",
       "      <th>T165</th>\n",
       "      <th>T166</th>\n",
       "      <th>T168</th>\n",
       "      <th>T169</th>\n",
       "      <th>T170-1234</th>\n",
       "      <th>T170-567</th>\n",
       "      <th>T170-89</th>\n",
       "      <th>T174</th>\n",
       "      <th>T176</th>\n",
       "      <th>T177</th>\n",
       "      <th>T178</th>\n",
       "      <th>T179</th>\n",
       "      <th>T180</th>\n",
       "    </tr>\n",
       "  </thead>\n",
       "  <tbody>\n",
       "    <tr>\n",
       "      <th>Top1</th>\n",
       "      <td>2</td>\n",
       "      <td>0</td>\n",
       "      <td>3</td>\n",
       "      <td>3</td>\n",
       "      <td>0</td>\n",
       "      <td>0</td>\n",
       "      <td>0</td>\n",
       "      <td>0</td>\n",
       "      <td>0</td>\n",
       "      <td>1</td>\n",
       "      <td>3</td>\n",
       "      <td>2</td>\n",
       "      <td>2</td>\n",
       "      <td>1</td>\n",
       "    </tr>\n",
       "    <tr>\n",
       "      <th>Top5</th>\n",
       "      <td>2</td>\n",
       "      <td>0</td>\n",
       "      <td>3</td>\n",
       "      <td>3</td>\n",
       "      <td>0</td>\n",
       "      <td>0</td>\n",
       "      <td>0</td>\n",
       "      <td>0</td>\n",
       "      <td>0</td>\n",
       "      <td>1</td>\n",
       "      <td>3</td>\n",
       "      <td>2</td>\n",
       "      <td>2</td>\n",
       "      <td>1</td>\n",
       "    </tr>\n",
       "    <tr>\n",
       "      <th>Top10</th>\n",
       "      <td>2</td>\n",
       "      <td>0</td>\n",
       "      <td>3</td>\n",
       "      <td>3</td>\n",
       "      <td>0</td>\n",
       "      <td>0</td>\n",
       "      <td>0</td>\n",
       "      <td>2</td>\n",
       "      <td>0</td>\n",
       "      <td>1</td>\n",
       "      <td>4</td>\n",
       "      <td>2</td>\n",
       "      <td>2</td>\n",
       "      <td>1</td>\n",
       "    </tr>\n",
       "  </tbody>\n",
       "</table>\n",
       "</div>"
      ],
      "text/plain": [
       "Target  T164  T165  T166  T168  T169  T170-1234  T170-567  T170-89  T174  \\\n",
       "Top1       2     0     3     3     0          0         0        0     0   \n",
       "Top5       2     0     3     3     0          0         0        0     0   \n",
       "Top10      2     0     3     3     0          0         0        2     0   \n",
       "\n",
       "Target  T176  T177  T178  T179  T180  \n",
       "Top1       1     3     2     2     1  \n",
       "Top5       1     3     2     2     1  \n",
       "Top10      1     4     2     2     1  "
      ]
     },
     "execution_count": 109,
     "metadata": {},
     "output_type": "execute_result"
    }
   ],
   "source": [
    "df2_short[['T164','T166','T168','T170-89','T176','T177','T178','T179','T180']]"
   ]
  },
  {
   "cell_type": "code",
   "execution_count": 112,
   "id": "southwest-synthetic",
   "metadata": {},
   "outputs": [
    {
     "data": {
      "image/png": "[encoded data removed]",
      "text/plain": [
       "<Figure size 1080x720 with 2 Axes>"
      ]
     },
     "metadata": {
      "needs_background": "light"
     },
     "output_type": "display_data"
    }
   ],
   "source": [
    "f, ax = plt.subplots(figsize=(15 , 10))\n",
    "\n",
    "g = sns.heatmap(df2_short[['T164','T166','T168','T170-89','T176','T177','T178','T179','T180']],\n",
    "#                 cmap=\"Greens\",\n",
    "                cmap=my_colors_2,\n",
    "#                 cbar=False,\n",
    "                square=True,\n",
    "                linewidths=.5, \n",
    "                annot=False,\n",
    "                cbar_kws={\"shrink\": .2 ,\n",
    "                          \"ticks\":[3.6,2.75,2.0,1.25],\n",
    "                          \"pad\":0.009                      \n",
    "                        }\n",
    "               )\n",
    "cbar = g.collections[0].colorbar\n",
    "#cbar.set_ticks([2.6,1.85,1.1,0.4])\n",
    "cbar.set_ticklabels(['High', 'Medium', 'Acceptable','Incorrect'])\n",
    "#cbar.ax.tick_params(labelsize=20) \n",
    "#colorbar.set_ticklabels(['High', 'Medium', 'Acceptable','Incorrect'])\n",
    "ax.set_xlabel(\"Target\",size=18)\n",
    "ax.set_yticklabels(['Top-1', 'Top-5', 'Top-10'],rotation=0)\n",
    "\n",
    "plt.yticks(rotation=0)\n",
    "#plt.xticks(rotation=0)# \n",
    "plt.savefig(\"../heatmap_capri_r50_short_v1.svg\")"
   ]
  },
  {
   "cell_type": "code",
   "execution_count": 34,
   "id": "logical-north",
   "metadata": {},
   "outputs": [],
   "source": [
    "df_one = pd.read_csv(\"../data/table_Score_set_comparation.csv\")"
   ]
  },
  {
   "cell_type": "code",
   "execution_count": 35,
   "id": "conservative-delivery",
   "metadata": {},
   "outputs": [],
   "source": [
    "df_one.set_index(\"ID\",inplace=True)\n",
    "# df_one.columns"
   ]
  },
  {
   "cell_type": "code",
   "execution_count": 36,
   "id": "latest-philosophy",
   "metadata": {},
   "outputs": [
    {
     "data": {
      "image/png": "[encoded data removed]",
      "text/plain": [
       "<Figure size 432x288 with 1 Axes>"
      ]
     },
     "metadata": {
      "needs_background": "light"
     },
     "output_type": "display_data"
    }
   ],
   "source": [
    "sns.heatmap(df_one,cmap='coolwarm',\n",
    "            annot=True,\n",
    "            cbar=False,\n",
    "            square=True,\n",
    "            linewidths=.5)\n",
    "plt.tight_layout()"
   ]
  },
  {
   "cell_type": "code",
   "execution_count": 45,
   "id": "architectural-history",
   "metadata": {},
   "outputs": [],
   "source": [
    "df_one = pd.read_csv('../data/dataframe_feature_sel.csv')\n",
    "df_one.set_index(\"SF\",inplace=True)\n"
   ]
  },
  {
   "cell_type": "code",
   "execution_count": 47,
   "id": "deluxe-whole",
   "metadata": {},
   "outputs": [
    {
     "data": {
      "image/png": "[encoded data removed]",
      "text/plain": [
       "<Figure size 432x288 with 1 Axes>"
      ]
     },
     "metadata": {
      "needs_background": "light"
     },
     "output_type": "display_data"
    }
   ],
   "source": [
    "sns.heatmap(df_one,cmap='Blues',\n",
    "            annot=True,\n",
    "            cbar=False,\n",
    "            square=False,\n",
    "            linewidths=.5)\n",
    "plt.tight_layout()\n",
    "plt.savefig(\"../heatmap_fs_codes.png\",format='png',dpi=300)"
   ]
  },
  {
   "cell_type": "code",
   "execution_count": null,
   "id": "arbitrary-metallic",
   "metadata": {},
   "outputs": [],
   "source": []
  }
 ],
 "metadata": {
  "kernelspec": {
   "display_name": "Python 3",
   "language": "python",
   "name": "python3"
  },
  "language_info": {
   "codemirror_mode": {
    "name": "ipython",
    "version": 3
   },
   "file_extension": ".py",
   "mimetype": "text/x-python",
   "name": "python",
   "nbconvert_exporter": "python",
   "pygments_lexer": "ipython3",
   "version": "3.7.9"
  }
 },
 "nbformat": 4,
 "nbformat_minor": 5
}

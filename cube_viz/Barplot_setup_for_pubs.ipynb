{
 "cells": [
  {
   "cell_type": "code",
   "execution_count": 3,
   "id": "apart-universal",
   "metadata": {},
   "outputs": [],
   "source": [
    "import pandas as pd \n",
    "import seaborn as sns \n",
    "import matplotlib.pyplot as plt\n",
    "sns.set_theme(style=\"whitegrid\")\n",
    "sns.set_context(\"paper\")"
   ]
  },
  {
   "cell_type": "code",
   "execution_count": 44,
   "id": "declared-steering",
   "metadata": {},
   "outputs": [],
   "source": [
    "my_data = pd.read_csv(\"success_rate_RFC_bm5_normal_docking_2.csv\")"
   ]
  },
  {
   "cell_type": "code",
   "execution_count": 45,
   "id": "changing-turning",
   "metadata": {},
   "outputs": [
    {
     "data": {
      "text/html": [
       "<div>\n",
       "<style scoped>\n",
       "    .dataframe tbody tr th:only-of-type {\n",
       "        vertical-align: middle;\n",
       "    }\n",
       "\n",
       "    .dataframe tbody tr th {\n",
       "        vertical-align: top;\n",
       "    }\n",
       "\n",
       "    .dataframe thead th {\n",
       "        text-align: right;\n",
       "    }\n",
       "</style>\n",
       "<table border=\"1\" class=\"dataframe\">\n",
       "  <thead>\n",
       "    <tr style=\"text-align: right;\">\n",
       "      <th></th>\n",
       "      <th>Scoring</th>\n",
       "      <th>Top1</th>\n",
       "      <th>Top10</th>\n",
       "      <th>Top100</th>\n",
       "      <th>Method</th>\n",
       "    </tr>\n",
       "  </thead>\n",
       "  <tbody>\n",
       "    <tr>\n",
       "      <th>0</th>\n",
       "      <td>Pydock</td>\n",
       "      <td>7.3</td>\n",
       "      <td>20.0</td>\n",
       "      <td>41.8</td>\n",
       "      <td>Pydock</td>\n",
       "    </tr>\n",
       "    <tr>\n",
       "      <th>1</th>\n",
       "      <td>CODES-T500</td>\n",
       "      <td>3.6</td>\n",
       "      <td>16.4</td>\n",
       "      <td>40.0</td>\n",
       "      <td>Pydock</td>\n",
       "    </tr>\n",
       "    <tr>\n",
       "      <th>2</th>\n",
       "      <td>CODES-3K</td>\n",
       "      <td>7.3</td>\n",
       "      <td>20.0</td>\n",
       "      <td>41.8</td>\n",
       "      <td>Pydock</td>\n",
       "    </tr>\n",
       "    <tr>\n",
       "      <th>3</th>\n",
       "      <td>CODES-10K</td>\n",
       "      <td>7.3</td>\n",
       "      <td>18.2</td>\n",
       "      <td>41.8</td>\n",
       "      <td>Pydock</td>\n",
       "    </tr>\n",
       "    <tr>\n",
       "      <th>4</th>\n",
       "      <td>IRAPPA</td>\n",
       "      <td>18.0</td>\n",
       "      <td>40.0</td>\n",
       "      <td>55.0</td>\n",
       "      <td>Pydock</td>\n",
       "    </tr>\n",
       "    <tr>\n",
       "      <th>5</th>\n",
       "      <td>Zdock</td>\n",
       "      <td>5.5</td>\n",
       "      <td>20.0</td>\n",
       "      <td>36.4</td>\n",
       "      <td>Zdock</td>\n",
       "    </tr>\n",
       "    <tr>\n",
       "      <th>6</th>\n",
       "      <td>CODES-T500</td>\n",
       "      <td>14.5</td>\n",
       "      <td>30.9</td>\n",
       "      <td>41.8</td>\n",
       "      <td>Zdock</td>\n",
       "    </tr>\n",
       "    <tr>\n",
       "      <th>7</th>\n",
       "      <td>CODES-3K</td>\n",
       "      <td>10.9</td>\n",
       "      <td>25.5</td>\n",
       "      <td>43.6</td>\n",
       "      <td>Zdock</td>\n",
       "    </tr>\n",
       "    <tr>\n",
       "      <th>8</th>\n",
       "      <td>CODES-10K</td>\n",
       "      <td>10.9</td>\n",
       "      <td>20.0</td>\n",
       "      <td>38.2</td>\n",
       "      <td>Zdock</td>\n",
       "    </tr>\n",
       "    <tr>\n",
       "      <th>9</th>\n",
       "      <td>IRAPPA</td>\n",
       "      <td>20.0</td>\n",
       "      <td>29.0</td>\n",
       "      <td>45.0</td>\n",
       "      <td>Zdock</td>\n",
       "    </tr>\n",
       "    <tr>\n",
       "      <th>10</th>\n",
       "      <td>Swarmdock</td>\n",
       "      <td>16.0</td>\n",
       "      <td>38.0</td>\n",
       "      <td>67.0</td>\n",
       "      <td>Swardock</td>\n",
       "    </tr>\n",
       "    <tr>\n",
       "      <th>11</th>\n",
       "      <td>CODES-T500</td>\n",
       "      <td>14.5</td>\n",
       "      <td>25.5</td>\n",
       "      <td>49.1</td>\n",
       "      <td>Swardock</td>\n",
       "    </tr>\n",
       "    <tr>\n",
       "      <th>12</th>\n",
       "      <td>IRAPPA</td>\n",
       "      <td>22.0</td>\n",
       "      <td>45.0</td>\n",
       "      <td>69.0</td>\n",
       "      <td>Swardock</td>\n",
       "    </tr>\n",
       "    <tr>\n",
       "      <th>13</th>\n",
       "      <td>CODES-T500</td>\n",
       "      <td>11.0</td>\n",
       "      <td>31.0</td>\n",
       "      <td>47.0</td>\n",
       "      <td>Test</td>\n",
       "    </tr>\n",
       "  </tbody>\n",
       "</table>\n",
       "</div>"
      ],
      "text/plain": [
       "       Scoring  Top1  Top10  Top100    Method\n",
       "0       Pydock   7.3   20.0    41.8    Pydock\n",
       "1   CODES-T500   3.6   16.4    40.0    Pydock\n",
       "2     CODES-3K   7.3   20.0    41.8    Pydock\n",
       "3    CODES-10K   7.3   18.2    41.8    Pydock\n",
       "4       IRAPPA  18.0   40.0    55.0    Pydock\n",
       "5        Zdock   5.5   20.0    36.4     Zdock\n",
       "6   CODES-T500  14.5   30.9    41.8     Zdock\n",
       "7     CODES-3K  10.9   25.5    43.6     Zdock\n",
       "8    CODES-10K  10.9   20.0    38.2     Zdock\n",
       "9       IRAPPA  20.0   29.0    45.0     Zdock\n",
       "10   Swarmdock  16.0   38.0    67.0  Swardock\n",
       "11  CODES-T500  14.5   25.5    49.1  Swardock\n",
       "12      IRAPPA  22.0   45.0    69.0  Swardock\n",
       "13  CODES-T500  11.0   31.0    47.0      Test"
      ]
     },
     "execution_count": 45,
     "metadata": {},
     "output_type": "execute_result"
    }
   ],
   "source": [
    "my_data"
   ]
  },
  {
   "cell_type": "code",
   "execution_count": 46,
   "id": "centered-miracle",
   "metadata": {},
   "outputs": [],
   "source": [
    "my_data.set_index(\"Scoring\",inplace=True)"
   ]
  },
  {
   "cell_type": "code",
   "execution_count": 47,
   "id": "hungry-director",
   "metadata": {},
   "outputs": [
    {
     "data": {
      "text/plain": [
       "<AxesSubplot:xlabel='Scoring'>"
      ]
     },
     "execution_count": 47,
     "metadata": {},
     "output_type": "execute_result"
    },
    {
     "data": {
      "image/png": "[encoded data removed]",
      "text/plain": [
       "<Figure size 432x288 with 1 Axes>"
      ]
     },
     "metadata": {},
     "output_type": "display_data"
    }
   ],
   "source": [
    "# sns.barplot(data=my_data[my_data[\"Method\"]==\"Pydock\"])\n",
    "# sns.barplot(data=my_data[my_data[\"Method\"]==\"Zdock\"])\n",
    "# sns.barplot(data=my_data[my_data[\"Method\"]==\"Swardock\"],hue=my_data.index)\n",
    "my_data[my_data[\"Method\"]==\"Pydock\"].plot(kind=\"bar\",color=['#C0C0C0','#A9A9A9','#808080'])"
   ]
  },
  {
   "cell_type": "code",
   "execution_count": 48,
   "id": "rough-hormone",
   "metadata": {},
   "outputs": [
    {
     "data": {
      "text/plain": [
       "<AxesSubplot:xlabel='Scoring'>"
      ]
     },
     "execution_count": 48,
     "metadata": {},
     "output_type": "execute_result"
    },
    {
     "data": {
      "image/png": "[encoded data removed]",
      "text/plain": [
       "<Figure size 432x288 with 1 Axes>"
      ]
     },
     "metadata": {},
     "output_type": "display_data"
    }
   ],
   "source": [
    "my_data[my_data[\"Method\"]==\"Zdock\"].plot(kind=\"bar\",color=['#C0C0C0','#A9A9A9','#808080'])"
   ]
  },
  {
   "cell_type": "code",
   "execution_count": 49,
   "id": "dedicated-standard",
   "metadata": {},
   "outputs": [
    {
     "data": {
      "text/plain": [
       "<AxesSubplot:xlabel=' '>"
      ]
     },
     "execution_count": 49,
     "metadata": {},
     "output_type": "execute_result"
    },
    {
     "data": {
      "image/png": "[encoded data removed]",
      "text/plain": [
       "<Figure size 432x288 with 1 Axes>"
      ]
     },
     "metadata": {},
     "output_type": "display_data"
    }
   ],
   "source": [
    "my_data[my_data[\"Method\"]==\"Swardock\"].plot(xlabel=\" \",kind=\"bar\",color=['#C0C0C0','#A9A9A9','#808080'],rot=0)"
   ]
  },
  {
   "cell_type": "code",
   "execution_count": 50,
   "id": "linear-empty",
   "metadata": {},
   "outputs": [
    {
     "name": "stderr",
     "output_type": "stream",
     "text": [
      "The PostScript backend does not support transparency; partially transparent artists will be rendered opaque.\n",
      "The PostScript backend does not support transparency; partially transparent artists will be rendered opaque.\n"
     ]
    },
    {
     "data": {
      "image/png": "[encoded data removed]",
      "text/plain": [
       "<Figure size 360x576 with 3 Axes>"
      ]
     },
     "metadata": {},
     "output_type": "display_data"
    }
   ],
   "source": [
    "fig, ((ax1, ax2, ax3) ) = plt.subplots(3,1 , sharex=False\n",
    "                                ,sharey=True\n",
    "                                ,figsize=( 5 , 8 )\n",
    "#                                          \n",
    "                               )\n",
    "my_data[my_data[\"Method\"]==\"Pydock\"].plot(ax=ax1,title=\"A) Pydock\",\n",
    "                                          rot=0 ,\n",
    "                                          kind=\"bar\",\n",
    "                                          color=['#C0C0C0','#A9A9A9','#808080'],\n",
    "                                          xlabel=\"\")\n",
    "my_data[my_data[\"Method\"]==\"Zdock\"].plot(ax=ax2,title=\"B) Zdock\",\n",
    "                                         rot=0 ,\n",
    "                                         kind=\"bar\",\n",
    "                                         color=['#C0C0C0','#A9A9A9','#808080'],\n",
    "                                         legend=False,\n",
    "                                        xlabel=\"\")\n",
    "\n",
    "                                        \n",
    "my_data[my_data[\"Method\"]==\"Swardock\"].plot(ax=ax3, title=\"C) Swardock\",\n",
    "                                            rot=0,\n",
    "                                            kind=\"bar\",\n",
    "                                            color=['#C0C0C0','#A9A9A9','#808080'],\n",
    "                                            legend=False)\n",
    "\n",
    "plt.ylabel(\"Percentage\")\n",
    "plt.tight_layout()\n",
    "plt.savefig(\"../success_rate_CODES_vs_IRAPPA.eps\")"
   ]
  },
  {
   "cell_type": "code",
   "execution_count": 51,
   "id": "split-diversity",
   "metadata": {},
   "outputs": [],
   "source": [
    "my_data = pd.read_csv(\"success_rate_RFC_bm5_normal_docking.csv\")"
   ]
  },
  {
   "cell_type": "code",
   "execution_count": 52,
   "id": "abstract-sailing",
   "metadata": {},
   "outputs": [],
   "source": [
    "my_data.sort_values(\"Top10\", inplace=True)\n",
    "# my_data.set_index(\"Scoring\", inplace=True)"
   ]
  },
  {
   "cell_type": "code",
   "execution_count": 53,
   "id": "liked-romance",
   "metadata": {},
   "outputs": [],
   "source": [
    "my_data[\"Scoring\"] = ['Pydock',\n",
    " 'Zdock',\n",
    " 'IRAPPA\\nZdock',\n",
    " 'CODES',\n",
    " 'Swarmdock',\n",
    " 'IRAPPA\\nPydock',\n",
    " 'IRAPPA\\nSwardock']"
   ]
  },
  {
   "cell_type": "code",
   "execution_count": 54,
   "id": "united-bathroom",
   "metadata": {},
   "outputs": [],
   "source": [
    "my_data.set_index(\"Scoring\", inplace=True)"
   ]
  },
  {
   "cell_type": "code",
   "execution_count": 56,
   "id": "promising-drill",
   "metadata": {},
   "outputs": [
    {
     "data": {
      "image/png": "[encoded data removed]",
      "text/plain": [
       "<Figure size 432x288 with 1 Axes>"
      ]
     },
     "metadata": {},
     "output_type": "display_data"
    }
   ],
   "source": [
    "my_data[\"Top10\"].plot(\n",
    "                                            rot=0,\n",
    "                                            kind=\"bar\",\n",
    "                                            color=['#A9A9A9']\n",
    "#                                             legend=False\n",
    "            )\n",
    "plt.ylabel(\"Percentage\")\n",
    "plt.tight_layout()\n",
    "plt.savefig(\"../success_rate_CODES_combines.eps\")"
   ]
  },
  {
   "cell_type": "code",
   "execution_count": 23,
   "id": "liquid-domestic",
   "metadata": {},
   "outputs": [],
   "source": [
    "# sns.barplot(x=my_data.index,y=\"Top10\",data=my_data)"
   ]
  },
  {
   "cell_type": "code",
   "execution_count": null,
   "id": "varying-thirty",
   "metadata": {},
   "outputs": [],
   "source": []
  }
 ],
 "metadata": {
  "kernelspec": {
   "display_name": "Python 3",
   "language": "python",
   "name": "python3"
  },
  "language_info": {
   "codemirror_mode": {
    "name": "ipython",
    "version": 3
   },
   "file_extension": ".py",
   "mimetype": "text/x-python",
   "name": "python",
   "nbconvert_exporter": "python",
   "pygments_lexer": "ipython3",
   "version": "3.7.9"
  }
 },
 "nbformat": 4,
 "nbformat_minor": 5
}

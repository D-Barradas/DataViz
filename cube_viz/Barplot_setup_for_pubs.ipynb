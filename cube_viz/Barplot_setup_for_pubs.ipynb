{
 "cells": [
  {
   "cell_type": "code",
   "execution_count": 1,
   "id": "apart-universal",
   "metadata": {},
   "outputs": [],
   "source": [
    "import pandas as pd \n",
    "import seaborn as sns \n",
    "import matplotlib.pyplot as plt\n",
    "sns.set_theme(style=\"whitegrid\")\n",
    "sns.set_context(\"paper\")"
   ]
  },
  {
   "cell_type": "code",
   "execution_count": 2,
   "id": "declared-steering",
   "metadata": {},
   "outputs": [],
   "source": [
    "my_data = pd.read_csv(\"success_rate_RFC_bm5_normal_docking_2.csv\")"
   ]
  },
  {
   "cell_type": "code",
   "execution_count": 3,
   "id": "changing-turning",
   "metadata": {},
   "outputs": [
    {
     "data": {
      "text/html": [
       "<div>\n",
       "<style scoped>\n",
       "    .dataframe tbody tr th:only-of-type {\n",
       "        vertical-align: middle;\n",
       "    }\n",
       "\n",
       "    .dataframe tbody tr th {\n",
       "        vertical-align: top;\n",
       "    }\n",
       "\n",
       "    .dataframe thead th {\n",
       "        text-align: right;\n",
       "    }\n",
       "</style>\n",
       "<table border=\"1\" class=\"dataframe\">\n",
       "  <thead>\n",
       "    <tr style=\"text-align: right;\">\n",
       "      <th></th>\n",
       "      <th>Scoring</th>\n",
       "      <th>Top1</th>\n",
       "      <th>Top10</th>\n",
       "      <th>Top100</th>\n",
       "      <th>Method</th>\n",
       "    </tr>\n",
       "  </thead>\n",
       "  <tbody>\n",
       "    <tr>\n",
       "      <th>0</th>\n",
       "      <td>Pydock</td>\n",
       "      <td>7.3</td>\n",
       "      <td>20.0</td>\n",
       "      <td>41.8</td>\n",
       "      <td>Pydock</td>\n",
       "    </tr>\n",
       "    <tr>\n",
       "      <th>1</th>\n",
       "      <td>CODES-T500</td>\n",
       "      <td>3.6</td>\n",
       "      <td>16.4</td>\n",
       "      <td>40.0</td>\n",
       "      <td>Pydock</td>\n",
       "    </tr>\n",
       "    <tr>\n",
       "      <th>2</th>\n",
       "      <td>CODES-3K</td>\n",
       "      <td>7.3</td>\n",
       "      <td>20.0</td>\n",
       "      <td>41.8</td>\n",
       "      <td>Pydock</td>\n",
       "    </tr>\n",
       "    <tr>\n",
       "      <th>3</th>\n",
       "      <td>CODES-10K</td>\n",
       "      <td>7.3</td>\n",
       "      <td>18.2</td>\n",
       "      <td>41.8</td>\n",
       "      <td>Pydock</td>\n",
       "    </tr>\n",
       "    <tr>\n",
       "      <th>4</th>\n",
       "      <td>IRAPPA</td>\n",
       "      <td>18.0</td>\n",
       "      <td>40.0</td>\n",
       "      <td>55.0</td>\n",
       "      <td>Pydock</td>\n",
       "    </tr>\n",
       "    <tr>\n",
       "      <th>5</th>\n",
       "      <td>Zdock</td>\n",
       "      <td>5.5</td>\n",
       "      <td>20.0</td>\n",
       "      <td>36.4</td>\n",
       "      <td>Zdock</td>\n",
       "    </tr>\n",
       "    <tr>\n",
       "      <th>6</th>\n",
       "      <td>CODES-T500</td>\n",
       "      <td>14.5</td>\n",
       "      <td>30.9</td>\n",
       "      <td>41.8</td>\n",
       "      <td>Zdock</td>\n",
       "    </tr>\n",
       "    <tr>\n",
       "      <th>7</th>\n",
       "      <td>CODES-3K</td>\n",
       "      <td>10.9</td>\n",
       "      <td>25.5</td>\n",
       "      <td>43.6</td>\n",
       "      <td>Zdock</td>\n",
       "    </tr>\n",
       "    <tr>\n",
       "      <th>8</th>\n",
       "      <td>CODES-10K</td>\n",
       "      <td>10.9</td>\n",
       "      <td>20.0</td>\n",
       "      <td>38.2</td>\n",
       "      <td>Zdock</td>\n",
       "    </tr>\n",
       "    <tr>\n",
       "      <th>9</th>\n",
       "      <td>IRAPPA</td>\n",
       "      <td>20.0</td>\n",
       "      <td>29.0</td>\n",
       "      <td>45.0</td>\n",
       "      <td>Zdock</td>\n",
       "    </tr>\n",
       "    <tr>\n",
       "      <th>10</th>\n",
       "      <td>Swarmdock</td>\n",
       "      <td>16.0</td>\n",
       "      <td>38.0</td>\n",
       "      <td>67.0</td>\n",
       "      <td>Swardock</td>\n",
       "    </tr>\n",
       "    <tr>\n",
       "      <th>11</th>\n",
       "      <td>CODES-T500</td>\n",
       "      <td>14.5</td>\n",
       "      <td>25.5</td>\n",
       "      <td>49.1</td>\n",
       "      <td>Swardock</td>\n",
       "    </tr>\n",
       "    <tr>\n",
       "      <th>12</th>\n",
       "      <td>IRAPPA</td>\n",
       "      <td>22.0</td>\n",
       "      <td>45.0</td>\n",
       "      <td>69.0</td>\n",
       "      <td>Swardock</td>\n",
       "    </tr>\n",
       "    <tr>\n",
       "      <th>13</th>\n",
       "      <td>CODES-T500</td>\n",
       "      <td>11.0</td>\n",
       "      <td>31.0</td>\n",
       "      <td>47.0</td>\n",
       "      <td>Test</td>\n",
       "    </tr>\n",
       "  </tbody>\n",
       "</table>\n",
       "</div>"
      ],
      "text/plain": [
       "       Scoring  Top1  Top10  Top100    Method\n",
       "0       Pydock   7.3   20.0    41.8    Pydock\n",
       "1   CODES-T500   3.6   16.4    40.0    Pydock\n",
       "2     CODES-3K   7.3   20.0    41.8    Pydock\n",
       "3    CODES-10K   7.3   18.2    41.8    Pydock\n",
       "4       IRAPPA  18.0   40.0    55.0    Pydock\n",
       "5        Zdock   5.5   20.0    36.4     Zdock\n",
       "6   CODES-T500  14.5   30.9    41.8     Zdock\n",
       "7     CODES-3K  10.9   25.5    43.6     Zdock\n",
       "8    CODES-10K  10.9   20.0    38.2     Zdock\n",
       "9       IRAPPA  20.0   29.0    45.0     Zdock\n",
       "10   Swarmdock  16.0   38.0    67.0  Swardock\n",
       "11  CODES-T500  14.5   25.5    49.1  Swardock\n",
       "12      IRAPPA  22.0   45.0    69.0  Swardock\n",
       "13  CODES-T500  11.0   31.0    47.0      Test"
      ]
     },
     "execution_count": 3,
     "metadata": {},
     "output_type": "execute_result"
    }
   ],
   "source": [
    "my_data"
   ]
  },
  {
   "cell_type": "code",
   "execution_count": 4,
   "id": "centered-miracle",
   "metadata": {},
   "outputs": [],
   "source": [
    "my_data.set_index(\"Scoring\",inplace=True)"
   ]
  },
  {
   "cell_type": "code",
   "execution_count": 5,
   "id": "hungry-director",
   "metadata": {},
   "outputs": [
    {
     "data": {
      "text/plain": [
       "<AxesSubplot:xlabel='Scoring'>"
      ]
     },
     "execution_count": 5,
     "metadata": {},
     "output_type": "execute_result"
    },
    {
     "data": {
      "image/png": "[encoded data removed]",
      "text/plain": [
       "<Figure size 432x288 with 1 Axes>"
      ]
     },
     "metadata": {
      "needs_background": "light"
     },
     "output_type": "display_data"
    }
   ],
   "source": [
    "# sns.barplot(data=my_data[my_data[\"Method\"]==\"Pydock\"])\n",
    "# sns.barplot(data=my_data[my_data[\"Method\"]==\"Zdock\"])\n",
    "# sns.barplot(data=my_data[my_data[\"Method\"]==\"Swardock\"],hue=my_data.index)\n",
    "my_data[my_data[\"Method\"]==\"Pydock\"].plot(kind=\"bar\",color=['#C0C0C0','#A9A9A9','#808080'])"
   ]
  },
  {
   "cell_type": "code",
   "execution_count": 6,
   "id": "rough-hormone",
   "metadata": {},
   "outputs": [
    {
     "data": {
      "text/plain": [
       "<AxesSubplot:xlabel='Scoring'>"
      ]
     },
     "execution_count": 6,
     "metadata": {},
     "output_type": "execute_result"
    },
    {
     "data": {
      "image/png": "[encoded data removed]",
      "text/plain": [
       "<Figure size 432x288 with 1 Axes>"
      ]
     },
     "metadata": {
      "needs_background": "light"
     },
     "output_type": "display_data"
    }
   ],
   "source": [
    "my_data[my_data[\"Method\"]==\"Zdock\"].plot(kind=\"bar\",color=['#C0C0C0','#A9A9A9','#808080'])"
   ]
  },
  {
   "cell_type": "code",
   "execution_count": 7,
   "id": "dedicated-standard",
   "metadata": {},
   "outputs": [
    {
     "data": {
      "text/plain": [
       "<AxesSubplot:xlabel=' '>"
      ]
     },
     "execution_count": 7,
     "metadata": {},
     "output_type": "execute_result"
    },
    {
     "data": {
      "image/png": "[encoded data removed]",
      "text/plain": [
       "<Figure size 432x288 with 1 Axes>"
      ]
     },
     "metadata": {
      "needs_background": "light"
     },
     "output_type": "display_data"
    }
   ],
   "source": [
    "my_data[my_data[\"Method\"]==\"Swardock\"].plot(xlabel=\" \",kind=\"bar\",color=['#C0C0C0','#A9A9A9','#808080'],rot=0)"
   ]
  },
  {
   "cell_type": "code",
   "execution_count": 8,
   "id": "linear-empty",
   "metadata": {},
   "outputs": [
    {
     "data": {
      "image/png": "[encoded data removed]",
      "text/plain": [
       "<Figure size 360x576 with 3 Axes>"
      ]
     },
     "metadata": {
      "needs_background": "light"
     },
     "output_type": "display_data"
    }
   ],
   "source": [
    "fig, ((ax1, ax2, ax3) ) = plt.subplots(3,1 , sharex=False\n",
    "                                ,sharey=True\n",
    "                                ,figsize=( 5 , 8 )\n",
    "#                                          \n",
    "                               )\n",
    "my_data[my_data[\"Method\"]==\"Pydock\"].plot(ax=ax1,title=\"A) Pydock\",\n",
    "                                          rot=0 ,\n",
    "                                          kind=\"bar\",\n",
    "                                          color=['#C0C0C0','#A9A9A9','#808080'],\n",
    "                                          xlabel=\"\")\n",
    "my_data[my_data[\"Method\"]==\"Zdock\"].plot(ax=ax2,title=\"B) Zdock\",\n",
    "                                         rot=0 ,\n",
    "                                         kind=\"bar\",\n",
    "                                         color=['#C0C0C0','#A9A9A9','#808080'],\n",
    "                                         legend=False,\n",
    "                                        xlabel=\"\")\n",
    "\n",
    "                                        \n",
    "my_data[my_data[\"Method\"]==\"Swardock\"].plot(ax=ax3, title=\"C) Swardock\",\n",
    "                                            rot=0,\n",
    "                                            kind=\"bar\",\n",
    "                                            color=['#C0C0C0','#A9A9A9','#808080'],\n",
    "                                            legend=False)\n",
    "\n",
    "plt.ylabel(\"Percentage\")\n",
    "plt.tight_layout()\n",
    "# plt.savefig(\"../success_rate_CODES_vs_IRAPPA.eps\")"
   ]
  },
  {
   "cell_type": "code",
   "execution_count": 9,
   "id": "split-diversity",
   "metadata": {},
   "outputs": [],
   "source": [
    "my_data = pd.read_csv(\"success_rate_RFC_bm5_normal_docking.csv\")"
   ]
  },
  {
   "cell_type": "code",
   "execution_count": 10,
   "id": "abstract-sailing",
   "metadata": {},
   "outputs": [],
   "source": [
    "my_data.sort_values(\"Top10\", inplace=True)\n",
    "# my_data.set_index(\"Scoring\", inplace=True)"
   ]
  },
  {
   "cell_type": "code",
   "execution_count": 11,
   "id": "liked-romance",
   "metadata": {},
   "outputs": [],
   "source": [
    "my_data[\"Scoring\"] = ['Pydock',\n",
    " 'Zdock',\n",
    " 'IRAPPA\\nZdock',\n",
    " 'CODES',\n",
    " 'Swarmdock',\n",
    " 'IRAPPA\\nPydock',\n",
    " 'IRAPPA\\nSwardock']"
   ]
  },
  {
   "cell_type": "code",
   "execution_count": 12,
   "id": "united-bathroom",
   "metadata": {},
   "outputs": [],
   "source": [
    "my_data.set_index(\"Scoring\", inplace=True)"
   ]
  },
  {
   "cell_type": "code",
   "execution_count": 13,
   "id": "promising-drill",
   "metadata": {},
   "outputs": [
    {
     "data": {
      "image/png": "[encoded data removed]",
      "text/plain": [
       "<Figure size 432x288 with 1 Axes>"
      ]
     },
     "metadata": {
      "needs_background": "light"
     },
     "output_type": "display_data"
    }
   ],
   "source": [
    "my_data[\"Top10\"].plot(\n",
    "                                            rot=0,\n",
    "                                            kind=\"bar\",\n",
    "                                            color=['#A9A9A9']\n",
    "#                                             legend=False\n",
    "            )\n",
    "plt.ylabel(\"Percentage\")\n",
    "plt.tight_layout()\n",
    "# plt.savefig(\"../success_rate_CODES_combines.eps\")"
   ]
  },
  {
   "cell_type": "code",
   "execution_count": 14,
   "id": "liquid-domestic",
   "metadata": {},
   "outputs": [],
   "source": [
    "# sns.barplot(x=my_data.index,y=\"Top10\",data=my_data)"
   ]
  },
  {
   "cell_type": "code",
   "execution_count": 15,
   "id": "varying-thirty",
   "metadata": {},
   "outputs": [],
   "source": [
    "#read the data from the file in the ../data folder\n",
    "my_data = pd.read_csv(\"../data/success_rate_haikal_4.csv\")"
   ]
  },
  {
   "cell_type": "code",
   "execution_count": 16,
   "id": "1405a434",
   "metadata": {},
   "outputs": [],
   "source": [
    "my_data[my_data[\"Dataset\"]==\"3K-BM5up\"].sort_values([\"T10\",\"T1\"],ascending=False).head(n=10).to_excel(\"../data/success_rate_haikal_3_top10.xlsx\")"
   ]
  },
  {
   "cell_type": "code",
   "execution_count": 17,
   "id": "1e363e3d",
   "metadata": {},
   "outputs": [],
   "source": [
    "my_data[my_data[\"Dataset\"]==\"Score_set\"].sort_values([\"T10\",\"T1\"],ascending=False).head(n=10).to_excel(\"../data/success_rate_haikal_3_score_set.xlsx\")"
   ]
  },
  {
   "cell_type": "code",
   "execution_count": 18,
   "id": "29454be1",
   "metadata": {},
   "outputs": [],
   "source": [
    "meth_one = my_data[my_data[\"Dataset\"]==\"3K-BM5up\"].sort_values([\"T10\",\"T1\"],ascending=False).head(n=10)[\"Method\"].to_list()"
   ]
  },
  {
   "cell_type": "code",
   "execution_count": 19,
   "id": "4ad199ba",
   "metadata": {},
   "outputs": [],
   "source": [
    "meth_two = my_data[my_data[\"Dataset\"]==\"Score_set\"].sort_values([\"T10\",\"T1\"],ascending=False).head(n=10)[\"Method\"].to_list()"
   ]
  },
  {
   "cell_type": "code",
   "execution_count": 20,
   "id": "46de3ab3",
   "metadata": {},
   "outputs": [
    {
     "name": "stderr",
     "output_type": "stream",
     "text": [
      "The PostScript backend does not support transparency; partially transparent artists will be rendered opaque.\n"
     ]
    },
    {
     "data": {
      "image/png": "[encoded data removed]",
      "text/plain": [
       "<Figure size 360x576 with 2 Axes>"
      ]
     },
     "metadata": {
      "needs_background": "light"
     },
     "output_type": "display_data"
    }
   ],
   "source": [
    "fig, ((ax1, ax2) ) = plt.subplots(2,1 , sharex=False\n",
    "                                ,sharey=True\n",
    "                                ,figsize=( 5 , 8 )\n",
    "#                                          \n",
    "                               )\n",
    "my_data[my_data[\"Dataset\"]==\"3K-BM5up\"].sort_values([\"T10\",\"T1\"],ascending=False).head(n=10).plot(ax=ax1,title=\"A) 3K-BM5up\",\n",
    "#my_data[my_data[\"Dataset\"]==\"3K-BM5up\"].plot(ax=ax1,title=\"A) 3K-BM5up\",\n",
    "                                          rot=0 ,\n",
    "                                          kind=\"bar\",\n",
    "                                          # color=['red','black','gold'],\n",
    "                                          # color=['#C0C0C0','#A9A9A9','#808080'],\n",
    "                                        #   xlabel=\"\"\n",
    "                                          )\n",
    "my_data[my_data[\"Dataset\"]==\"Score_set\"].sort_values([\"T10\",\"T1\"],ascending=False).head(n=10).plot(ax=ax2,title=\"B) Score_set\",\n",
    "#my_data[my_data[\"Dataset\"]==\"Score_set\"].plot(ax=ax2,title=\"B) Score_set\",\n",
    "                                         rot=0 ,\n",
    "                                         kind=\"bar\",\n",
    "                                        #  color=['#C0C0C0','#A9A9A9','#808080'],\n",
    "                                         legend=False,\n",
    "                                        # xlabel=\"\"\n",
    "                                        )\n",
    "\n",
    "                                        \n",
    "# my_data[my_data[\"Method\"]==\"Swardock\"].plot(ax=ax3, title=\"C) Swardock\",\n",
    "#                                             rot=0,\n",
    "#                                             kind=\"bar\",\n",
    "#                                             color=['#C0C0C0','#A9A9A9','#808080'],\n",
    "#                                             legend=False)\n",
    "ax1.set_ylabel(\"Percentage\")\n",
    "ax2.set_ylabel(\"Percentage\")\n",
    "ax1.set_xticklabels(meth_one,rotation=90)\n",
    "ax2.set_xticklabels(meth_two,rotation=90)\n",
    "ax1.legend(bbox_to_anchor=(1.05, 1), loc=2, borderaxespad=0.)\n",
    "ax2.legend(bbox_to_anchor=(1.05, 1), loc=2, borderaxespad=0.)\n",
    "plt.tight_layout()\n",
    "plt.savefig(\"figures/success_rate_hAIkal.eps\")\n",
    "plt.savefig(\"figures/success_rate_hAIkal.png\",dpi=300,bbox_inches=\"tight\",transparent=True)"
   ]
  },
  {
   "cell_type": "code",
   "execution_count": 21,
   "id": "a472b3ec",
   "metadata": {},
   "outputs": [],
   "source": [
    "my_data[my_data[\"Dataset\"]==\"3K-BM5up\"].sort_values([\"T10\",\"T1\"],ascending=False).to_excel(\"../data/success_rate_haikal_3K-BM5up_complete.xlsx\")\n",
    "my_data[my_data[\"Dataset\"]==\"Score_set\"].sort_values([\"T10\",\"T1\"],ascending=False).to_excel(\"../data/success_rate_haikal_Score_set_complete.xlsx\")"
   ]
  },
  {
   "cell_type": "code",
   "execution_count": 22,
   "id": "ef047bf8",
   "metadata": {},
   "outputs": [],
   "source": [
    "score_set = '../data/success_rate_Score_set_may_2022.csv'\n",
    "bm5 = '../data/success_rate_bm5up_2022.csv'"
   ]
  },
  {
   "cell_type": "code",
   "execution_count": 23,
   "id": "452dc43a",
   "metadata": {},
   "outputs": [],
   "source": [
    "score_set = pd.read_csv(score_set).sort_values([\"Top10\",\"Top1\"],ascending=False)\n",
    "bm5 = pd.read_csv(bm5).sort_values([\"Top10\",\"Top1\"],ascending=False)\n"
   ]
  },
  {
   "cell_type": "code",
   "execution_count": 24,
   "id": "cb4476d3",
   "metadata": {},
   "outputs": [],
   "source": [
    "bm5.dropna(axis=1,inplace=True)\n",
    "score_set.dropna(axis=1,inplace=True)"
   ]
  },
  {
   "cell_type": "code",
   "execution_count": 25,
   "id": "910fede9",
   "metadata": {},
   "outputs": [],
   "source": [
    "meth_one = bm5[\"Method\"].to_list()\n",
    "meth_two = score_set[\"Method\"].to_list()"
   ]
  },
  {
   "cell_type": "code",
   "execution_count": 26,
   "id": "e0993219",
   "metadata": {},
   "outputs": [],
   "source": [
    "bm5.set_index(\"Method\",inplace=True)\n",
    "score_set.set_index(\"Method\",inplace=True)"
   ]
  },
  {
   "cell_type": "code",
   "execution_count": 27,
   "id": "b63a4636",
   "metadata": {},
   "outputs": [
    {
     "data": {
      "image/png": "[encoded data removed]",
      "text/plain": [
       "<Figure size 576x288 with 2 Axes>"
      ]
     },
     "metadata": {
      "needs_background": "light"
     },
     "output_type": "display_data"
    }
   ],
   "source": [
    "# fig, ((ax1, ax2) ) = plt.subplots(2,1 , sharex=False\n",
    "fig, ((ax1, ax2) ) = plt.subplots(1,2 , sharex=False\n",
    "\n",
    "                                ,sharey=True\n",
    "                                ,figsize=( 8 , 4 )\n",
    "\n",
    "                                # ,figsize=( 10 , 8 )\n",
    ")\n",
    "\n",
    "\n",
    "bm5.head(n=20).plot(ax=ax1,title=\"A) 3K-BM5up\",\n",
    "#my_data[my_data[\"Dataset\"]==\"Score_set\"].plot(ax=ax2,title=\"B) Score_set\",\n",
    "                                         rot=0 ,\n",
    "                                         kind=\"bar\",\n",
    "                                        #  color=['#C0C0C0','#A9A9A9','#808080'],\n",
    "                                         legend=False,\n",
    "                                        # xlabel=\"\"\n",
    "                                        )\n",
    "\n",
    "score_set.head(n=20).plot(ax=ax2,title=\"B) Score_set\",\n",
    "#my_data[my_data[\"Dataset\"]==\"Score_set\"].plot(ax=ax2,title=\"B) Score_set\",\n",
    "                                         rot=0 ,\n",
    "                                         kind=\"bar\",\n",
    "                                         # three colors for the three datasets \n",
    "                                        #  color=['#FF0000','#9400D3','#800080'],\n",
    "                                         legend=False,\n",
    "                                        # xlabel=\"\"\n",
    "                                        )\n",
    "                                    \n",
    "\n",
    "\n",
    "\n",
    "ax1.set_ylabel(\"Percentage\")\n",
    "ax2.set_ylabel(\"Percentage\")\n",
    "ax1.set_xlabel(\"\")\n",
    "ax2.set_xlabel(\"\")\n",
    "ax1.set_xticklabels(meth_one[:20],rotation=90)\n",
    "ax2.set_xticklabels(meth_two[:20],rotation=90)\n",
    "# ax1.legend(bbox_to_anchor=(1.05, 1), loc=2, borderaxespad=0.)\n",
    "ax2.legend(bbox_to_anchor=(1.05, 1), loc=2, borderaxespad=0.)\n",
    "# ax1.xticks(rotation=90)\n",
    "\n",
    "plt.tight_layout()\n",
    "plt.savefig(\"figures/success_rate_hAIkal_20.svg\")\n",
    "# plt.savefig(\"figures/success_rate_hAIkal_20.png\",dpi=300,bbox_inches=\"tight\",transparent=True)"
   ]
  },
  {
   "cell_type": "code",
   "execution_count": 28,
   "id": "a65226f8",
   "metadata": {},
   "outputs": [
    {
     "data": {
      "text/html": [
       "<div>\n",
       "<style scoped>\n",
       "    .dataframe tbody tr th:only-of-type {\n",
       "        vertical-align: middle;\n",
       "    }\n",
       "\n",
       "    .dataframe tbody tr th {\n",
       "        vertical-align: top;\n",
       "    }\n",
       "\n",
       "    .dataframe thead th {\n",
       "        text-align: right;\n",
       "    }\n",
       "</style>\n",
       "<table border=\"1\" class=\"dataframe\">\n",
       "  <thead>\n",
       "    <tr style=\"text-align: right;\">\n",
       "      <th></th>\n",
       "      <th>Top1</th>\n",
       "      <th>Top10</th>\n",
       "      <th>Top100</th>\n",
       "    </tr>\n",
       "    <tr>\n",
       "      <th>Method</th>\n",
       "      <th></th>\n",
       "      <th></th>\n",
       "      <th></th>\n",
       "    </tr>\n",
       "  </thead>\n",
       "  <tbody>\n",
       "    <tr>\n",
       "      <th>RF-hAIkal</th>\n",
       "      <td>50.00</td>\n",
       "      <td>55.77</td>\n",
       "      <td>69.23</td>\n",
       "    </tr>\n",
       "    <tr>\n",
       "      <th>PRC-hAIkal</th>\n",
       "      <td>43.64</td>\n",
       "      <td>54.55</td>\n",
       "      <td>69.09</td>\n",
       "    </tr>\n",
       "    <tr>\n",
       "      <th>RF-core</th>\n",
       "      <td>32.73</td>\n",
       "      <td>54.55</td>\n",
       "      <td>69.09</td>\n",
       "    </tr>\n",
       "    <tr>\n",
       "      <th>PRC-core</th>\n",
       "      <td>43.64</td>\n",
       "      <td>50.91</td>\n",
       "      <td>56.36</td>\n",
       "    </tr>\n",
       "    <tr>\n",
       "      <th>CP_TSC</th>\n",
       "      <td>14.55</td>\n",
       "      <td>49.09</td>\n",
       "      <td>65.45</td>\n",
       "    </tr>\n",
       "    <tr>\n",
       "      <th>AP_T1</th>\n",
       "      <td>18.18</td>\n",
       "      <td>47.27</td>\n",
       "      <td>69.09</td>\n",
       "    </tr>\n",
       "    <tr>\n",
       "      <th>TF-core</th>\n",
       "      <td>30.91</td>\n",
       "      <td>43.64</td>\n",
       "      <td>65.45</td>\n",
       "    </tr>\n",
       "    <tr>\n",
       "      <th>TF-hAIkal</th>\n",
       "      <td>29.09</td>\n",
       "      <td>41.82</td>\n",
       "      <td>69.09</td>\n",
       "    </tr>\n",
       "    <tr>\n",
       "      <th>AP_PISA</th>\n",
       "      <td>21.82</td>\n",
       "      <td>41.82</td>\n",
       "      <td>67.27</td>\n",
       "    </tr>\n",
       "    <tr>\n",
       "      <th>ZRANK</th>\n",
       "      <td>21.82</td>\n",
       "      <td>40.00</td>\n",
       "      <td>67.27</td>\n",
       "    </tr>\n",
       "    <tr>\n",
       "      <th>CP_BT</th>\n",
       "      <td>20.00</td>\n",
       "      <td>40.00</td>\n",
       "      <td>60.00</td>\n",
       "    </tr>\n",
       "    <tr>\n",
       "      <th>AP_T2</th>\n",
       "      <td>18.18</td>\n",
       "      <td>40.00</td>\n",
       "      <td>61.82</td>\n",
       "    </tr>\n",
       "    <tr>\n",
       "      <th>AP_GEOMETRIC</th>\n",
       "      <td>16.36</td>\n",
       "      <td>40.00</td>\n",
       "      <td>63.64</td>\n",
       "    </tr>\n",
       "    <tr>\n",
       "      <th>CP_TB</th>\n",
       "      <td>16.36</td>\n",
       "      <td>40.00</td>\n",
       "      <td>63.64</td>\n",
       "    </tr>\n",
       "    <tr>\n",
       "      <th>CP_MJ2h</th>\n",
       "      <td>14.55</td>\n",
       "      <td>40.00</td>\n",
       "      <td>63.64</td>\n",
       "    </tr>\n",
       "    <tr>\n",
       "      <th>CP_Qp</th>\n",
       "      <td>12.73</td>\n",
       "      <td>40.00</td>\n",
       "      <td>67.27</td>\n",
       "    </tr>\n",
       "    <tr>\n",
       "      <th>CP_TS</th>\n",
       "      <td>9.09</td>\n",
       "      <td>40.00</td>\n",
       "      <td>67.27</td>\n",
       "    </tr>\n",
       "    <tr>\n",
       "      <th>CP_HLPL</th>\n",
       "      <td>18.18</td>\n",
       "      <td>38.18</td>\n",
       "      <td>69.09</td>\n",
       "    </tr>\n",
       "    <tr>\n",
       "      <th>CP_BFKV</th>\n",
       "      <td>18.18</td>\n",
       "      <td>36.36</td>\n",
       "      <td>61.82</td>\n",
       "    </tr>\n",
       "    <tr>\n",
       "      <th>CP_TD</th>\n",
       "      <td>9.09</td>\n",
       "      <td>36.36</td>\n",
       "      <td>54.55</td>\n",
       "    </tr>\n",
       "    <tr>\n",
       "      <th>CONSRANK</th>\n",
       "      <td>32.73</td>\n",
       "      <td>34.55</td>\n",
       "      <td>41.82</td>\n",
       "    </tr>\n",
       "  </tbody>\n",
       "</table>\n",
       "</div>"
      ],
      "text/plain": [
       "               Top1  Top10  Top100\n",
       "Method                            \n",
       "RF-hAIkal     50.00  55.77   69.23\n",
       "PRC-hAIkal    43.64  54.55   69.09\n",
       "RF-core       32.73  54.55   69.09\n",
       "PRC-core      43.64  50.91   56.36\n",
       "CP_TSC        14.55  49.09   65.45\n",
       "AP_T1         18.18  47.27   69.09\n",
       "TF-core       30.91  43.64   65.45\n",
       "TF-hAIkal     29.09  41.82   69.09\n",
       "AP_PISA       21.82  41.82   67.27\n",
       "ZRANK         21.82  40.00   67.27\n",
       "CP_BT         20.00  40.00   60.00\n",
       "AP_T2         18.18  40.00   61.82\n",
       "AP_GEOMETRIC  16.36  40.00   63.64\n",
       "CP_TB         16.36  40.00   63.64\n",
       "CP_MJ2h       14.55  40.00   63.64\n",
       "CP_Qp         12.73  40.00   67.27\n",
       "CP_TS          9.09  40.00   67.27\n",
       "CP_HLPL       18.18  38.18   69.09\n",
       "CP_BFKV       18.18  36.36   61.82\n",
       "CP_TD          9.09  36.36   54.55\n",
       "CONSRANK      32.73  34.55   41.82"
      ]
     },
     "execution_count": 28,
     "metadata": {},
     "output_type": "execute_result"
    }
   ],
   "source": [
    "bm5.head(n=21)"
   ]
  },
  {
   "cell_type": "code",
   "execution_count": 29,
   "id": "60aafd32",
   "metadata": {},
   "outputs": [
    {
     "data": {
      "text/html": [
       "<div>\n",
       "<style scoped>\n",
       "    .dataframe tbody tr th:only-of-type {\n",
       "        vertical-align: middle;\n",
       "    }\n",
       "\n",
       "    .dataframe tbody tr th {\n",
       "        vertical-align: top;\n",
       "    }\n",
       "\n",
       "    .dataframe thead th {\n",
       "        text-align: right;\n",
       "    }\n",
       "</style>\n",
       "<table border=\"1\" class=\"dataframe\">\n",
       "  <thead>\n",
       "    <tr style=\"text-align: right;\">\n",
       "      <th></th>\n",
       "      <th>Top1</th>\n",
       "      <th>Top10</th>\n",
       "      <th>Top100</th>\n",
       "    </tr>\n",
       "    <tr>\n",
       "      <th>Method</th>\n",
       "      <th></th>\n",
       "      <th></th>\n",
       "      <th></th>\n",
       "    </tr>\n",
       "  </thead>\n",
       "  <tbody>\n",
       "    <tr>\n",
       "      <th>TF-hAIkal</th>\n",
       "      <td>26.67</td>\n",
       "      <td>66.67</td>\n",
       "      <td>66.67</td>\n",
       "    </tr>\n",
       "    <tr>\n",
       "      <th>AP_PISA</th>\n",
       "      <td>40.00</td>\n",
       "      <td>53.33</td>\n",
       "      <td>66.67</td>\n",
       "    </tr>\n",
       "    <tr>\n",
       "      <th>RF-hAIkal</th>\n",
       "      <td>33.33</td>\n",
       "      <td>53.33</td>\n",
       "      <td>60.00</td>\n",
       "    </tr>\n",
       "    <tr>\n",
       "      <th>TF-Core</th>\n",
       "      <td>20.00</td>\n",
       "      <td>53.33</td>\n",
       "      <td>66.67</td>\n",
       "    </tr>\n",
       "    <tr>\n",
       "      <th>PRC-core</th>\n",
       "      <td>40.00</td>\n",
       "      <td>46.67</td>\n",
       "      <td>53.33</td>\n",
       "    </tr>\n",
       "    <tr>\n",
       "      <th>AP_T2</th>\n",
       "      <td>33.33</td>\n",
       "      <td>46.67</td>\n",
       "      <td>53.33</td>\n",
       "    </tr>\n",
       "    <tr>\n",
       "      <th>RF-core</th>\n",
       "      <td>33.33</td>\n",
       "      <td>46.67</td>\n",
       "      <td>53.33</td>\n",
       "    </tr>\n",
       "    <tr>\n",
       "      <th>CP_TB</th>\n",
       "      <td>26.67</td>\n",
       "      <td>46.67</td>\n",
       "      <td>80.00</td>\n",
       "    </tr>\n",
       "    <tr>\n",
       "      <th>AP_T1</th>\n",
       "      <td>20.00</td>\n",
       "      <td>46.67</td>\n",
       "      <td>53.33</td>\n",
       "    </tr>\n",
       "    <tr>\n",
       "      <th>ZRANK2</th>\n",
       "      <td>20.00</td>\n",
       "      <td>46.67</td>\n",
       "      <td>60.00</td>\n",
       "    </tr>\n",
       "    <tr>\n",
       "      <th>CP_BT</th>\n",
       "      <td>13.33</td>\n",
       "      <td>46.67</td>\n",
       "      <td>60.00</td>\n",
       "    </tr>\n",
       "    <tr>\n",
       "      <th>CP_D1</th>\n",
       "      <td>13.33</td>\n",
       "      <td>46.67</td>\n",
       "      <td>66.67</td>\n",
       "    </tr>\n",
       "    <tr>\n",
       "      <th>CP_TSC</th>\n",
       "      <td>13.33</td>\n",
       "      <td>46.67</td>\n",
       "      <td>73.33</td>\n",
       "    </tr>\n",
       "    <tr>\n",
       "      <th>AP_DCOMPLEX</th>\n",
       "      <td>6.67</td>\n",
       "      <td>46.67</td>\n",
       "      <td>60.00</td>\n",
       "    </tr>\n",
       "    <tr>\n",
       "      <th>ODA</th>\n",
       "      <td>6.67</td>\n",
       "      <td>46.67</td>\n",
       "      <td>53.33</td>\n",
       "    </tr>\n",
       "    <tr>\n",
       "      <th>CONSRANK</th>\n",
       "      <td>26.67</td>\n",
       "      <td>40.00</td>\n",
       "      <td>46.67</td>\n",
       "    </tr>\n",
       "    <tr>\n",
       "      <th>CP_VD</th>\n",
       "      <td>26.67</td>\n",
       "      <td>40.00</td>\n",
       "      <td>60.00</td>\n",
       "    </tr>\n",
       "    <tr>\n",
       "      <th>PRC-hAIkal</th>\n",
       "      <td>26.67</td>\n",
       "      <td>40.00</td>\n",
       "      <td>53.33</td>\n",
       "    </tr>\n",
       "    <tr>\n",
       "      <th>AP_OPUS_PSP</th>\n",
       "      <td>20.00</td>\n",
       "      <td>40.00</td>\n",
       "      <td>60.00</td>\n",
       "    </tr>\n",
       "    <tr>\n",
       "      <th>CP_DDG_W</th>\n",
       "      <td>20.00</td>\n",
       "      <td>40.00</td>\n",
       "      <td>86.67</td>\n",
       "    </tr>\n",
       "  </tbody>\n",
       "</table>\n",
       "</div>"
      ],
      "text/plain": [
       "              Top1  Top10  Top100\n",
       "Method                           \n",
       "TF-hAIkal    26.67  66.67   66.67\n",
       "AP_PISA      40.00  53.33   66.67\n",
       "RF-hAIkal    33.33  53.33   60.00\n",
       "TF-Core      20.00  53.33   66.67\n",
       "PRC-core     40.00  46.67   53.33\n",
       "AP_T2        33.33  46.67   53.33\n",
       "RF-core      33.33  46.67   53.33\n",
       "CP_TB        26.67  46.67   80.00\n",
       "AP_T1        20.00  46.67   53.33\n",
       "ZRANK2       20.00  46.67   60.00\n",
       "CP_BT        13.33  46.67   60.00\n",
       "CP_D1        13.33  46.67   66.67\n",
       "CP_TSC       13.33  46.67   73.33\n",
       "AP_DCOMPLEX   6.67  46.67   60.00\n",
       "ODA           6.67  46.67   53.33\n",
       "CONSRANK     26.67  40.00   46.67\n",
       "CP_VD        26.67  40.00   60.00\n",
       "PRC-hAIkal   26.67  40.00   53.33\n",
       "AP_OPUS_PSP  20.00  40.00   60.00\n",
       "CP_DDG_W     20.00  40.00   86.67"
      ]
     },
     "execution_count": 29,
     "metadata": {},
     "output_type": "execute_result"
    }
   ],
   "source": [
    "score_set.head(n=20)"
   ]
  },
  {
   "cell_type": "code",
   "execution_count": null,
   "id": "3968f3b4",
   "metadata": {},
   "outputs": [],
   "source": []
  }
 ],
 "metadata": {
  "kernelspec": {
   "display_name": "Python 3.10.5 ('Data_Sci')",
   "language": "python",
   "name": "python3"
  },
  "language_info": {
   "codemirror_mode": {
    "name": "ipython",
    "version": 3
   },
   "file_extension": ".py",
   "mimetype": "text/x-python",
   "name": "python",
   "nbconvert_exporter": "python",
   "pygments_lexer": "ipython3",
   "version": "3.1.0"
  },
  "vscode": {
   "interpreter": {
    "hash": "ed613bbbaaea2be7a8cdaab30b05f60eabe871b139a87b9990f5f8ad69aaa52d"
   }
  }
 },
 "nbformat": 4,
 "nbformat_minor": 5
}

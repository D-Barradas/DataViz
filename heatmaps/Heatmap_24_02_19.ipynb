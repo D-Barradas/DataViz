{
 "cells": [
  {
   "cell_type": "code",
   "execution_count": 168,
   "metadata": {},
   "outputs": [],
   "source": [
    "import pandas as pd\n",
    "import seaborn as sns\n",
    "import matplotlib.pyplot as plt\n",
    "import matplotlib"
   ]
  },
  {
   "cell_type": "code",
   "execution_count": 4,
   "metadata": {},
   "outputs": [
    {
     "name": "stdout",
     "output_type": "stream",
     "text": [
      "Collecting xlrd\n",
      "\u001b[?25l  Downloading https://files.pythonhosted.org/packages/b0/16/63576a1a001752e34bf8ea62e367997530dc553b689356b9879339cf45a4/xlrd-1.2.0-py2.py3-none-any.whl (103kB)\n",
      "\u001b[K     |████████████████████████████████| 112kB 421kB/s eta 0:00:01\n",
      "\u001b[?25hInstalling collected packages: xlrd\n",
      "Successfully installed xlrd-1.2.0\n"
     ]
    }
   ],
   "source": [
    "!pip install xlrd"
   ]
  },
  {
   "cell_type": "code",
   "execution_count": 5,
   "metadata": {},
   "outputs": [],
   "source": [
    "df = pd.read_excel(\"my_edited_table.xlsx\")"
   ]
  },
  {
   "cell_type": "code",
   "execution_count": 6,
   "metadata": {},
   "outputs": [],
   "source": [
    "df2 = df[~df [\"Top-1\"].isna()]"
   ]
  },
  {
   "cell_type": "code",
   "execution_count": 7,
   "metadata": {},
   "outputs": [
    {
     "data": {
      "text/html": [
       "<div>\n",
       "<style scoped>\n",
       "    .dataframe tbody tr th:only-of-type {\n",
       "        vertical-align: middle;\n",
       "    }\n",
       "\n",
       "    .dataframe tbody tr th {\n",
       "        vertical-align: top;\n",
       "    }\n",
       "\n",
       "    .dataframe thead th {\n",
       "        text-align: right;\n",
       "    }\n",
       "</style>\n",
       "<table border=\"1\" class=\"dataframe\">\n",
       "  <thead>\n",
       "    <tr style=\"text-align: right;\">\n",
       "      <th></th>\n",
       "      <th>(CAPRI ID)</th>\n",
       "      <th>(CASP ID)</th>\n",
       "      <th>My category</th>\n",
       "      <th>N. models</th>\n",
       "      <th>Method</th>\n",
       "      <th>Top-1</th>\n",
       "      <th>Top-3</th>\n",
       "      <th>Top-5</th>\n",
       "      <th>Top-10</th>\n",
       "    </tr>\n",
       "  </thead>\n",
       "  <tbody>\n",
       "    <tr>\n",
       "      <th>0</th>\n",
       "      <td>T138</td>\n",
       "      <td>T0966</td>\n",
       "      <td>Difficult</td>\n",
       "      <td>1792(1838)*</td>\n",
       "      <td>ClustCR</td>\n",
       "      <td>0</td>\n",
       "      <td>0</td>\n",
       "      <td>0</td>\n",
       "      <td>0</td>\n",
       "    </tr>\n",
       "    <tr>\n",
       "      <th>1</th>\n",
       "      <td>T138</td>\n",
       "      <td>T0966</td>\n",
       "      <td>Difficult</td>\n",
       "      <td>1792(1838)*</td>\n",
       "      <td>ClustCR</td>\n",
       "      <td>0</td>\n",
       "      <td>0</td>\n",
       "      <td>0</td>\n",
       "      <td>0</td>\n",
       "    </tr>\n",
       "    <tr>\n",
       "      <th>2</th>\n",
       "      <td>T139</td>\n",
       "      <td>T0961</td>\n",
       "      <td>Easy</td>\n",
       "      <td>1570</td>\n",
       "      <td>CR</td>\n",
       "      <td>1/1**</td>\n",
       "      <td>3/3**</td>\n",
       "      <td>5/5**</td>\n",
       "      <td>9/1***/8**</td>\n",
       "    </tr>\n",
       "    <tr>\n",
       "      <th>3</th>\n",
       "      <td>T139</td>\n",
       "      <td>T0961</td>\n",
       "      <td>Easy</td>\n",
       "      <td>1570</td>\n",
       "      <td>CR</td>\n",
       "      <td>1/1*</td>\n",
       "      <td>3/2**</td>\n",
       "      <td>5/4**</td>\n",
       "      <td>8/1***/6**</td>\n",
       "    </tr>\n",
       "    <tr>\n",
       "      <th>4</th>\n",
       "      <td>T140</td>\n",
       "      <td>T0973</td>\n",
       "      <td>Easy/Medium</td>\n",
       "      <td>1754</td>\n",
       "      <td>CR</td>\n",
       "      <td>1/1**</td>\n",
       "      <td>3/3**</td>\n",
       "      <td>5/5**</td>\n",
       "      <td>10/10**</td>\n",
       "    </tr>\n",
       "  </tbody>\n",
       "</table>\n",
       "</div>"
      ],
      "text/plain": [
       "  (CAPRI ID) (CASP ID)  My category    N. models   Method  Top-1  Top-3  \\\n",
       "0       T138     T0966    Difficult  1792(1838)*  ClustCR      0      0   \n",
       "1       T138     T0966    Difficult  1792(1838)*  ClustCR      0      0   \n",
       "2       T139     T0961         Easy         1570       CR  1/1**  3/3**   \n",
       "3       T139     T0961         Easy         1570       CR   1/1*  3/2**   \n",
       "4       T140     T0973  Easy/Medium         1754       CR  1/1**  3/3**   \n",
       "\n",
       "   Top-5      Top-10  \n",
       "0      0           0  \n",
       "1      0           0  \n",
       "2  5/5**  9/1***/8**  \n",
       "3  5/4**  8/1***/6**  \n",
       "4  5/5**     10/10**  "
      ]
     },
     "execution_count": 7,
     "metadata": {},
     "output_type": "execute_result"
    }
   ],
   "source": [
    "df2.head()\n"
   ]
  },
  {
   "cell_type": "code",
   "execution_count": 8,
   "metadata": {},
   "outputs": [],
   "source": [
    "#pd.DataFrame.to_excel(df2,\"my_edited_table.xlsx\")"
   ]
  },
  {
   "cell_type": "code",
   "execution_count": 9,
   "metadata": {},
   "outputs": [],
   "source": [
    "def split_count_high(x):\n",
    "    if x != 0:\n",
    "        my_var = x.split(\"/\")\n",
    "        #my_len = len(my_var)\n",
    "        high , med = 0, 0 \n",
    "        \n",
    "        for n in my_var :\n",
    "            #print (n[1:])\n",
    "            if \"***\" == n[1:] :\n",
    "                high = n[0]\n",
    "        return int(high)\n",
    "    else:\n",
    "       # print (\"in else\")\n",
    "        return x\n",
    "        #elif \"**\" == n[1:-1] :\n",
    "        #    med = n[0]\n",
    "\n",
    "def split_count_med(x):\n",
    "    if x != 0:\n",
    "        my_var = x.split(\"/\")\n",
    "        #my_len = len(my_var)\n",
    "        med = 0\n",
    "        \n",
    "        for n in my_var :\n",
    "            #print (n[1:])\n",
    "            if \"**\" == n[1:] :\n",
    "                med = n[0]\n",
    "        return int(med)\n",
    "    else:\n",
    "       # print (\"in else\")\n",
    "        return x\n",
    "        #elif \"**\" == n[1:-1] :\n",
    "        #    med = n[0]\n",
    "\n",
    "def split_count_acc(x):\n",
    "    if x != 0:\n",
    "        my_var = x.split(\"/\")\n",
    "        #my_len = len(my_var)\n",
    "        acc = 0 \n",
    "        \n",
    "        for n in my_var :\n",
    "           # print (n[1:])\n",
    "            if \"*\" == n[1:] :\n",
    "                high = n[0]\n",
    "        return int(acc)\n",
    "    else:\n",
    "       # print (\"in else\")\n",
    "        return x\n",
    "        #elif \"**\" == n[1:-1] :\n",
    "        #    med = n[0]"
   ]
  },
  {
   "cell_type": "code",
   "execution_count": 10,
   "metadata": {},
   "outputs": [],
   "source": [
    "my_colors = {\"***\":\"#9b59b6\" , \"**\":\"#34495e\" , \"*\":\"#2ecc71\" , \"no*\":\"#95a5a6\"} "
   ]
  },
  {
   "cell_type": "code",
   "execution_count": 11,
   "metadata": {},
   "outputs": [],
   "source": [
    "df2[\"T1 High\"]=df2[\"Top-1\"].apply( split_count_high)\n",
    "df2[\"T3 High\"]=df2[\"Top-3\"].apply( split_count_high)\n",
    "df2[\"T5 High\"]=df2[\"Top-5\"].apply( split_count_high)\n",
    "df2[\"T10 High\"]=df2[\"Top-10\"].apply( split_count_high)\n",
    "df2[\"T1 med\"]=df2[\"Top-1\"].apply( split_count_med)\n",
    "df2[\"T3 med\"]=df2[\"Top-3\"].apply( split_count_med)\n",
    "df2[\"T5 med\"]=df2[\"Top-5\"].apply( split_count_med)\n",
    "df2[\"T10 med\"]=df2[\"Top-10\"].apply( split_count_med)"
   ]
  },
  {
   "cell_type": "code",
   "execution_count": 12,
   "metadata": {},
   "outputs": [
    {
     "data": {
      "text/html": [
       "<div>\n",
       "<style scoped>\n",
       "    .dataframe tbody tr th:only-of-type {\n",
       "        vertical-align: middle;\n",
       "    }\n",
       "\n",
       "    .dataframe tbody tr th {\n",
       "        vertical-align: top;\n",
       "    }\n",
       "\n",
       "    .dataframe thead th {\n",
       "        text-align: right;\n",
       "    }\n",
       "</style>\n",
       "<table border=\"1\" class=\"dataframe\">\n",
       "  <thead>\n",
       "    <tr style=\"text-align: right;\">\n",
       "      <th></th>\n",
       "      <th>(CAPRI ID)</th>\n",
       "      <th>(CASP ID)</th>\n",
       "      <th>My category</th>\n",
       "      <th>N. models</th>\n",
       "      <th>Method</th>\n",
       "      <th>Top-1</th>\n",
       "      <th>Top-3</th>\n",
       "      <th>Top-5</th>\n",
       "      <th>Top-10</th>\n",
       "      <th>T1 High</th>\n",
       "      <th>T3 High</th>\n",
       "      <th>T5 High</th>\n",
       "      <th>T10 High</th>\n",
       "      <th>T1 med</th>\n",
       "      <th>T3 med</th>\n",
       "      <th>T5 med</th>\n",
       "      <th>T10 med</th>\n",
       "    </tr>\n",
       "  </thead>\n",
       "  <tbody>\n",
       "    <tr>\n",
       "      <th>0</th>\n",
       "      <td>T138</td>\n",
       "      <td>T0966</td>\n",
       "      <td>Difficult</td>\n",
       "      <td>1792(1838)*</td>\n",
       "      <td>ClustCR</td>\n",
       "      <td>0</td>\n",
       "      <td>0</td>\n",
       "      <td>0</td>\n",
       "      <td>0</td>\n",
       "      <td>0</td>\n",
       "      <td>0</td>\n",
       "      <td>0</td>\n",
       "      <td>0</td>\n",
       "      <td>0</td>\n",
       "      <td>0</td>\n",
       "      <td>0</td>\n",
       "      <td>0</td>\n",
       "    </tr>\n",
       "    <tr>\n",
       "      <th>1</th>\n",
       "      <td>T138</td>\n",
       "      <td>T0966</td>\n",
       "      <td>Difficult</td>\n",
       "      <td>1792(1838)*</td>\n",
       "      <td>ClustCR</td>\n",
       "      <td>0</td>\n",
       "      <td>0</td>\n",
       "      <td>0</td>\n",
       "      <td>0</td>\n",
       "      <td>0</td>\n",
       "      <td>0</td>\n",
       "      <td>0</td>\n",
       "      <td>0</td>\n",
       "      <td>0</td>\n",
       "      <td>0</td>\n",
       "      <td>0</td>\n",
       "      <td>0</td>\n",
       "    </tr>\n",
       "    <tr>\n",
       "      <th>2</th>\n",
       "      <td>T139</td>\n",
       "      <td>T0961</td>\n",
       "      <td>Easy</td>\n",
       "      <td>1570</td>\n",
       "      <td>CR</td>\n",
       "      <td>1/1**</td>\n",
       "      <td>3/3**</td>\n",
       "      <td>5/5**</td>\n",
       "      <td>9/1***/8**</td>\n",
       "      <td>0</td>\n",
       "      <td>0</td>\n",
       "      <td>0</td>\n",
       "      <td>1</td>\n",
       "      <td>1</td>\n",
       "      <td>3</td>\n",
       "      <td>5</td>\n",
       "      <td>8</td>\n",
       "    </tr>\n",
       "    <tr>\n",
       "      <th>3</th>\n",
       "      <td>T139</td>\n",
       "      <td>T0961</td>\n",
       "      <td>Easy</td>\n",
       "      <td>1570</td>\n",
       "      <td>CR</td>\n",
       "      <td>1/1*</td>\n",
       "      <td>3/2**</td>\n",
       "      <td>5/4**</td>\n",
       "      <td>8/1***/6**</td>\n",
       "      <td>0</td>\n",
       "      <td>0</td>\n",
       "      <td>0</td>\n",
       "      <td>1</td>\n",
       "      <td>0</td>\n",
       "      <td>2</td>\n",
       "      <td>4</td>\n",
       "      <td>6</td>\n",
       "    </tr>\n",
       "    <tr>\n",
       "      <th>4</th>\n",
       "      <td>T140</td>\n",
       "      <td>T0973</td>\n",
       "      <td>Easy/Medium</td>\n",
       "      <td>1754</td>\n",
       "      <td>CR</td>\n",
       "      <td>1/1**</td>\n",
       "      <td>3/3**</td>\n",
       "      <td>5/5**</td>\n",
       "      <td>10/10**</td>\n",
       "      <td>0</td>\n",
       "      <td>0</td>\n",
       "      <td>0</td>\n",
       "      <td>0</td>\n",
       "      <td>1</td>\n",
       "      <td>3</td>\n",
       "      <td>5</td>\n",
       "      <td>0</td>\n",
       "    </tr>\n",
       "  </tbody>\n",
       "</table>\n",
       "</div>"
      ],
      "text/plain": [
       "  (CAPRI ID) (CASP ID)  My category    N. models   Method  Top-1  Top-3  \\\n",
       "0       T138     T0966    Difficult  1792(1838)*  ClustCR      0      0   \n",
       "1       T138     T0966    Difficult  1792(1838)*  ClustCR      0      0   \n",
       "2       T139     T0961         Easy         1570       CR  1/1**  3/3**   \n",
       "3       T139     T0961         Easy         1570       CR   1/1*  3/2**   \n",
       "4       T140     T0973  Easy/Medium         1754       CR  1/1**  3/3**   \n",
       "\n",
       "   Top-5      Top-10  T1 High  T3 High  T5 High  T10 High  T1 med  T3 med  \\\n",
       "0      0           0        0        0        0         0       0       0   \n",
       "1      0           0        0        0        0         0       0       0   \n",
       "2  5/5**  9/1***/8**        0        0        0         1       1       3   \n",
       "3  5/4**  8/1***/6**        0        0        0         1       0       2   \n",
       "4  5/5**     10/10**        0        0        0         0       1       3   \n",
       "\n",
       "   T5 med  T10 med  \n",
       "0       0        0  \n",
       "1       0        0  \n",
       "2       5        8  \n",
       "3       4        6  \n",
       "4       5        0  "
      ]
     },
     "execution_count": 12,
     "metadata": {},
     "output_type": "execute_result"
    }
   ],
   "source": [
    "df2.head()"
   ]
  },
  {
   "cell_type": "code",
   "execution_count": 13,
   "metadata": {},
   "outputs": [],
   "source": [
    "my_var = 1 "
   ]
  },
  {
   "cell_type": "code",
   "execution_count": 14,
   "metadata": {},
   "outputs": [
    {
     "data": {
      "text/plain": [
       "1"
      ]
     },
     "execution_count": 14,
     "metadata": {},
     "output_type": "execute_result"
    }
   ],
   "source": [
    "my_var.real"
   ]
  },
  {
   "cell_type": "code",
   "execution_count": 15,
   "metadata": {},
   "outputs": [
    {
     "data": {
      "text/plain": [
       "['(CAPRI ID)',\n",
       " '(CASP ID)',\n",
       " 'My category',\n",
       " 'N. models',\n",
       " 'Method',\n",
       " 'Top-1',\n",
       " 'Top-3',\n",
       " 'Top-5',\n",
       " 'Top-10',\n",
       " 'T1 High',\n",
       " 'T3 High',\n",
       " 'T5 High',\n",
       " 'T10 High',\n",
       " 'T1 med',\n",
       " 'T3 med',\n",
       " 'T5 med',\n",
       " 'T10 med']"
      ]
     },
     "execution_count": 15,
     "metadata": {},
     "output_type": "execute_result"
    }
   ],
   "source": [
    "df2.columns.values.tolist()"
   ]
  },
  {
   "cell_type": "code",
   "execution_count": 16,
   "metadata": {},
   "outputs": [],
   "source": [
    " df3 = df2[[\n",
    " #    u'(CAPRI ID)',\n",
    "     'T1 High',\n",
    " 'T3 High',\n",
    " 'T5 High',\n",
    " 'T10 High',\n",
    " 'T1 med',\n",
    " 'T3 med',\n",
    " 'T5 med',\n",
    " 'T10 med']]\n",
    "                 "
   ]
  },
  {
   "cell_type": "markdown",
   "metadata": {},
   "source": [
    "df3.plot(kind='hist')"
   ]
  },
  {
   "cell_type": "markdown",
   "metadata": {},
   "source": [
    "# Set up the matplotlib figure\n",
    "f, ax = plt.subplots(figsize=(15, 20))\n",
    "\n",
    "g = sns.heatmap(df3[[u'T1 High', u'T3 High', u'T5 High', u'T10 High']],cmap=\"Greens_r\",annot=True ,square=True, linewidths=.5, cbar_kws={\"shrink\": .5})\n",
    "# color=\"#4CB391\"\n",
    "g.set(yticklabels=df2[u'(CAPRI ID)'])\n",
    "plt.yticks(rotation=0)"
   ]
  },
  {
   "cell_type": "code",
   "execution_count": 17,
   "metadata": {},
   "outputs": [],
   "source": [
    "df3.set_index =df2[u'(CAPRI ID)']"
   ]
  },
  {
   "cell_type": "code",
   "execution_count": 18,
   "metadata": {},
   "outputs": [],
   "source": [
    "df4 = df3.T"
   ]
  },
  {
   "cell_type": "code",
   "execution_count": 19,
   "metadata": {},
   "outputs": [],
   "source": [
    "df4.columns =  df2[u'(CAPRI ID)']"
   ]
  },
  {
   "cell_type": "code",
   "execution_count": 20,
   "metadata": {},
   "outputs": [
    {
     "data": {
      "text/html": [
       "<div>\n",
       "<style scoped>\n",
       "    .dataframe tbody tr th:only-of-type {\n",
       "        vertical-align: middle;\n",
       "    }\n",
       "\n",
       "    .dataframe tbody tr th {\n",
       "        vertical-align: top;\n",
       "    }\n",
       "\n",
       "    .dataframe thead th {\n",
       "        text-align: right;\n",
       "    }\n",
       "</style>\n",
       "<table border=\"1\" class=\"dataframe\">\n",
       "  <thead>\n",
       "    <tr style=\"text-align: right;\">\n",
       "      <th>(CAPRI ID)</th>\n",
       "      <th>T138</th>\n",
       "      <th>T138</th>\n",
       "      <th>T139</th>\n",
       "      <th>T139</th>\n",
       "      <th>T140</th>\n",
       "      <th>T141</th>\n",
       "      <th>T142</th>\n",
       "      <th>T143</th>\n",
       "      <th>T144</th>\n",
       "      <th>T146</th>\n",
       "      <th>...</th>\n",
       "      <th>T156</th>\n",
       "      <th>T157</th>\n",
       "      <th>T158</th>\n",
       "      <th>T159</th>\n",
       "      <th>T159</th>\n",
       "      <th>T159</th>\n",
       "      <th>T159</th>\n",
       "      <th>T159</th>\n",
       "      <th>T159</th>\n",
       "      <th>T159</th>\n",
       "    </tr>\n",
       "  </thead>\n",
       "  <tbody>\n",
       "    <tr>\n",
       "      <th>T1 High</th>\n",
       "      <td>0</td>\n",
       "      <td>0</td>\n",
       "      <td>0</td>\n",
       "      <td>0</td>\n",
       "      <td>0</td>\n",
       "      <td>0</td>\n",
       "      <td>0</td>\n",
       "      <td>1</td>\n",
       "      <td>0</td>\n",
       "      <td>0</td>\n",
       "      <td>...</td>\n",
       "      <td>0</td>\n",
       "      <td>0</td>\n",
       "      <td>0</td>\n",
       "      <td>0</td>\n",
       "      <td>0</td>\n",
       "      <td>0</td>\n",
       "      <td>0</td>\n",
       "      <td>0</td>\n",
       "      <td>0</td>\n",
       "      <td>0</td>\n",
       "    </tr>\n",
       "    <tr>\n",
       "      <th>T3 High</th>\n",
       "      <td>0</td>\n",
       "      <td>0</td>\n",
       "      <td>0</td>\n",
       "      <td>0</td>\n",
       "      <td>0</td>\n",
       "      <td>0</td>\n",
       "      <td>0</td>\n",
       "      <td>3</td>\n",
       "      <td>0</td>\n",
       "      <td>0</td>\n",
       "      <td>...</td>\n",
       "      <td>0</td>\n",
       "      <td>0</td>\n",
       "      <td>0</td>\n",
       "      <td>0</td>\n",
       "      <td>0</td>\n",
       "      <td>0</td>\n",
       "      <td>0</td>\n",
       "      <td>0</td>\n",
       "      <td>0</td>\n",
       "      <td>0</td>\n",
       "    </tr>\n",
       "    <tr>\n",
       "      <th>T5 High</th>\n",
       "      <td>0</td>\n",
       "      <td>0</td>\n",
       "      <td>0</td>\n",
       "      <td>0</td>\n",
       "      <td>0</td>\n",
       "      <td>0</td>\n",
       "      <td>0</td>\n",
       "      <td>5</td>\n",
       "      <td>0</td>\n",
       "      <td>0</td>\n",
       "      <td>...</td>\n",
       "      <td>0</td>\n",
       "      <td>0</td>\n",
       "      <td>0</td>\n",
       "      <td>0</td>\n",
       "      <td>0</td>\n",
       "      <td>0</td>\n",
       "      <td>0</td>\n",
       "      <td>0</td>\n",
       "      <td>0</td>\n",
       "      <td>0</td>\n",
       "    </tr>\n",
       "    <tr>\n",
       "      <th>T10 High</th>\n",
       "      <td>0</td>\n",
       "      <td>0</td>\n",
       "      <td>1</td>\n",
       "      <td>1</td>\n",
       "      <td>0</td>\n",
       "      <td>0</td>\n",
       "      <td>0</td>\n",
       "      <td>9</td>\n",
       "      <td>0</td>\n",
       "      <td>0</td>\n",
       "      <td>...</td>\n",
       "      <td>0</td>\n",
       "      <td>0</td>\n",
       "      <td>0</td>\n",
       "      <td>0</td>\n",
       "      <td>0</td>\n",
       "      <td>0</td>\n",
       "      <td>0</td>\n",
       "      <td>0</td>\n",
       "      <td>0</td>\n",
       "      <td>0</td>\n",
       "    </tr>\n",
       "    <tr>\n",
       "      <th>T1 med</th>\n",
       "      <td>0</td>\n",
       "      <td>0</td>\n",
       "      <td>1</td>\n",
       "      <td>0</td>\n",
       "      <td>1</td>\n",
       "      <td>0</td>\n",
       "      <td>1</td>\n",
       "      <td>0</td>\n",
       "      <td>1</td>\n",
       "      <td>0</td>\n",
       "      <td>...</td>\n",
       "      <td>0</td>\n",
       "      <td>0</td>\n",
       "      <td>1</td>\n",
       "      <td>1</td>\n",
       "      <td>0</td>\n",
       "      <td>0</td>\n",
       "      <td>0</td>\n",
       "      <td>0</td>\n",
       "      <td>1</td>\n",
       "      <td>0</td>\n",
       "    </tr>\n",
       "    <tr>\n",
       "      <th>T3 med</th>\n",
       "      <td>0</td>\n",
       "      <td>0</td>\n",
       "      <td>3</td>\n",
       "      <td>2</td>\n",
       "      <td>3</td>\n",
       "      <td>0</td>\n",
       "      <td>2</td>\n",
       "      <td>0</td>\n",
       "      <td>3</td>\n",
       "      <td>0</td>\n",
       "      <td>...</td>\n",
       "      <td>0</td>\n",
       "      <td>0</td>\n",
       "      <td>3</td>\n",
       "      <td>2</td>\n",
       "      <td>0</td>\n",
       "      <td>0</td>\n",
       "      <td>0</td>\n",
       "      <td>0</td>\n",
       "      <td>2</td>\n",
       "      <td>0</td>\n",
       "    </tr>\n",
       "    <tr>\n",
       "      <th>T5 med</th>\n",
       "      <td>0</td>\n",
       "      <td>0</td>\n",
       "      <td>5</td>\n",
       "      <td>4</td>\n",
       "      <td>5</td>\n",
       "      <td>0</td>\n",
       "      <td>2</td>\n",
       "      <td>0</td>\n",
       "      <td>3</td>\n",
       "      <td>0</td>\n",
       "      <td>...</td>\n",
       "      <td>0</td>\n",
       "      <td>0</td>\n",
       "      <td>5</td>\n",
       "      <td>2</td>\n",
       "      <td>0</td>\n",
       "      <td>0</td>\n",
       "      <td>0</td>\n",
       "      <td>0</td>\n",
       "      <td>2</td>\n",
       "      <td>0</td>\n",
       "    </tr>\n",
       "    <tr>\n",
       "      <th>T10 med</th>\n",
       "      <td>0</td>\n",
       "      <td>0</td>\n",
       "      <td>8</td>\n",
       "      <td>6</td>\n",
       "      <td>0</td>\n",
       "      <td>0</td>\n",
       "      <td>2</td>\n",
       "      <td>1</td>\n",
       "      <td>3</td>\n",
       "      <td>0</td>\n",
       "      <td>...</td>\n",
       "      <td>0</td>\n",
       "      <td>0</td>\n",
       "      <td>7</td>\n",
       "      <td>4</td>\n",
       "      <td>0</td>\n",
       "      <td>0</td>\n",
       "      <td>0</td>\n",
       "      <td>0</td>\n",
       "      <td>4</td>\n",
       "      <td>0</td>\n",
       "    </tr>\n",
       "  </tbody>\n",
       "</table>\n",
       "<p>8 rows × 35 columns</p>\n",
       "</div>"
      ],
      "text/plain": [
       "(CAPRI ID)  T138  T138  T139  T139  T140  T141  T142  T143  T144  T146  ...  \\\n",
       "T1 High        0     0     0     0     0     0     0     1     0     0  ...   \n",
       "T3 High        0     0     0     0     0     0     0     3     0     0  ...   \n",
       "T5 High        0     0     0     0     0     0     0     5     0     0  ...   \n",
       "T10 High       0     0     1     1     0     0     0     9     0     0  ...   \n",
       "T1 med         0     0     1     0     1     0     1     0     1     0  ...   \n",
       "T3 med         0     0     3     2     3     0     2     0     3     0  ...   \n",
       "T5 med         0     0     5     4     5     0     2     0     3     0  ...   \n",
       "T10 med        0     0     8     6     0     0     2     1     3     0  ...   \n",
       "\n",
       "(CAPRI ID)  T156  T157  T158  T159  T159  T159  T159  T159  T159  T159  \n",
       "T1 High        0     0     0     0     0     0     0     0     0     0  \n",
       "T3 High        0     0     0     0     0     0     0     0     0     0  \n",
       "T5 High        0     0     0     0     0     0     0     0     0     0  \n",
       "T10 High       0     0     0     0     0     0     0     0     0     0  \n",
       "T1 med         0     0     1     1     0     0     0     0     1     0  \n",
       "T3 med         0     0     3     2     0     0     0     0     2     0  \n",
       "T5 med         0     0     5     2     0     0     0     0     2     0  \n",
       "T10 med        0     0     7     4     0     0     0     0     4     0  \n",
       "\n",
       "[8 rows x 35 columns]"
      ]
     },
     "execution_count": 20,
     "metadata": {},
     "output_type": "execute_result"
    }
   ],
   "source": [
    "df4"
   ]
  },
  {
   "cell_type": "markdown",
   "metadata": {},
   "source": [
    "f, ax = plt.subplots(figsize=(15, 20))\n",
    "\n",
    "g = sns.heatmap(df3[[ u'T1 med', u'T3 med',\n",
    "       u'T5 med', u'T10 med']],cmap=\"GnBu_r\",annot=True ,square=True, linewidths=.5, cbar_kws={\"shrink\": .5})\n",
    "# color=\"#4CB391\"\n",
    "g.set(yticklabels=df2[u'(CAPRI ID)'])\n",
    "plt.yticks(rotation=0)"
   ]
  },
  {
   "cell_type": "code",
   "execution_count": 21,
   "metadata": {},
   "outputs": [
    {
     "data": {
      "text/plain": [
       "(array([0.5, 1.5, 2.5, 3.5, 4.5, 5.5, 6.5, 7.5]),\n",
       " <a list of 8 Text yticklabel objects>)"
      ]
     },
     "execution_count": 21,
     "metadata": {},
     "output_type": "execute_result"
    },
    {
     "data": {
      "image/png": "[encoded data removed]",
      "text/plain": [
       "<Figure size 2160x1800 with 1 Axes>"
      ]
     },
     "metadata": {
      "needs_background": "light"
     },
     "output_type": "display_data"
    }
   ],
   "source": [
    "# Set up the matplotlib figure\n",
    "f, ax = plt.subplots(figsize=(30, 25))\n",
    "sns.set_context(context=\"talk\", font_scale=1)\n",
    "g = sns.heatmap(df4,\n",
    "                cmap=\"GnBu\",\n",
    "                annot=True ,\n",
    "                square=True, \n",
    "                linewidths=.5, \n",
    "                cbar=False )\n",
    "#cbar_kws={\"shrink\": .5})\n",
    "# color=\"#4CB391\"\n",
    "#g.set(yticklabels=df2[u'(CAPRI ID)'])\n",
    "plt.yticks(rotation=0)"
   ]
  },
  {
   "cell_type": "code",
   "execution_count": 22,
   "metadata": {},
   "outputs": [],
   "source": [
    "# df4.loc( [u'T1 med', u'T3 med', u'T5 med', u'T10 med'])\n",
    "df5= df4.iloc[[0,4,1,5,2,6,3,7]]"
   ]
  },
  {
   "cell_type": "code",
   "execution_count": 23,
   "metadata": {},
   "outputs": [
    {
     "data": {
      "text/plain": [
       "(array([0.5, 1.5, 2.5, 3.5, 4.5, 5.5, 6.5, 7.5]),\n",
       " <a list of 8 Text yticklabel objects>)"
      ]
     },
     "execution_count": 23,
     "metadata": {},
     "output_type": "execute_result"
    },
    {
     "data": {
      "image/png": "[encoded data removed]",
      "text/plain": [
       "<Figure size 1800x1440 with 2 Axes>"
      ]
     },
     "metadata": {
      "needs_background": "light"
     },
     "output_type": "display_data"
    }
   ],
   "source": [
    "# Set up the matplotlib figure\n",
    "f, ax = plt.subplots(figsize=(25, 20))\n",
    "\n",
    "g = sns.heatmap(df5,\n",
    "                cmap=\"Greens\",\n",
    "               # annot=True ,\n",
    "                square=True, \n",
    "                linewidths=.5, \n",
    "                cbar=True )\n",
    "#cbar_kws={\"shrink\": .5})\n",
    "# color=\"#4CB391\"\n",
    "#g.set(yticklabels=df2[u'(CAPRI ID)'])\n",
    "plt.yticks(rotation=0)"
   ]
  },
  {
   "cell_type": "code",
   "execution_count": 24,
   "metadata": {},
   "outputs": [],
   "source": [
    "# f, (ax1, ax2,ax3,ax4,ax5,ax6,ax7,ax8) = plt.subplots(1, 8, figsize=(7, 25),sharey=True)\n",
    "# plt.yticks(rotation=90)\n",
    "# sns.despine(left=True)"
   ]
  },
  {
   "cell_type": "code",
   "execution_count": null,
   "metadata": {},
   "outputs": [],
   "source": [
    "# g1 = sns.heatmap(df3[[u'T1 High']],cmap=\"Greens\",annot=True ,square=True, linewidths=.5,  cbar=False,ax=ax1)\n",
    "# g2 = sns.heatmap(df3[[u'T1 med' ]],cmap=\"Blues\",annot=True ,square=True, linewidths=.5,  cbar=False,ax=ax2)\n",
    "# g3 = sns.heatmap(df3[[u'T3 High']],cmap=\"Greens\",annot=True ,square=True, linewidths=.5,  cbar=False,ax=ax3)\n",
    "# g4 = sns.heatmap(df3[[u'T3 med' ]],cmap=\"Blues\",annot=True ,square=True, linewidths=.5,  cbar=False,ax=ax4)\n",
    "# g5 = sns.heatmap(df3[[u'T5 High']],cmap=\"Greens\",annot=True ,square=True, linewidths=.5,  cbar=False,ax=ax5)\n",
    "# g6 = sns.heatmap(df3[[u'T5 med' ]],cmap=\"Blues\",annot=True ,square=True, linewidths=.5,  cbar=False,ax=ax6)\n",
    "# g7 = sns.heatmap(df3[[u'T10 High']],cmap=\"Greens\",annot=True ,square=True, linewidths=.5,  cbar=False,ax=ax7)\n",
    "# g8 = sns.heatmap(df3[[u'T10 med' ]],cmap=\"Blues\",annot=True ,square=True, linewidths=.5,  cbar=False,ax=ax8)"
   ]
  },
  {
   "cell_type": "code",
   "execution_count": null,
   "metadata": {},
   "outputs": [],
   "source": [
    "# g2 = sns.heatmap(df3[[u'T3 High', \n",
    "#                       u'T3 med']]\n",
    "#                 ,cmap=\"Reds\",annot=True ,square=True, linewidths=.5,  cbar=False,ax=ax2)"
   ]
  },
  {
   "cell_type": "code",
   "execution_count": null,
   "metadata": {},
   "outputs": [],
   "source": [
    "# g1.set(yticklabels=df2[u'(CAPRI ID)'])\n",
    "# g2.set(yticklabels=df2[u'(CAPRI ID)'])\n",
    "# g3.set(yticklabels=df2[u'(CAPRI ID)'])\n",
    "# g4.set(yticklabels=df2[u'(CAPRI ID)'])\n",
    "# g5.set(yticklabels=df2[u'(CAPRI ID)'])\n",
    "# g6.set(yticklabels=df2[u'(CAPRI ID)'])\n",
    "# g7.set(yticklabels=df2[u'(CAPRI ID)'])\n",
    "# g8.set(yticklabels=df2[u'(CAPRI ID)'])"
   ]
  },
  {
   "cell_type": "code",
   "execution_count": null,
   "metadata": {},
   "outputs": [],
   "source": [
    "# f\n"
   ]
  },
  {
   "cell_type": "code",
   "execution_count": null,
   "metadata": {},
   "outputs": [],
   "source": [
    "# f.savefig('heatmap_figure_prototype.jpg', dpi=100)"
   ]
  },
  {
   "cell_type": "code",
   "execution_count": 25,
   "metadata": {},
   "outputs": [],
   "source": [
    "my_colors = {\"***\":\"#9b59b6\" , \"**\":\"#34495e\" , \"*\":\"#2ecc71\" , \"no*\":\"#95a5a6\"} "
   ]
  },
  {
   "cell_type": "code",
   "execution_count": 134,
   "metadata": {},
   "outputs": [],
   "source": [
    "df = pd.read_excel(\"my_edited_table_2.xlsx\")"
   ]
  },
  {
   "cell_type": "code",
   "execution_count": 135,
   "metadata": {},
   "outputs": [
    {
     "data": {
      "text/html": [
       "<div>\n",
       "<style scoped>\n",
       "    .dataframe tbody tr th:only-of-type {\n",
       "        vertical-align: middle;\n",
       "    }\n",
       "\n",
       "    .dataframe tbody tr th {\n",
       "        vertical-align: top;\n",
       "    }\n",
       "\n",
       "    .dataframe thead th {\n",
       "        text-align: right;\n",
       "    }\n",
       "</style>\n",
       "<table border=\"1\" class=\"dataframe\">\n",
       "  <thead>\n",
       "    <tr style=\"text-align: right;\">\n",
       "      <th></th>\n",
       "      <th>(CAPRI ID)</th>\n",
       "      <th>(CASP ID)</th>\n",
       "      <th>My category</th>\n",
       "      <th>N. models</th>\n",
       "      <th>Method</th>\n",
       "      <th>Top-1</th>\n",
       "      <th>Top-3</th>\n",
       "      <th>Top-5</th>\n",
       "      <th>Top-10</th>\n",
       "    </tr>\n",
       "  </thead>\n",
       "  <tbody>\n",
       "    <tr>\n",
       "      <th>0</th>\n",
       "      <td>T138</td>\n",
       "      <td>T0966</td>\n",
       "      <td>Difficult</td>\n",
       "      <td>1792(1838)*</td>\n",
       "      <td>ClustCR</td>\n",
       "      <td>0</td>\n",
       "      <td>0</td>\n",
       "      <td>0</td>\n",
       "      <td>0</td>\n",
       "    </tr>\n",
       "    <tr>\n",
       "      <th>1</th>\n",
       "      <td>T139</td>\n",
       "      <td>T0961</td>\n",
       "      <td>Easy</td>\n",
       "      <td>1570</td>\n",
       "      <td>CR</td>\n",
       "      <td>1/1**</td>\n",
       "      <td>3/3**</td>\n",
       "      <td>5/5**</td>\n",
       "      <td>9/1***</td>\n",
       "    </tr>\n",
       "    <tr>\n",
       "      <th>2</th>\n",
       "      <td>T140</td>\n",
       "      <td>T0973</td>\n",
       "      <td>Easy</td>\n",
       "      <td>1754</td>\n",
       "      <td>CR</td>\n",
       "      <td>1/1**</td>\n",
       "      <td>3/3**</td>\n",
       "      <td>5/5**</td>\n",
       "      <td>10/10**</td>\n",
       "    </tr>\n",
       "    <tr>\n",
       "      <th>3</th>\n",
       "      <td>T141</td>\n",
       "      <td>T0976</td>\n",
       "      <td>Difficult</td>\n",
       "      <td>1754</td>\n",
       "      <td>ClustCR</td>\n",
       "      <td>0</td>\n",
       "      <td>0</td>\n",
       "      <td>0</td>\n",
       "      <td>0</td>\n",
       "    </tr>\n",
       "    <tr>\n",
       "      <th>4</th>\n",
       "      <td>T142</td>\n",
       "      <td>H0974</td>\n",
       "      <td>Easy</td>\n",
       "      <td>1754</td>\n",
       "      <td>ClustCR</td>\n",
       "      <td>1/1**</td>\n",
       "      <td>2/2**</td>\n",
       "      <td>2/2**</td>\n",
       "      <td>2/2**</td>\n",
       "    </tr>\n",
       "  </tbody>\n",
       "</table>\n",
       "</div>"
      ],
      "text/plain": [
       "  (CAPRI ID) (CASP ID) My category    N. models   Method  Top-1  Top-3  Top-5  \\\n",
       "0       T138     T0966   Difficult  1792(1838)*  ClustCR      0      0      0   \n",
       "1       T139     T0961        Easy         1570       CR  1/1**  3/3**  5/5**   \n",
       "2       T140     T0973        Easy         1754       CR  1/1**  3/3**  5/5**   \n",
       "3       T141     T0976   Difficult         1754  ClustCR      0      0      0   \n",
       "4       T142     H0974        Easy         1754  ClustCR  1/1**  2/2**  2/2**   \n",
       "\n",
       "    Top-10  \n",
       "0        0  \n",
       "1   9/1***  \n",
       "2  10/10**  \n",
       "3        0  \n",
       "4    2/2**  "
      ]
     },
     "execution_count": 135,
     "metadata": {},
     "output_type": "execute_result"
    }
   ],
   "source": [
    "df.head()"
   ]
  },
  {
   "cell_type": "code",
   "execution_count": 136,
   "metadata": {},
   "outputs": [],
   "source": [
    "import numpy as np\n",
    "# df = pd.DataFrame(np.random.randn(6, 6))"
   ]
  },
  {
   "cell_type": "code",
   "execution_count": null,
   "metadata": {},
   "outputs": [],
   "source": [
    "# df_q = pd.DataFrame()"
   ]
  },
  {
   "cell_type": "code",
   "execution_count": null,
   "metadata": {},
   "outputs": [],
   "source": [
    "# for col in df:\n",
    "#     df_q[col] = pd.to_numeric( pd.qcut(df[col], 3, labels=list(range(3))) )\n"
   ]
  },
  {
   "cell_type": "code",
   "execution_count": null,
   "metadata": {},
   "outputs": [],
   "source": [
    "# df_q"
   ]
  },
  {
   "cell_type": "code",
   "execution_count": null,
   "metadata": {},
   "outputs": [],
   "source": [
    "# df"
   ]
  },
  {
   "cell_type": "code",
   "execution_count": null,
   "metadata": {},
   "outputs": [],
   "source": [
    "# df = pd.read_excel(\"my_edited_table_2.xlsx\")"
   ]
  },
  {
   "cell_type": "code",
   "execution_count": null,
   "metadata": {},
   "outputs": [],
   "source": [
    "# df.head()"
   ]
  },
  {
   "cell_type": "code",
   "execution_count": 137,
   "metadata": {},
   "outputs": [],
   "source": [
    "def discrete_convertion(x):\n",
    "    if x != 0 :\n",
    "        \n",
    "        #my_len = len(my_var)\n",
    "        #acc = 0 \n",
    "        my_var = x.split(\"/\")\n",
    "        for n in my_var :\n",
    "           # print (n[1:])\n",
    "            if n[0:2] != \"10\":\n",
    "                if \"*\" == n[1:] :\n",
    "                    return 1\n",
    "                elif \"**\" == n[1:] :\n",
    "                    return 2\n",
    "                elif \"***\" == n[1:] :\n",
    "                    return 3\n",
    "                elif \"N\" == n[1:] :\n",
    "                    return 4\n",
    "            else:\n",
    "                if \"*\" == n[2:] :\n",
    "                    return 1\n",
    "                elif \"**\" == n[2:] :\n",
    "                    return 2\n",
    "                elif \"***\" == n[2:] :\n",
    "                    return 3\n",
    "                elif  \"N\" == n[2:] :\n",
    "                    return 4\n",
    "        \n",
    "    else:\n",
    "       # print (\"in else\")\n",
    "        return x\n",
    "        #elif \"**\" == n[1:-1] :\n",
    "        #    med = n[0]"
   ]
  },
  {
   "cell_type": "code",
   "execution_count": null,
   "metadata": {},
   "outputs": [],
   "source": []
  },
  {
   "cell_type": "code",
   "execution_count": 138,
   "metadata": {},
   "outputs": [],
   "source": [
    "df2 = df[[\"(CAPRI ID)\",\"My category\", \"Top-1\", \"Top-3\",\"Top-5\",\"Top-10\"]]"
   ]
  },
  {
   "cell_type": "code",
   "execution_count": 139,
   "metadata": {},
   "outputs": [
    {
     "name": "stderr",
     "output_type": "stream",
     "text": [
      "/Users/barradd/anaconda2/envs/dask-scipy/lib/python3.6/site-packages/ipykernel_launcher.py:1: SettingWithCopyWarning: \n",
      "A value is trying to be set on a copy of a slice from a DataFrame.\n",
      "Try using .loc[row_indexer,col_indexer] = value instead\n",
      "\n",
      "See the caveats in the documentation: http://pandas.pydata.org/pandas-docs/stable/user_guide/indexing.html#returning-a-view-versus-a-copy\n",
      "  \"\"\"Entry point for launching an IPython kernel.\n",
      "/Users/barradd/anaconda2/envs/dask-scipy/lib/python3.6/site-packages/ipykernel_launcher.py:2: SettingWithCopyWarning: \n",
      "A value is trying to be set on a copy of a slice from a DataFrame.\n",
      "Try using .loc[row_indexer,col_indexer] = value instead\n",
      "\n",
      "See the caveats in the documentation: http://pandas.pydata.org/pandas-docs/stable/user_guide/indexing.html#returning-a-view-versus-a-copy\n",
      "  \n"
     ]
    }
   ],
   "source": [
    "df2[\"Top 1\"] = df[\"Top-1\"].apply(discrete_convertion)\n",
    "df2[\"Top 3\"] = df[\"Top-3\"].apply(discrete_convertion)\n",
    "df2[\"Top 5\"] = df[\"Top-5\"].apply(discrete_convertion)\n",
    "#df2[\"Top 10\"] = df[\"Top-10\"].apply(discrete_convertion)"
   ]
  },
  {
   "cell_type": "code",
   "execution_count": 140,
   "metadata": {},
   "outputs": [],
   "source": [
    "df2[\"Top 10\"] = df[\"Top-10\"].apply(discrete_convertion)"
   ]
  },
  {
   "cell_type": "code",
   "execution_count": 141,
   "metadata": {},
   "outputs": [
    {
     "data": {
      "text/html": [
       "<div>\n",
       "<style scoped>\n",
       "    .dataframe tbody tr th:only-of-type {\n",
       "        vertical-align: middle;\n",
       "    }\n",
       "\n",
       "    .dataframe tbody tr th {\n",
       "        vertical-align: top;\n",
       "    }\n",
       "\n",
       "    .dataframe thead th {\n",
       "        text-align: right;\n",
       "    }\n",
       "</style>\n",
       "<table border=\"1\" class=\"dataframe\">\n",
       "  <thead>\n",
       "    <tr style=\"text-align: right;\">\n",
       "      <th></th>\n",
       "      <th>(CAPRI ID)</th>\n",
       "      <th>My category</th>\n",
       "      <th>Top-1</th>\n",
       "      <th>Top-3</th>\n",
       "      <th>Top-5</th>\n",
       "      <th>Top-10</th>\n",
       "      <th>Top 1</th>\n",
       "      <th>Top 3</th>\n",
       "      <th>Top 5</th>\n",
       "      <th>Top 10</th>\n",
       "    </tr>\n",
       "  </thead>\n",
       "  <tbody>\n",
       "    <tr>\n",
       "      <th>0</th>\n",
       "      <td>T138</td>\n",
       "      <td>Difficult</td>\n",
       "      <td>0</td>\n",
       "      <td>0</td>\n",
       "      <td>0</td>\n",
       "      <td>0</td>\n",
       "      <td>0</td>\n",
       "      <td>0</td>\n",
       "      <td>0</td>\n",
       "      <td>0</td>\n",
       "    </tr>\n",
       "    <tr>\n",
       "      <th>1</th>\n",
       "      <td>T139</td>\n",
       "      <td>Easy</td>\n",
       "      <td>1/1**</td>\n",
       "      <td>3/3**</td>\n",
       "      <td>5/5**</td>\n",
       "      <td>9/1***</td>\n",
       "      <td>2</td>\n",
       "      <td>2</td>\n",
       "      <td>2</td>\n",
       "      <td>3</td>\n",
       "    </tr>\n",
       "    <tr>\n",
       "      <th>2</th>\n",
       "      <td>T140</td>\n",
       "      <td>Easy</td>\n",
       "      <td>1/1**</td>\n",
       "      <td>3/3**</td>\n",
       "      <td>5/5**</td>\n",
       "      <td>10/10**</td>\n",
       "      <td>2</td>\n",
       "      <td>2</td>\n",
       "      <td>2</td>\n",
       "      <td>2</td>\n",
       "    </tr>\n",
       "    <tr>\n",
       "      <th>3</th>\n",
       "      <td>T141</td>\n",
       "      <td>Difficult</td>\n",
       "      <td>0</td>\n",
       "      <td>0</td>\n",
       "      <td>0</td>\n",
       "      <td>0</td>\n",
       "      <td>0</td>\n",
       "      <td>0</td>\n",
       "      <td>0</td>\n",
       "      <td>0</td>\n",
       "    </tr>\n",
       "    <tr>\n",
       "      <th>4</th>\n",
       "      <td>T142</td>\n",
       "      <td>Easy</td>\n",
       "      <td>1/1**</td>\n",
       "      <td>2/2**</td>\n",
       "      <td>2/2**</td>\n",
       "      <td>2/2**</td>\n",
       "      <td>2</td>\n",
       "      <td>2</td>\n",
       "      <td>2</td>\n",
       "      <td>2</td>\n",
       "    </tr>\n",
       "    <tr>\n",
       "      <th>5</th>\n",
       "      <td>T143</td>\n",
       "      <td>Easy</td>\n",
       "      <td>1/1***</td>\n",
       "      <td>3/3***</td>\n",
       "      <td>5/5***</td>\n",
       "      <td>10/9***</td>\n",
       "      <td>3</td>\n",
       "      <td>3</td>\n",
       "      <td>3</td>\n",
       "      <td>3</td>\n",
       "    </tr>\n",
       "    <tr>\n",
       "      <th>6</th>\n",
       "      <td>T144</td>\n",
       "      <td>Easy</td>\n",
       "      <td>1/1**</td>\n",
       "      <td>3/3**</td>\n",
       "      <td>4/3**</td>\n",
       "      <td>7/3**</td>\n",
       "      <td>2</td>\n",
       "      <td>2</td>\n",
       "      <td>2</td>\n",
       "      <td>2</td>\n",
       "    </tr>\n",
       "    <tr>\n",
       "      <th>7</th>\n",
       "      <td>T146</td>\n",
       "      <td>Difficult</td>\n",
       "      <td>0</td>\n",
       "      <td>0</td>\n",
       "      <td>1/1*</td>\n",
       "      <td>2/2*</td>\n",
       "      <td>0</td>\n",
       "      <td>0</td>\n",
       "      <td>1</td>\n",
       "      <td>1</td>\n",
       "    </tr>\n",
       "    <tr>\n",
       "      <th>8</th>\n",
       "      <td>T147</td>\n",
       "      <td>Easy</td>\n",
       "      <td>1/1**</td>\n",
       "      <td>2/2**</td>\n",
       "      <td>4/2**</td>\n",
       "      <td>8/4**</td>\n",
       "      <td>2</td>\n",
       "      <td>2</td>\n",
       "      <td>2</td>\n",
       "      <td>2</td>\n",
       "    </tr>\n",
       "    <tr>\n",
       "      <th>9</th>\n",
       "      <td>T148</td>\n",
       "      <td>Difficult</td>\n",
       "      <td>0</td>\n",
       "      <td>0</td>\n",
       "      <td>0</td>\n",
       "      <td>0</td>\n",
       "      <td>0</td>\n",
       "      <td>0</td>\n",
       "      <td>0</td>\n",
       "      <td>0</td>\n",
       "    </tr>\n",
       "    <tr>\n",
       "      <th>10</th>\n",
       "      <td>T151</td>\n",
       "      <td>Difficult</td>\n",
       "      <td>1/1***</td>\n",
       "      <td>3/3***</td>\n",
       "      <td>5/5***</td>\n",
       "      <td>10/10***</td>\n",
       "      <td>3</td>\n",
       "      <td>3</td>\n",
       "      <td>3</td>\n",
       "      <td>3</td>\n",
       "    </tr>\n",
       "    <tr>\n",
       "      <th>11</th>\n",
       "      <td>T152</td>\n",
       "      <td>Easy</td>\n",
       "      <td>1/1***</td>\n",
       "      <td>3/2***</td>\n",
       "      <td>5/2***</td>\n",
       "      <td>10/2***</td>\n",
       "      <td>3</td>\n",
       "      <td>3</td>\n",
       "      <td>3</td>\n",
       "      <td>3</td>\n",
       "    </tr>\n",
       "    <tr>\n",
       "      <th>12</th>\n",
       "      <td>T153</td>\n",
       "      <td>Easy</td>\n",
       "      <td>1/1***</td>\n",
       "      <td>3/2***</td>\n",
       "      <td>4/2***</td>\n",
       "      <td>9/5***</td>\n",
       "      <td>3</td>\n",
       "      <td>3</td>\n",
       "      <td>3</td>\n",
       "      <td>3</td>\n",
       "    </tr>\n",
       "    <tr>\n",
       "      <th>13</th>\n",
       "      <td>T154</td>\n",
       "      <td>Difficult</td>\n",
       "      <td>0</td>\n",
       "      <td>0</td>\n",
       "      <td>0</td>\n",
       "      <td>0</td>\n",
       "      <td>0</td>\n",
       "      <td>0</td>\n",
       "      <td>0</td>\n",
       "      <td>0</td>\n",
       "    </tr>\n",
       "    <tr>\n",
       "      <th>14</th>\n",
       "      <td>T155</td>\n",
       "      <td>Difficult</td>\n",
       "      <td>0</td>\n",
       "      <td>0</td>\n",
       "      <td>0</td>\n",
       "      <td>0</td>\n",
       "      <td>0</td>\n",
       "      <td>0</td>\n",
       "      <td>0</td>\n",
       "      <td>0</td>\n",
       "    </tr>\n",
       "    <tr>\n",
       "      <th>15</th>\n",
       "      <td>T156</td>\n",
       "      <td>Difficult</td>\n",
       "      <td>0</td>\n",
       "      <td>0</td>\n",
       "      <td>0</td>\n",
       "      <td>0</td>\n",
       "      <td>0</td>\n",
       "      <td>0</td>\n",
       "      <td>0</td>\n",
       "      <td>0</td>\n",
       "    </tr>\n",
       "    <tr>\n",
       "      <th>16</th>\n",
       "      <td>T157</td>\n",
       "      <td>Difficult</td>\n",
       "      <td>0</td>\n",
       "      <td>0</td>\n",
       "      <td>0</td>\n",
       "      <td>0</td>\n",
       "      <td>0</td>\n",
       "      <td>0</td>\n",
       "      <td>0</td>\n",
       "      <td>0</td>\n",
       "    </tr>\n",
       "    <tr>\n",
       "      <th>17</th>\n",
       "      <td>T158</td>\n",
       "      <td>Easy</td>\n",
       "      <td>1/1**</td>\n",
       "      <td>3/3**</td>\n",
       "      <td>5/5**</td>\n",
       "      <td>10/7**</td>\n",
       "      <td>2</td>\n",
       "      <td>2</td>\n",
       "      <td>2</td>\n",
       "      <td>2</td>\n",
       "    </tr>\n",
       "    <tr>\n",
       "      <th>18</th>\n",
       "      <td>T159</td>\n",
       "      <td>Difficult</td>\n",
       "      <td>1/1**</td>\n",
       "      <td>3/2**</td>\n",
       "      <td>5/2**</td>\n",
       "      <td>10/4**</td>\n",
       "      <td>2</td>\n",
       "      <td>2</td>\n",
       "      <td>2</td>\n",
       "      <td>2</td>\n",
       "    </tr>\n",
       "  </tbody>\n",
       "</table>\n",
       "</div>"
      ],
      "text/plain": [
       "   (CAPRI ID) My category   Top-1   Top-3   Top-5    Top-10  Top 1  Top 3  \\\n",
       "0        T138   Difficult       0       0       0         0      0      0   \n",
       "1        T139        Easy   1/1**   3/3**   5/5**    9/1***      2      2   \n",
       "2        T140        Easy   1/1**   3/3**   5/5**   10/10**      2      2   \n",
       "3        T141   Difficult       0       0       0         0      0      0   \n",
       "4        T142        Easy   1/1**   2/2**   2/2**     2/2**      2      2   \n",
       "5        T143        Easy  1/1***  3/3***  5/5***   10/9***      3      3   \n",
       "6        T144        Easy   1/1**   3/3**   4/3**     7/3**      2      2   \n",
       "7        T146   Difficult       0       0    1/1*      2/2*      0      0   \n",
       "8        T147        Easy   1/1**   2/2**   4/2**     8/4**      2      2   \n",
       "9        T148   Difficult       0       0       0         0      0      0   \n",
       "10       T151   Difficult  1/1***  3/3***  5/5***  10/10***      3      3   \n",
       "11       T152        Easy  1/1***  3/2***  5/2***   10/2***      3      3   \n",
       "12       T153        Easy  1/1***  3/2***  4/2***    9/5***      3      3   \n",
       "13       T154   Difficult       0       0       0         0      0      0   \n",
       "14       T155   Difficult       0       0       0         0      0      0   \n",
       "15       T156   Difficult       0       0       0         0      0      0   \n",
       "16       T157   Difficult       0       0       0         0      0      0   \n",
       "17       T158        Easy   1/1**   3/3**   5/5**    10/7**      2      2   \n",
       "18       T159   Difficult   1/1**   3/2**   5/2**    10/4**      2      2   \n",
       "\n",
       "    Top 5  Top 10  \n",
       "0       0       0  \n",
       "1       2       3  \n",
       "2       2       2  \n",
       "3       0       0  \n",
       "4       2       2  \n",
       "5       3       3  \n",
       "6       2       2  \n",
       "7       1       1  \n",
       "8       2       2  \n",
       "9       0       0  \n",
       "10      3       3  \n",
       "11      3       3  \n",
       "12      3       3  \n",
       "13      0       0  \n",
       "14      0       0  \n",
       "15      0       0  \n",
       "16      0       0  \n",
       "17      2       2  \n",
       "18      2       2  "
      ]
     },
     "execution_count": 141,
     "metadata": {},
     "output_type": "execute_result"
    }
   ],
   "source": [
    "df2"
   ]
  },
  {
   "cell_type": "code",
   "execution_count": 33,
   "metadata": {},
   "outputs": [],
   "source": [
    "df3 = df2[[\n",
    " #    u'(CAPRI ID)',\n",
    "     'Top 1',\n",
    "# 'Top 3',\n",
    " 'Top 5',\n",
    " 'Top 10'\n",
    "]]"
   ]
  },
  {
   "cell_type": "code",
   "execution_count": 34,
   "metadata": {},
   "outputs": [],
   "source": [
    "df3.set_index =df2[u'(CAPRI ID)']"
   ]
  },
  {
   "cell_type": "code",
   "execution_count": 35,
   "metadata": {},
   "outputs": [],
   "source": [
    "df4 = df3.T"
   ]
  },
  {
   "cell_type": "code",
   "execution_count": 36,
   "metadata": {},
   "outputs": [],
   "source": [
    "df4.columns =  df2[u'(CAPRI ID)']"
   ]
  },
  {
   "cell_type": "code",
   "execution_count": 37,
   "metadata": {},
   "outputs": [
    {
     "data": {
      "text/html": [
       "<div>\n",
       "<style scoped>\n",
       "    .dataframe tbody tr th:only-of-type {\n",
       "        vertical-align: middle;\n",
       "    }\n",
       "\n",
       "    .dataframe tbody tr th {\n",
       "        vertical-align: top;\n",
       "    }\n",
       "\n",
       "    .dataframe thead th {\n",
       "        text-align: right;\n",
       "    }\n",
       "</style>\n",
       "<table border=\"1\" class=\"dataframe\">\n",
       "  <thead>\n",
       "    <tr style=\"text-align: right;\">\n",
       "      <th>(CAPRI ID)</th>\n",
       "      <th>T138</th>\n",
       "      <th>T139</th>\n",
       "      <th>T140</th>\n",
       "      <th>T141</th>\n",
       "      <th>T142</th>\n",
       "      <th>T143</th>\n",
       "      <th>T144</th>\n",
       "      <th>T146</th>\n",
       "      <th>T147</th>\n",
       "      <th>T148</th>\n",
       "      <th>T151</th>\n",
       "      <th>T152</th>\n",
       "      <th>T153</th>\n",
       "      <th>T154</th>\n",
       "      <th>T155</th>\n",
       "      <th>T156</th>\n",
       "      <th>T157</th>\n",
       "      <th>T158</th>\n",
       "      <th>T159</th>\n",
       "    </tr>\n",
       "  </thead>\n",
       "  <tbody>\n",
       "    <tr>\n",
       "      <th>Top 1</th>\n",
       "      <td>0</td>\n",
       "      <td>2</td>\n",
       "      <td>2</td>\n",
       "      <td>0</td>\n",
       "      <td>2</td>\n",
       "      <td>3</td>\n",
       "      <td>2</td>\n",
       "      <td>0</td>\n",
       "      <td>2</td>\n",
       "      <td>0</td>\n",
       "      <td>3</td>\n",
       "      <td>3</td>\n",
       "      <td>3</td>\n",
       "      <td>0</td>\n",
       "      <td>0</td>\n",
       "      <td>0</td>\n",
       "      <td>0</td>\n",
       "      <td>2</td>\n",
       "      <td>2</td>\n",
       "    </tr>\n",
       "    <tr>\n",
       "      <th>Top 5</th>\n",
       "      <td>0</td>\n",
       "      <td>2</td>\n",
       "      <td>2</td>\n",
       "      <td>0</td>\n",
       "      <td>2</td>\n",
       "      <td>3</td>\n",
       "      <td>2</td>\n",
       "      <td>1</td>\n",
       "      <td>2</td>\n",
       "      <td>0</td>\n",
       "      <td>3</td>\n",
       "      <td>3</td>\n",
       "      <td>3</td>\n",
       "      <td>0</td>\n",
       "      <td>0</td>\n",
       "      <td>0</td>\n",
       "      <td>0</td>\n",
       "      <td>2</td>\n",
       "      <td>2</td>\n",
       "    </tr>\n",
       "    <tr>\n",
       "      <th>Top 10</th>\n",
       "      <td>0</td>\n",
       "      <td>3</td>\n",
       "      <td>2</td>\n",
       "      <td>0</td>\n",
       "      <td>2</td>\n",
       "      <td>3</td>\n",
       "      <td>2</td>\n",
       "      <td>1</td>\n",
       "      <td>2</td>\n",
       "      <td>0</td>\n",
       "      <td>3</td>\n",
       "      <td>3</td>\n",
       "      <td>3</td>\n",
       "      <td>0</td>\n",
       "      <td>0</td>\n",
       "      <td>0</td>\n",
       "      <td>0</td>\n",
       "      <td>2</td>\n",
       "      <td>2</td>\n",
       "    </tr>\n",
       "  </tbody>\n",
       "</table>\n",
       "</div>"
      ],
      "text/plain": [
       "(CAPRI ID)  T138  T139  T140  T141  T142  T143  T144  T146  T147  T148  T151  \\\n",
       "Top 1          0     2     2     0     2     3     2     0     2     0     3   \n",
       "Top 5          0     2     2     0     2     3     2     1     2     0     3   \n",
       "Top 10         0     3     2     0     2     3     2     1     2     0     3   \n",
       "\n",
       "(CAPRI ID)  T152  T153  T154  T155  T156  T157  T158  T159  \n",
       "Top 1          3     3     0     0     0     0     2     2  \n",
       "Top 5          3     3     0     0     0     0     2     2  \n",
       "Top 10         3     3     0     0     0     0     2     2  "
      ]
     },
     "execution_count": 37,
     "metadata": {},
     "output_type": "execute_result"
    }
   ],
   "source": [
    "df4"
   ]
  },
  {
   "cell_type": "code",
   "execution_count": 38,
   "metadata": {},
   "outputs": [],
   "source": [
    "from matplotlib.colors import ListedColormap\n",
    "#my_colors = {3:\"#9b59b6\" , 2:\"#34495e\" , 1:\"#2ecc71\" , 0:\"#95a5a6\"} \n",
    "#my_colors = [\"#9b59b6\" , \"#34495e\" , \"#2ecc71\" , \"#95a5a6\"] #purple and grey\n",
    "#my_colors = [\"#ff4d4d\",\"#b2ffb2\",\"#00e500\",\"#006600\"] # red \n",
    "#my_colors = [  '#ff6666','#00e500','#00b200','#007f00'] # light red \n",
    "#my_colors = [  '#ededed','#00e500','#00b200','#007f00'] # light grey\n",
    "my_colors = [  '#bbbbbb','#00e500','#00b200','#007f00'] #  grey\n",
    "my_cmap = ListedColormap(sns.color_palette(my_colors).as_hex())"
   ]
  },
  {
   "cell_type": "code",
   "execution_count": null,
   "metadata": {},
   "outputs": [],
   "source": []
  },
  {
   "cell_type": "code",
   "execution_count": 39,
   "metadata": {},
   "outputs": [
    {
     "data": {
      "text/plain": [
       "(array([0.5, 1.5, 2.5]), <a list of 3 Text yticklabel objects>)"
      ]
     },
     "execution_count": 39,
     "metadata": {},
     "output_type": "execute_result"
    },
    {
     "data": {
      "image/png": "[encoded data removed]",
      "text/plain": [
       "<Figure size 1800x1440 with 2 Axes>"
      ]
     },
     "metadata": {
      "needs_background": "light"
     },
     "output_type": "display_data"
    }
   ],
   "source": [
    "#from mpl_toolkits.axes_grid1.axes_divider import make_axes_locatable\n",
    "#from mpl_toolkits.axes_grid1.colorbar import colorbar\n",
    "# Set up the matplotlib figure\n",
    "### https://stackoverflow.com/questions/47916205/seaborn-heatmap-move-colorbar-on-top-of-the-plot\n",
    "\n",
    "f, ax = plt.subplots(figsize=(25, 20))\n",
    "#my_labels = {3:\"High\",2:\"Medium\",1:\"Acceptable\",0:\"Incorrect\"}\n",
    "\n",
    "#cbar_ax = f.add_axes([.91, .4, .02, .20])\n",
    "\n",
    "g = sns.heatmap(df4,ax=ax,\n",
    "                cmap=my_colors,\n",
    "               # annot=True ,\n",
    "                square=True, \n",
    "                linewidths=.5, \n",
    "                #cbar_ax=cbar_ax\n",
    "                #cbar=False\n",
    "                cbar_kws={\"shrink\": .2 ,\n",
    "                          \n",
    "                          #\"use_gridspec\":False,\n",
    "                          \n",
    "                          \"ticks\":[2.6,1.85,1.1,0.4],\n",
    "                          \"pad\":0.009\n",
    "                         # \"ticklabels\":['Incorrect', 'Acceptable', 'Medium','High']\n",
    "                      \n",
    "                        }\n",
    "               )\n",
    "\n",
    "#cbar_ax.minorticks_off()\n",
    "#cbar_ax.set_yticks([2.6,1.85,1.1,0.4])\n",
    "#cbar_ax.set_yticklabels(['Incorrect', 'Acceptable','Medium','High'])\n",
    "# color=\"#4CB391\"\n",
    "\n",
    "### this works \n",
    "### https://matplotlib.org/gallery/ticks_and_spines/colorbar_tick_labelling_demo.html\n",
    "#cbar = g.collections[0].colorbar\n",
    "#cbar.set_ticks([2.6,1.85,1.1,0.4])\n",
    "#cbar.set_ticklabels(['High', 'Medium', 'Acceptable','Incorrect'])\n",
    "\n",
    "# split axes of heatmap to put colorbar\n",
    "#ax_divider = make_axes_locatable(g)\n",
    "#cax = ax_divider.append_axes('right', size = '1%', pad = '1%')\n",
    "# make colorbar for heatmap. \n",
    "# Heatmap returns an axes obj but you need to get a mappable obj (get_children)\n",
    "#colorbar(g.get_children()[0], cax = cax)\n",
    "cbar = g.collections[0].colorbar\n",
    "#cbar.set_ticks([2.6,1.85,1.1,0.4])\n",
    "cbar.set_ticklabels(['High', 'Medium', 'Acceptable','Incorrect'])\n",
    "#cbar.ax.tick_params(labelsize=20) \n",
    "#colorbar.set_ticklabels(['High', 'Medium', 'Acceptable','Incorrect'])\n",
    "ax.set_xlabel(\"Target\")\n",
    "plt.yticks(rotation=0)\n",
    "#plt.xticks(rotation=0)"
   ]
  },
  {
   "cell_type": "code",
   "execution_count": 40,
   "metadata": {},
   "outputs": [],
   "source": [
    "# f.savefig('heatmap_figure_prototype_s_grey.png')"
   ]
  },
  {
   "cell_type": "code",
   "execution_count": 41,
   "metadata": {},
   "outputs": [],
   "source": [
    "df_res_round38 = pd.read_excel(\"results_CAPRI_RO_rounds_38_45.xlsx\")"
   ]
  },
  {
   "cell_type": "code",
   "execution_count": 42,
   "metadata": {},
   "outputs": [],
   "source": [
    "df_res_round38.columns = [\"Round\", \"Target\",\"Top 1\",\"Top 5\", \"Top 10\"]"
   ]
  },
  {
   "cell_type": "code",
   "execution_count": 43,
   "metadata": {},
   "outputs": [
    {
     "data": {
      "text/html": [
       "<div>\n",
       "<style scoped>\n",
       "    .dataframe tbody tr th:only-of-type {\n",
       "        vertical-align: middle;\n",
       "    }\n",
       "\n",
       "    .dataframe tbody tr th {\n",
       "        vertical-align: top;\n",
       "    }\n",
       "\n",
       "    .dataframe thead th {\n",
       "        text-align: right;\n",
       "    }\n",
       "</style>\n",
       "<table border=\"1\" class=\"dataframe\">\n",
       "  <thead>\n",
       "    <tr style=\"text-align: right;\">\n",
       "      <th></th>\n",
       "      <th>Round</th>\n",
       "      <th>Target</th>\n",
       "      <th>Top 1</th>\n",
       "      <th>Top 5</th>\n",
       "      <th>Top 10</th>\n",
       "    </tr>\n",
       "  </thead>\n",
       "  <tbody>\n",
       "    <tr>\n",
       "      <th>0</th>\n",
       "      <td>38</td>\n",
       "      <td>T121</td>\n",
       "      <td>0</td>\n",
       "      <td>0</td>\n",
       "      <td>0</td>\n",
       "    </tr>\n",
       "    <tr>\n",
       "      <th>1</th>\n",
       "      <td>39</td>\n",
       "      <td>T122</td>\n",
       "      <td>0</td>\n",
       "      <td>0</td>\n",
       "      <td>0</td>\n",
       "    </tr>\n",
       "    <tr>\n",
       "      <th>2</th>\n",
       "      <td>39</td>\n",
       "      <td>T123</td>\n",
       "      <td>0</td>\n",
       "      <td>0</td>\n",
       "      <td>0</td>\n",
       "    </tr>\n",
       "    <tr>\n",
       "      <th>3</th>\n",
       "      <td>39</td>\n",
       "      <td>T124</td>\n",
       "      <td>0</td>\n",
       "      <td>0</td>\n",
       "      <td>0</td>\n",
       "    </tr>\n",
       "    <tr>\n",
       "      <th>4</th>\n",
       "      <td>40</td>\n",
       "      <td>T125</td>\n",
       "      <td>N</td>\n",
       "      <td>N</td>\n",
       "      <td>N</td>\n",
       "    </tr>\n",
       "  </tbody>\n",
       "</table>\n",
       "</div>"
      ],
      "text/plain": [
       "   Round Target Top 1 Top 5 Top 10\n",
       "0     38   T121     0     0      0\n",
       "1     39   T122     0     0      0\n",
       "2     39   T123     0     0      0\n",
       "3     39   T124     0     0      0\n",
       "4     40   T125     N     N      N"
      ]
     },
     "execution_count": 43,
     "metadata": {},
     "output_type": "execute_result"
    }
   ],
   "source": [
    "df_res_round38.head()"
   ]
  },
  {
   "cell_type": "code",
   "execution_count": 44,
   "metadata": {},
   "outputs": [],
   "source": [
    "df_res_round38[\"Top 1d\"] = df_res_round38[\"Top 1\"].apply(discrete_convertion)\n",
    "\n",
    "df_res_round38[\"Top 5d\"] = df_res_round38[\"Top 5\"].apply(discrete_convertion)\n",
    "df_res_round38[\"Top 10d\"] = df_res_round38[\"Top 10\"].apply(discrete_convertion)"
   ]
  },
  {
   "cell_type": "code",
   "execution_count": 45,
   "metadata": {},
   "outputs": [
    {
     "data": {
      "text/html": [
       "<div>\n",
       "<style scoped>\n",
       "    .dataframe tbody tr th:only-of-type {\n",
       "        vertical-align: middle;\n",
       "    }\n",
       "\n",
       "    .dataframe tbody tr th {\n",
       "        vertical-align: top;\n",
       "    }\n",
       "\n",
       "    .dataframe thead th {\n",
       "        text-align: right;\n",
       "    }\n",
       "</style>\n",
       "<table border=\"1\" class=\"dataframe\">\n",
       "  <thead>\n",
       "    <tr style=\"text-align: right;\">\n",
       "      <th></th>\n",
       "      <th>Round</th>\n",
       "      <th>Target</th>\n",
       "      <th>Top 1</th>\n",
       "      <th>Top 5</th>\n",
       "      <th>Top 10</th>\n",
       "      <th>Top 1d</th>\n",
       "      <th>Top 5d</th>\n",
       "      <th>Top 10d</th>\n",
       "    </tr>\n",
       "  </thead>\n",
       "  <tbody>\n",
       "    <tr>\n",
       "      <th>0</th>\n",
       "      <td>38</td>\n",
       "      <td>T121</td>\n",
       "      <td>0</td>\n",
       "      <td>0</td>\n",
       "      <td>0</td>\n",
       "      <td>0.0</td>\n",
       "      <td>0.0</td>\n",
       "      <td>0.0</td>\n",
       "    </tr>\n",
       "    <tr>\n",
       "      <th>1</th>\n",
       "      <td>39</td>\n",
       "      <td>T122</td>\n",
       "      <td>0</td>\n",
       "      <td>0</td>\n",
       "      <td>0</td>\n",
       "      <td>0.0</td>\n",
       "      <td>0.0</td>\n",
       "      <td>0.0</td>\n",
       "    </tr>\n",
       "    <tr>\n",
       "      <th>2</th>\n",
       "      <td>39</td>\n",
       "      <td>T123</td>\n",
       "      <td>0</td>\n",
       "      <td>0</td>\n",
       "      <td>0</td>\n",
       "      <td>0.0</td>\n",
       "      <td>0.0</td>\n",
       "      <td>0.0</td>\n",
       "    </tr>\n",
       "    <tr>\n",
       "      <th>3</th>\n",
       "      <td>39</td>\n",
       "      <td>T124</td>\n",
       "      <td>0</td>\n",
       "      <td>0</td>\n",
       "      <td>0</td>\n",
       "      <td>0.0</td>\n",
       "      <td>0.0</td>\n",
       "      <td>0.0</td>\n",
       "    </tr>\n",
       "    <tr>\n",
       "      <th>4</th>\n",
       "      <td>40</td>\n",
       "      <td>T125</td>\n",
       "      <td>N</td>\n",
       "      <td>N</td>\n",
       "      <td>N</td>\n",
       "      <td>NaN</td>\n",
       "      <td>NaN</td>\n",
       "      <td>NaN</td>\n",
       "    </tr>\n",
       "  </tbody>\n",
       "</table>\n",
       "</div>"
      ],
      "text/plain": [
       "   Round Target Top 1 Top 5 Top 10  Top 1d  Top 5d  Top 10d\n",
       "0     38   T121     0     0      0     0.0     0.0      0.0\n",
       "1     39   T122     0     0      0     0.0     0.0      0.0\n",
       "2     39   T123     0     0      0     0.0     0.0      0.0\n",
       "3     39   T124     0     0      0     0.0     0.0      0.0\n",
       "4     40   T125     N     N      N     NaN     NaN      NaN"
      ]
     },
     "execution_count": 45,
     "metadata": {},
     "output_type": "execute_result"
    }
   ],
   "source": [
    "df_res_round38.head()\n"
   ]
  },
  {
   "cell_type": "code",
   "execution_count": 46,
   "metadata": {},
   "outputs": [],
   "source": [
    "df_res = df_res_round38[[\n",
    " #    u'(CAPRI ID)',\n",
    "     'Top 1d',\n",
    "# 'Top 3',\n",
    " 'Top 5d',\n",
    " 'Top 10d'\n",
    "]]\n",
    "df_res.columns = [\"Top 1\",\"Top 5\", \"Top 10\"]"
   ]
  },
  {
   "cell_type": "code",
   "execution_count": 47,
   "metadata": {},
   "outputs": [],
   "source": [
    "df_res.set_index =df_res_round38[\"Target\"]"
   ]
  },
  {
   "cell_type": "code",
   "execution_count": 48,
   "metadata": {},
   "outputs": [],
   "source": [
    "df_res = df_res.T\n",
    "df_res.columns = df_res_round38[\"Target\"]"
   ]
  },
  {
   "cell_type": "code",
   "execution_count": 49,
   "metadata": {},
   "outputs": [
    {
     "data": {
      "text/html": [
       "<div>\n",
       "<style scoped>\n",
       "    .dataframe tbody tr th:only-of-type {\n",
       "        vertical-align: middle;\n",
       "    }\n",
       "\n",
       "    .dataframe tbody tr th {\n",
       "        vertical-align: top;\n",
       "    }\n",
       "\n",
       "    .dataframe thead th {\n",
       "        text-align: right;\n",
       "    }\n",
       "</style>\n",
       "<table border=\"1\" class=\"dataframe\">\n",
       "  <thead>\n",
       "    <tr style=\"text-align: right;\">\n",
       "      <th>Target</th>\n",
       "      <th>T121</th>\n",
       "      <th>T122</th>\n",
       "      <th>T123</th>\n",
       "      <th>T124</th>\n",
       "      <th>T125</th>\n",
       "      <th>T126</th>\n",
       "      <th>T127</th>\n",
       "      <th>T128</th>\n",
       "      <th>T129</th>\n",
       "      <th>T130</th>\n",
       "      <th>T131</th>\n",
       "      <th>T132</th>\n",
       "      <th>T133</th>\n",
       "      <th>T134</th>\n",
       "      <th>T135</th>\n",
       "      <th>T136</th>\n",
       "    </tr>\n",
       "  </thead>\n",
       "  <tbody>\n",
       "    <tr>\n",
       "      <th>Top 1</th>\n",
       "      <td>0.0</td>\n",
       "      <td>0.0</td>\n",
       "      <td>0.0</td>\n",
       "      <td>0.0</td>\n",
       "      <td>-1.0</td>\n",
       "      <td>0.0</td>\n",
       "      <td>-1.0</td>\n",
       "      <td>1.0</td>\n",
       "      <td>1.0</td>\n",
       "      <td>1.0</td>\n",
       "      <td>0.0</td>\n",
       "      <td>0.0</td>\n",
       "      <td>0.0</td>\n",
       "      <td>3.0</td>\n",
       "      <td>1.0</td>\n",
       "      <td>-1.0</td>\n",
       "    </tr>\n",
       "    <tr>\n",
       "      <th>Top 5</th>\n",
       "      <td>0.0</td>\n",
       "      <td>0.0</td>\n",
       "      <td>0.0</td>\n",
       "      <td>0.0</td>\n",
       "      <td>-1.0</td>\n",
       "      <td>1.0</td>\n",
       "      <td>-1.0</td>\n",
       "      <td>2.0</td>\n",
       "      <td>1.0</td>\n",
       "      <td>2.0</td>\n",
       "      <td>0.0</td>\n",
       "      <td>0.0</td>\n",
       "      <td>0.0</td>\n",
       "      <td>3.0</td>\n",
       "      <td>1.0</td>\n",
       "      <td>-1.0</td>\n",
       "    </tr>\n",
       "    <tr>\n",
       "      <th>Top 10</th>\n",
       "      <td>0.0</td>\n",
       "      <td>0.0</td>\n",
       "      <td>0.0</td>\n",
       "      <td>0.0</td>\n",
       "      <td>-1.0</td>\n",
       "      <td>1.0</td>\n",
       "      <td>-1.0</td>\n",
       "      <td>2.0</td>\n",
       "      <td>1.0</td>\n",
       "      <td>3.0</td>\n",
       "      <td>2.0</td>\n",
       "      <td>1.0</td>\n",
       "      <td>1.0</td>\n",
       "      <td>3.0</td>\n",
       "      <td>1.0</td>\n",
       "      <td>-1.0</td>\n",
       "    </tr>\n",
       "  </tbody>\n",
       "</table>\n",
       "</div>"
      ],
      "text/plain": [
       "Target  T121  T122  T123  T124  T125  T126  T127  T128  T129  T130  T131  \\\n",
       "Top 1    0.0   0.0   0.0   0.0  -1.0   0.0  -1.0   1.0   1.0   1.0   0.0   \n",
       "Top 5    0.0   0.0   0.0   0.0  -1.0   1.0  -1.0   2.0   1.0   2.0   0.0   \n",
       "Top 10   0.0   0.0   0.0   0.0  -1.0   1.0  -1.0   2.0   1.0   3.0   2.0   \n",
       "\n",
       "Target  T132  T133  T134  T135  T136  \n",
       "Top 1    0.0   0.0   3.0   1.0  -1.0  \n",
       "Top 5    0.0   0.0   3.0   1.0  -1.0  \n",
       "Top 10   1.0   1.0   3.0   1.0  -1.0  "
      ]
     },
     "execution_count": 49,
     "metadata": {},
     "output_type": "execute_result"
    }
   ],
   "source": [
    "df_res.fillna(-1)"
   ]
  },
  {
   "cell_type": "code",
   "execution_count": 50,
   "metadata": {},
   "outputs": [],
   "source": [
    "my_colors = [ '#fafafa','#bbbbbb','#00e500','#00b200','#007f00'] #  grey\n",
    "my_cmap = ListedColormap(sns.color_palette(my_colors).as_hex())"
   ]
  },
  {
   "cell_type": "code",
   "execution_count": 51,
   "metadata": {},
   "outputs": [
    {
     "data": {
      "text/plain": [
       "(array([0.5, 1.5, 2.5]), <a list of 3 Text yticklabel objects>)"
      ]
     },
     "execution_count": 51,
     "metadata": {},
     "output_type": "execute_result"
    },
    {
     "data": {
      "image/png": "[encoded data removed]",
      "text/plain": [
       "<Figure size 1800x1440 with 2 Axes>"
      ]
     },
     "metadata": {
      "needs_background": "light"
     },
     "output_type": "display_data"
    }
   ],
   "source": [
    "#from mpl_toolkits.axes_grid1.axes_divider import make_axes_locatable\n",
    "#from mpl_toolkits.axes_grid1.colorbar import colorbar\n",
    "# Set up the matplotlib figure\n",
    "### https://stackoverflow.com/questions/47916205/seaborn-heatmap-move-colorbar-on-top-of-the-plot\n",
    "\n",
    "f, ax = plt.subplots(figsize=(25, 20))\n",
    "#my_labels = {3:\"High\",2:\"Medium\",1:\"Acceptable\",0:\"Incorrect\"}\n",
    "\n",
    "#cbar_ax = f.add_axes([.91, .4, .02, .20])\n",
    "\n",
    "g = sns.heatmap(df_res.fillna(-1),\n",
    "                ax=ax,\n",
    "                cmap=my_colors,\n",
    "               # annot=True ,\n",
    "                square=True, \n",
    "                linewidths=.5, \n",
    "                #cbar_ax=cbar_ax\n",
    "                #cbar=False\n",
    "                cbar_kws={\"shrink\": .2 ,\n",
    "                          \n",
    "                          #\"use_gridspec\":False,\n",
    "                          \n",
    "                          #\"ticks\":[2.6,1.85,1.1,0.4],\n",
    "                          \"pad\":0.009\n",
    "                         # \"ticklabels\":['Incorrect', 'Acceptable', 'Medium','High']\n",
    "                      \n",
    "                        }\n",
    "               )\n",
    "\n",
    "#cbar_ax.minorticks_off()\n",
    "#cbar_ax.set_yticks([2.6,1.85,1.1,0.4])\n",
    "#cbar_ax.set_yticklabels(['Incorrect', 'Acceptable','Medium','High'])\n",
    "# color=\"#4CB391\"\n",
    "\n",
    "### this works \n",
    "### https://matplotlib.org/gallery/ticks_and_spines/colorbar_tick_labelling_demo.html\n",
    "#cbar = g.collections[0].colorbar\n",
    "#cbar.set_ticks([2.6,1.85,1.1,0.4])\n",
    "#cbar.set_ticklabels(['High', 'Medium', 'Acceptable','Incorrect'])\n",
    "\n",
    "# split axes of heatmap to put colorbar\n",
    "#ax_divider = make_axes_locatable(g)\n",
    "#cax = ax_divider.append_axes('right', size = '1%', pad = '1%')\n",
    "# make colorbar for heatmap. \n",
    "# Heatmap returns an axes obj but you need to get a mappable obj (get_children)\n",
    "#colorbar(g.get_children()[0], cax = cax)\n",
    "cbar = g.collections[0].colorbar\n",
    "cbar.set_ticks([2.6,1.8,1.0,0.2,-0.5])\n",
    "cbar.set_ticklabels(['High', 'Medium', 'Acceptable','Incorrect','No Sub'])\n",
    "#cbar.ax.tick_params(labelsize=20) \n",
    "#colorbar.set_ticklabels(['High', 'Medium', 'Acceptable','Incorrect'])\n",
    "ax.set_xlabel(\"Target\")\n",
    "plt.yticks(rotation=0)\n",
    "#plt.xticks(rotation=0)"
   ]
  },
  {
   "cell_type": "code",
   "execution_count": null,
   "metadata": {},
   "outputs": [],
   "source": [
    "# f.savefig('heatmap_figure_round_38_45_s_grey.png')"
   ]
  },
  {
   "cell_type": "code",
   "execution_count": 143,
   "metadata": {},
   "outputs": [
    {
     "data": {
      "text/plain": [
       "array(['Difficult', 'Easy'], dtype=object)"
      ]
     },
     "execution_count": 143,
     "metadata": {},
     "output_type": "execute_result"
    }
   ],
   "source": [
    "df2[\"My category\"].unique()"
   ]
  },
  {
   "cell_type": "code",
   "execution_count": 144,
   "metadata": {},
   "outputs": [],
   "source": [
    "df_only_difficult = df2[df2[\"My category\"]==\"Difficult\"]"
   ]
  },
  {
   "cell_type": "code",
   "execution_count": 145,
   "metadata": {},
   "outputs": [],
   "source": [
    "df_only_easy = df2[df2[\"My category\"]==\"Easy\"]"
   ]
  },
  {
   "cell_type": "code",
   "execution_count": 146,
   "metadata": {},
   "outputs": [
    {
     "data": {
      "text/plain": [
       "Index(['(CAPRI ID)', 'My category', 'Top-1', 'Top-3', 'Top-5', 'Top-10',\n",
       "       'Top 1', 'Top 3', 'Top 5', 'Top 10'],\n",
       "      dtype='object')"
      ]
     },
     "execution_count": 146,
     "metadata": {},
     "output_type": "execute_result"
    }
   ],
   "source": [
    "df_only_easy.columns"
   ]
  },
  {
   "cell_type": "code",
   "execution_count": 147,
   "metadata": {},
   "outputs": [
    {
     "data": {
      "text/plain": [
       "1     T139\n",
       "2     T140\n",
       "4     T142\n",
       "5     T143\n",
       "6     T144\n",
       "8     T147\n",
       "11    T152\n",
       "12    T153\n",
       "17    T158\n",
       "Name: (CAPRI ID), dtype: object"
      ]
     },
     "execution_count": 147,
     "metadata": {},
     "output_type": "execute_result"
    }
   ],
   "source": [
    "df_only_easy[\"(CAPRI ID)\"]"
   ]
  },
  {
   "cell_type": "code",
   "execution_count": 148,
   "metadata": {},
   "outputs": [
    {
     "data": {
      "text/plain": [
       "0     T138\n",
       "3     T141\n",
       "7     T146\n",
       "9     T148\n",
       "10    T151\n",
       "13    T154\n",
       "14    T155\n",
       "15    T156\n",
       "16    T157\n",
       "18    T159\n",
       "Name: (CAPRI ID), dtype: object"
      ]
     },
     "execution_count": 148,
     "metadata": {},
     "output_type": "execute_result"
    }
   ],
   "source": [
    "df_only_difficult[\"(CAPRI ID)\"]"
   ]
  },
  {
   "cell_type": "code",
   "execution_count": 149,
   "metadata": {},
   "outputs": [],
   "source": [
    "df_only_difficult.set_index(\"(CAPRI ID)\",inplace=True)"
   ]
  },
  {
   "cell_type": "code",
   "execution_count": 262,
   "metadata": {},
   "outputs": [
    {
     "data": {
      "text/plain": [
       "Index(['T138', 'T141', 'T146', 'T148', 'T151', 'T154', 'T155', 'T156', 'T157',\n",
       "       'T159'],\n",
       "      dtype='object', name='(CAPRI ID)')"
      ]
     },
     "execution_count": 262,
     "metadata": {},
     "output_type": "execute_result"
    }
   ],
   "source": [
    "df_only_difficult.index"
   ]
  },
  {
   "cell_type": "code",
   "execution_count": 151,
   "metadata": {},
   "outputs": [],
   "source": [
    "df_only_easy.set_index(\"(CAPRI ID)\",inplace=True)"
   ]
  },
  {
   "cell_type": "code",
   "execution_count": 261,
   "metadata": {},
   "outputs": [
    {
     "data": {
      "text/plain": [
       "Index(['T139', 'T140', 'T142', 'T143', 'T144', 'T147', 'T152', 'T153', 'T158'], dtype='object', name='(CAPRI ID)')"
      ]
     },
     "execution_count": 261,
     "metadata": {},
     "output_type": "execute_result"
    }
   ],
   "source": [
    "df_only_easy.index"
   ]
  },
  {
   "cell_type": "code",
   "execution_count": 216,
   "metadata": {},
   "outputs": [
    {
     "data": {
      "text/plain": [
       "<matplotlib.axes._subplots.AxesSubplot at 0x1a2f7426d8>"
      ]
     },
     "execution_count": 216,
     "metadata": {},
     "output_type": "execute_result"
    },
    {
     "data": {
      "image/png": "[encoded data removed]",
      "text/plain": [
       "<Figure size 432x288 with 1 Axes>"
      ]
     },
     "metadata": {},
     "output_type": "display_data"
    }
   ],
   "source": [
    "sns.heatmap(df_only_difficult[[\"Top 1\",\"Top 3\",\"Top 5\",\"Top 10\"]],annot=True,cmap=my_colors,square=True,linewidths=.5,cbar=False)"
   ]
  },
  {
   "cell_type": "code",
   "execution_count": 218,
   "metadata": {},
   "outputs": [
    {
     "data": {
      "text/plain": [
       "<matplotlib.axes._subplots.AxesSubplot at 0x1a294827f0>"
      ]
     },
     "execution_count": 218,
     "metadata": {},
     "output_type": "execute_result"
    },
    {
     "data": {
      "image/png": "[encoded data removed]",
      "text/plain": [
       "<Figure size 432x288 with 1 Axes>"
      ]
     },
     "metadata": {},
     "output_type": "display_data"
    }
   ],
   "source": [
    "sns.heatmap(df_only_easy[[\"Top 1\",\"Top 3\",\"Top 5\",\"Top 10\"]],annot=True,cmap=my_colors,square=True,linewidths=.5,cbar=False)"
   ]
  },
  {
   "cell_type": "code",
   "execution_count": 214,
   "metadata": {},
   "outputs": [
    {
     "data": {
      "text/html": [
       "<div>\n",
       "<style scoped>\n",
       "    .dataframe tbody tr th:only-of-type {\n",
       "        vertical-align: middle;\n",
       "    }\n",
       "\n",
       "    .dataframe tbody tr th {\n",
       "        vertical-align: top;\n",
       "    }\n",
       "\n",
       "    .dataframe thead th {\n",
       "        text-align: right;\n",
       "    }\n",
       "</style>\n",
       "<table border=\"1\" class=\"dataframe\">\n",
       "  <thead>\n",
       "    <tr style=\"text-align: right;\">\n",
       "      <th>(CAPRI ID)</th>\n",
       "      <th>T139</th>\n",
       "      <th>T140</th>\n",
       "      <th>T142</th>\n",
       "      <th>T143</th>\n",
       "      <th>T144</th>\n",
       "      <th>T147</th>\n",
       "      <th>T152</th>\n",
       "      <th>T153</th>\n",
       "      <th>T158</th>\n",
       "    </tr>\n",
       "  </thead>\n",
       "  <tbody>\n",
       "    <tr>\n",
       "      <th>Top 1</th>\n",
       "      <td>2</td>\n",
       "      <td>2</td>\n",
       "      <td>2</td>\n",
       "      <td>3</td>\n",
       "      <td>2</td>\n",
       "      <td>2</td>\n",
       "      <td>3</td>\n",
       "      <td>3</td>\n",
       "      <td>2</td>\n",
       "    </tr>\n",
       "    <tr>\n",
       "      <th>Top 3</th>\n",
       "      <td>2</td>\n",
       "      <td>2</td>\n",
       "      <td>2</td>\n",
       "      <td>3</td>\n",
       "      <td>2</td>\n",
       "      <td>2</td>\n",
       "      <td>3</td>\n",
       "      <td>3</td>\n",
       "      <td>2</td>\n",
       "    </tr>\n",
       "    <tr>\n",
       "      <th>Top 5</th>\n",
       "      <td>2</td>\n",
       "      <td>2</td>\n",
       "      <td>2</td>\n",
       "      <td>3</td>\n",
       "      <td>2</td>\n",
       "      <td>2</td>\n",
       "      <td>3</td>\n",
       "      <td>3</td>\n",
       "      <td>2</td>\n",
       "    </tr>\n",
       "    <tr>\n",
       "      <th>Top 10</th>\n",
       "      <td>3</td>\n",
       "      <td>2</td>\n",
       "      <td>2</td>\n",
       "      <td>3</td>\n",
       "      <td>2</td>\n",
       "      <td>2</td>\n",
       "      <td>3</td>\n",
       "      <td>3</td>\n",
       "      <td>2</td>\n",
       "    </tr>\n",
       "  </tbody>\n",
       "</table>\n",
       "</div>"
      ],
      "text/plain": [
       "(CAPRI ID)  T139  T140  T142  T143  T144  T147  T152  T153  T158\n",
       "Top 1          2     2     2     3     2     2     3     3     2\n",
       "Top 3          2     2     2     3     2     2     3     3     2\n",
       "Top 5          2     2     2     3     2     2     3     3     2\n",
       "Top 10         3     2     2     3     2     2     3     3     2"
      ]
     },
     "execution_count": 214,
     "metadata": {},
     "output_type": "execute_result"
    }
   ],
   "source": [
    "df_only_easy[[\"Top 1\",\"Top 3\",\"Top 5\",\"Top 10\"]].T"
   ]
  },
  {
   "cell_type": "code",
   "execution_count": 155,
   "metadata": {},
   "outputs": [],
   "source": [
    "my_colors = [  '#bbbbbb','#00e500','#00b200','#007f00'] #  grey\n",
    "my_cmap = ListedColormap(sns.color_palette(my_colors).as_hex())"
   ]
  },
  {
   "cell_type": "code",
   "execution_count": 180,
   "metadata": {},
   "outputs": [],
   "source": [
    "sns.set(font_scale=1.5,style='white',context=\"paper\")\n",
    "plt.rcParams[\"font.weight\"] = \"bold\"\n",
    "plt.rcParams[\"axes.labelweight\"] = \"bold\""
   ]
  },
  {
   "cell_type": "code",
   "execution_count": 125,
   "metadata": {},
   "outputs": [
    {
     "data": {
      "text/html": [
       "<div>\n",
       "<style scoped>\n",
       "    .dataframe tbody tr th:only-of-type {\n",
       "        vertical-align: middle;\n",
       "    }\n",
       "\n",
       "    .dataframe tbody tr th {\n",
       "        vertical-align: top;\n",
       "    }\n",
       "\n",
       "    .dataframe thead tr th {\n",
       "        text-align: left;\n",
       "    }\n",
       "\n",
       "    .dataframe thead tr:last-of-type th {\n",
       "        text-align: right;\n",
       "    }\n",
       "</style>\n",
       "<table border=\"1\" class=\"dataframe\">\n",
       "  <thead>\n",
       "    <tr>\n",
       "      <th></th>\n",
       "      <th colspan=\"10\" halign=\"left\">Top 1</th>\n",
       "      <th>...</th>\n",
       "      <th colspan=\"10\" halign=\"left\">Top 5</th>\n",
       "    </tr>\n",
       "    <tr>\n",
       "      <th>(CAPRI ID)</th>\n",
       "      <th>T138</th>\n",
       "      <th>T139</th>\n",
       "      <th>T140</th>\n",
       "      <th>T141</th>\n",
       "      <th>T142</th>\n",
       "      <th>T143</th>\n",
       "      <th>T144</th>\n",
       "      <th>T146</th>\n",
       "      <th>T147</th>\n",
       "      <th>T148</th>\n",
       "      <th>...</th>\n",
       "      <th>T148</th>\n",
       "      <th>T151</th>\n",
       "      <th>T152</th>\n",
       "      <th>T153</th>\n",
       "      <th>T154</th>\n",
       "      <th>T155</th>\n",
       "      <th>T156</th>\n",
       "      <th>T157</th>\n",
       "      <th>T158</th>\n",
       "      <th>T159</th>\n",
       "    </tr>\n",
       "    <tr>\n",
       "      <th>My category</th>\n",
       "      <th></th>\n",
       "      <th></th>\n",
       "      <th></th>\n",
       "      <th></th>\n",
       "      <th></th>\n",
       "      <th></th>\n",
       "      <th></th>\n",
       "      <th></th>\n",
       "      <th></th>\n",
       "      <th></th>\n",
       "      <th></th>\n",
       "      <th></th>\n",
       "      <th></th>\n",
       "      <th></th>\n",
       "      <th></th>\n",
       "      <th></th>\n",
       "      <th></th>\n",
       "      <th></th>\n",
       "      <th></th>\n",
       "      <th></th>\n",
       "      <th></th>\n",
       "    </tr>\n",
       "  </thead>\n",
       "  <tbody>\n",
       "    <tr>\n",
       "      <th>Difficult</th>\n",
       "      <td>0.0</td>\n",
       "      <td>NaN</td>\n",
       "      <td>NaN</td>\n",
       "      <td>0.0</td>\n",
       "      <td>NaN</td>\n",
       "      <td>NaN</td>\n",
       "      <td>NaN</td>\n",
       "      <td>NaN</td>\n",
       "      <td>NaN</td>\n",
       "      <td>0.0</td>\n",
       "      <td>...</td>\n",
       "      <td>0.0</td>\n",
       "      <td>3.0</td>\n",
       "      <td>NaN</td>\n",
       "      <td>NaN</td>\n",
       "      <td>0.0</td>\n",
       "      <td>0.0</td>\n",
       "      <td>0.0</td>\n",
       "      <td>0.0</td>\n",
       "      <td>NaN</td>\n",
       "      <td>2.0</td>\n",
       "    </tr>\n",
       "    <tr>\n",
       "      <th>Difficult</th>\n",
       "      <td>NaN</td>\n",
       "      <td>NaN</td>\n",
       "      <td>NaN</td>\n",
       "      <td>NaN</td>\n",
       "      <td>NaN</td>\n",
       "      <td>NaN</td>\n",
       "      <td>NaN</td>\n",
       "      <td>0.0</td>\n",
       "      <td>NaN</td>\n",
       "      <td>NaN</td>\n",
       "      <td>...</td>\n",
       "      <td>NaN</td>\n",
       "      <td>NaN</td>\n",
       "      <td>NaN</td>\n",
       "      <td>NaN</td>\n",
       "      <td>NaN</td>\n",
       "      <td>NaN</td>\n",
       "      <td>NaN</td>\n",
       "      <td>NaN</td>\n",
       "      <td>NaN</td>\n",
       "      <td>NaN</td>\n",
       "    </tr>\n",
       "    <tr>\n",
       "      <th>Easy</th>\n",
       "      <td>NaN</td>\n",
       "      <td>2.0</td>\n",
       "      <td>2.0</td>\n",
       "      <td>NaN</td>\n",
       "      <td>2.0</td>\n",
       "      <td>3.0</td>\n",
       "      <td>2.0</td>\n",
       "      <td>NaN</td>\n",
       "      <td>2.0</td>\n",
       "      <td>NaN</td>\n",
       "      <td>...</td>\n",
       "      <td>NaN</td>\n",
       "      <td>NaN</td>\n",
       "      <td>3.0</td>\n",
       "      <td>3.0</td>\n",
       "      <td>NaN</td>\n",
       "      <td>NaN</td>\n",
       "      <td>NaN</td>\n",
       "      <td>NaN</td>\n",
       "      <td>2.0</td>\n",
       "      <td>NaN</td>\n",
       "    </tr>\n",
       "  </tbody>\n",
       "</table>\n",
       "<p>3 rows × 76 columns</p>\n",
       "</div>"
      ],
      "text/plain": [
       "            Top 1                                               ... Top 5  \\\n",
       "(CAPRI ID)   T138 T139 T140 T141 T142 T143 T144 T146 T147 T148  ...  T148   \n",
       "My category                                                     ...         \n",
       "Difficult     0.0  NaN  NaN  0.0  NaN  NaN  NaN  NaN  NaN  0.0  ...   0.0   \n",
       "Difficult     NaN  NaN  NaN  NaN  NaN  NaN  NaN  0.0  NaN  NaN  ...   NaN   \n",
       "Easy          NaN  2.0  2.0  NaN  2.0  3.0  2.0  NaN  2.0  NaN  ...   NaN   \n",
       "\n",
       "                                                          \n",
       "(CAPRI ID)  T151 T152 T153 T154 T155 T156 T157 T158 T159  \n",
       "My category                                               \n",
       "Difficult    3.0  NaN  NaN  0.0  0.0  0.0  0.0  NaN  2.0  \n",
       "Difficult    NaN  NaN  NaN  NaN  NaN  NaN  NaN  NaN  NaN  \n",
       "Easy         NaN  3.0  3.0  NaN  NaN  NaN  NaN  2.0  NaN  \n",
       "\n",
       "[3 rows x 76 columns]"
      ]
     },
     "execution_count": 125,
     "metadata": {},
     "output_type": "execute_result"
    }
   ],
   "source": [
    "df2.pivot_table( columns=\"(CAPRI ID)\",index=\"My category\")"
   ]
  },
  {
   "cell_type": "code",
   "execution_count": 183,
   "metadata": {},
   "outputs": [
    {
     "data": {
      "text/plain": [
       "(array([0.5, 1.5, 2.5]), <a list of 3 Text yticklabel objects>)"
      ]
     },
     "execution_count": 183,
     "metadata": {},
     "output_type": "execute_result"
    },
    {
     "data": {
      "image/png": "[encoded data removed]",
      "text/plain": [
       "<Figure size 576x216 with 2 Axes>"
      ]
     },
     "metadata": {},
     "output_type": "display_data"
    }
   ],
   "source": [
    "f, ax = plt.subplots(figsize=(8, 3))\n",
    "#my_labels = {3:\"High\",2:\"Medium\",1:\"Acceptable\",0:\"Incorrect\"}\n",
    "\n",
    "#cbar_ax = f.add_axes([.91, .4, .02, .20])\n",
    "\n",
    "g = sns.heatmap(df_only_easy[[\"Top 1\",\"Top 5\",\"Top 10\"]].T,ax=ax,\n",
    "                cmap=my_colors,\n",
    "               # annot=True ,\n",
    "                square=True, \n",
    "                linewidths=.5, \n",
    "                #cbar_ax=cbar_ax\n",
    "                #cbar=False\n",
    "                cbar_kws={\"shrink\": .2 ,\n",
    "                          \n",
    "                          #\"use_gridspec\":False,\n",
    "                          \n",
    "                          \"ticks\":[2.6,1.85,1.1,0.4],\n",
    "                          \"pad\":0.009\n",
    "                         # \"ticklabels\":['Incorrect', 'Acceptable', 'Medium','High']\n",
    "                      \n",
    "                        }\n",
    "               )\n",
    "\n",
    "\n",
    "cbar = g.collections[0].colorbar\n",
    "cbar.set_ticks([2.6,1.85,1.1,0.4])\n",
    "cbar.set_ticklabels(['High', 'Medium', 'Acceptable','Incorrect'])\n",
    "#cbar.ax.tick_params(labelsize=20) \n",
    "#colorbar.set_ticklabels(['High', 'Medium', 'Acceptable','Incorrect'])\n",
    "ax.set_xlabel(\"Target\")\n",
    "plt.yticks(rotation=0)\n",
    "#plt.xticks(rotation=0)"
   ]
  },
  {
   "cell_type": "code",
   "execution_count": 185,
   "metadata": {},
   "outputs": [
    {
     "data": {
      "text/plain": [
       "(array([0.5, 1.5, 2.5]), <a list of 3 Text yticklabel objects>)"
      ]
     },
     "execution_count": 185,
     "metadata": {},
     "output_type": "execute_result"
    },
    {
     "data": {
      "image/png": "[encoded data removed]",
      "text/plain": [
       "<Figure size 576x216 with 2 Axes>"
      ]
     },
     "metadata": {},
     "output_type": "display_data"
    }
   ],
   "source": [
    "f, ax = plt.subplots(figsize=(8, 3))\n",
    "#my_labels = {3:\"High\",2:\"Medium\",1:\"Acceptable\",0:\"Incorrect\"}\n",
    "\n",
    "#cbar_ax = f.add_axes([.91, .4, .02, .20])\n",
    "\n",
    "g = sns.heatmap(df_only_difficult[[\"Top 1\",\"Top 5\",\"Top 10\"]].T,ax=ax,\n",
    "                cmap=my_colors,\n",
    "               # annot=True ,\n",
    "                square=True, \n",
    "                linewidths=.5, \n",
    "                #cbar_ax=cbar_ax\n",
    "                #cbar=False\n",
    "                cbar_kws={\"shrink\": .6 ,\n",
    "                          \n",
    "                          #\"use_gridspec\":False,\n",
    "                          \n",
    "                          \"ticks\":[2.6,1.85,1.1,0.4],\n",
    "                          \"pad\":0.009\n",
    "                         # \"ticklabels\":['Incorrect', 'Acceptable', 'Medium','High']\n",
    "                      \n",
    "                        }\n",
    "               )\n",
    "\n",
    "\n",
    "cbar = g.collections[0].colorbar\n",
    "cbar.set_ticks([2.6,1.85,1.1,0.4])\n",
    "cbar.set_ticklabels(['High', 'Medium', 'Acceptable','Incorrect'])\n",
    "#cbar.ax.tick_params(labelsize=20) \n",
    "#colorbar.set_ticklabels(['High', 'Medium', 'Acceptable','Incorrect'])\n",
    "ax.set_xlabel(\"Target\")\n",
    "plt.yticks(rotation=0)\n",
    "#plt.xticks(rotation=0)"
   ]
  },
  {
   "cell_type": "code",
   "execution_count": 248,
   "metadata": {},
   "outputs": [
    {
     "data": {
      "text/plain": [
       "Text(0.5, 1, 'Difficult')"
      ]
     },
     "execution_count": 248,
     "metadata": {},
     "output_type": "execute_result"
    },
    {
     "data": {
      "image/png": "[encoded data removed]",
      "text/plain": [
       "<Figure size 1080x720 with 4 Axes>"
      ]
     },
     "metadata": {},
     "output_type": "display_data"
    }
   ],
   "source": [
    "fig, (ax1, ax2 ) = plt.subplots(2,1 , sharex=False\n",
    "                                ,sharey=False\n",
    "                                ,figsize=( 15 , 10\n",
    "                                         )\n",
    "                               )\n",
    "\n",
    "g=sns.heatmap(df_only_easy[[\"Top 1\",\"Top 5\",\"Top 10\"]].T,ax=ax1,\n",
    "                cmap=my_colors[2:],\n",
    "#                annot=True ,\n",
    "                square=True, \n",
    "                linewidths=.5, \n",
    "                #cbar_ax=cbar_ax\n",
    "                #cbar=False\n",
    "                cbar_kws={\"shrink\": .6 ,\n",
    "                          \n",
    "                          #\"use_gridspec\":False,\n",
    "#                           \"ticks\":['High', 'Medium', 'Acceptable','Incorrect'],\n",
    "#                           \"ticks\":[2.6,1.85,1.1,0.4],\n",
    "                          \"pad\":0.009\n",
    "                         # \"ticklabels\":['Incorrect', 'Acceptable', 'Medium','High']\n",
    "                      \n",
    "                        }\n",
    "               )\n",
    "g1=sns.heatmap(df_only_difficult[[\"Top 1\",\"Top 5\",\"Top 10\"]].T,ax=ax2,\n",
    "                cmap=my_colors,\n",
    "#                annot=True ,\n",
    "                square=True, \n",
    "                linewidths=.5, \n",
    "                #cbar_ax=cbar_ax\n",
    "                #cbar=False\n",
    "                cbar_kws={\"shrink\": .6 ,\n",
    "                          \n",
    "                          #\"use_gridspec\":False,\n",
    "                          \n",
    "#                           \"ticks\":[2.6,1.85,1.1,0.4],\n",
    "                          \"pad\":0.009\n",
    "                         # \"ticklabels\":['Incorrect', 'Acceptable', 'Medium','High']\n",
    "                      \n",
    "                        }\n",
    "               )\n",
    "cbar = g.collections[0].colorbar\n",
    "cbar.set_ticks([2.7,2.3])#,1.1,0.4])\n",
    "# # cbar.set_ticklabels(['High', 'Medium', 'Acceptable','Incorrect'])\n",
    "cbar.set_ticklabels(['High', 'Medium'])#, 'Acceptable','Incorrect'])\n",
    "cbar1 = g1.collections[0].colorbar\n",
    "cbar1.set_ticks([2.6,1.85,1.1,0.4])\n",
    "cbar1.set_ticklabels(['High', 'Medium', 'Acceptable','Incorrect'])\n",
    "#cbar.ax.tick_params(labelsize=20) \n",
    "# co÷.set_ticklabels(['High', 'Medium', 'Acceptable','Incorrect'])\n",
    "ax1.set_xlabel(\"Target\")\n",
    "ax2.set_xlabel(\"Target\")\n",
    "ax1.set_title(\"Easy\",loc= 'center',fontweight='bold')\n",
    "ax2.set_title(\"Difficult\",loc= 'center',fontweight='bold')\n",
    "# plt.yticks(rotation=0)\n",
    "#plt.xticks(rotation=0)"
   ]
  },
  {
   "cell_type": "code",
   "execution_count": 250,
   "metadata": {},
   "outputs": [],
   "source": [
    "fig.savefig(\"Heatmap_easy_difficult_greens.pdf\",format=\"pdf\")"
   ]
  },
  {
   "cell_type": "code",
   "execution_count": 259,
   "metadata": {},
   "outputs": [
    {
     "data": {
      "text/html": [
       "<div>\n",
       "<style scoped>\n",
       "    .dataframe tbody tr th:only-of-type {\n",
       "        vertical-align: middle;\n",
       "    }\n",
       "\n",
       "    .dataframe tbody tr th {\n",
       "        vertical-align: top;\n",
       "    }\n",
       "\n",
       "    .dataframe thead th {\n",
       "        text-align: right;\n",
       "    }\n",
       "</style>\n",
       "<table border=\"1\" class=\"dataframe\">\n",
       "  <thead>\n",
       "    <tr style=\"text-align: right;\">\n",
       "      <th>(CAPRI ID)</th>\n",
       "      <th>T139</th>\n",
       "      <th>T140</th>\n",
       "      <th>T142</th>\n",
       "      <th>T143</th>\n",
       "      <th>T144</th>\n",
       "      <th>T147</th>\n",
       "      <th>T152</th>\n",
       "      <th>T153</th>\n",
       "      <th>T158</th>\n",
       "    </tr>\n",
       "  </thead>\n",
       "  <tbody>\n",
       "    <tr>\n",
       "      <th>My category</th>\n",
       "      <td>Easy</td>\n",
       "      <td>Easy</td>\n",
       "      <td>Easy</td>\n",
       "      <td>Easy</td>\n",
       "      <td>Easy</td>\n",
       "      <td>Easy</td>\n",
       "      <td>Easy</td>\n",
       "      <td>Easy</td>\n",
       "      <td>Easy</td>\n",
       "    </tr>\n",
       "    <tr>\n",
       "      <th>Top-1</th>\n",
       "      <td>1/1**</td>\n",
       "      <td>1/1**</td>\n",
       "      <td>1/1**</td>\n",
       "      <td>1/1***</td>\n",
       "      <td>1/1**</td>\n",
       "      <td>1/1**</td>\n",
       "      <td>1/1***</td>\n",
       "      <td>1/1***</td>\n",
       "      <td>1/1**</td>\n",
       "    </tr>\n",
       "    <tr>\n",
       "      <th>Top-5</th>\n",
       "      <td>5/5**</td>\n",
       "      <td>5/5**</td>\n",
       "      <td>2/2**</td>\n",
       "      <td>5/5***</td>\n",
       "      <td>4/3**</td>\n",
       "      <td>4/2**</td>\n",
       "      <td>5/2***</td>\n",
       "      <td>4/2***</td>\n",
       "      <td>5/5**</td>\n",
       "    </tr>\n",
       "    <tr>\n",
       "      <th>Top-10</th>\n",
       "      <td>9/1***</td>\n",
       "      <td>10/10**</td>\n",
       "      <td>2/2**</td>\n",
       "      <td>10/9***</td>\n",
       "      <td>7/3**</td>\n",
       "      <td>8/4**</td>\n",
       "      <td>10/2***</td>\n",
       "      <td>9/5***</td>\n",
       "      <td>10/7**</td>\n",
       "    </tr>\n",
       "  </tbody>\n",
       "</table>\n",
       "</div>"
      ],
      "text/plain": [
       "(CAPRI ID)     T139     T140   T142     T143   T144   T147     T152    T153  \\\n",
       "My category    Easy     Easy   Easy     Easy   Easy   Easy     Easy    Easy   \n",
       "Top-1         1/1**    1/1**  1/1**   1/1***  1/1**  1/1**   1/1***  1/1***   \n",
       "Top-5         5/5**    5/5**  2/2**   5/5***  4/3**  4/2**   5/2***  4/2***   \n",
       "Top-10       9/1***  10/10**  2/2**  10/9***  7/3**  8/4**  10/2***  9/5***   \n",
       "\n",
       "(CAPRI ID)     T158  \n",
       "My category    Easy  \n",
       "Top-1         1/1**  \n",
       "Top-5         5/5**  \n",
       "Top-10       10/7**  "
      ]
     },
     "execution_count": 259,
     "metadata": {},
     "output_type": "execute_result"
    }
   ],
   "source": [
    "df_only_easy[['My category','Top-1','Top-5','Top-10']].T"
   ]
  },
  {
   "cell_type": "code",
   "execution_count": 258,
   "metadata": {},
   "outputs": [
    {
     "data": {
      "text/html": [
       "<div>\n",
       "<style scoped>\n",
       "    .dataframe tbody tr th:only-of-type {\n",
       "        vertical-align: middle;\n",
       "    }\n",
       "\n",
       "    .dataframe tbody tr th {\n",
       "        vertical-align: top;\n",
       "    }\n",
       "\n",
       "    .dataframe thead th {\n",
       "        text-align: right;\n",
       "    }\n",
       "</style>\n",
       "<table border=\"1\" class=\"dataframe\">\n",
       "  <thead>\n",
       "    <tr style=\"text-align: right;\">\n",
       "      <th>(CAPRI ID)</th>\n",
       "      <th>T138</th>\n",
       "      <th>T141</th>\n",
       "      <th>T146</th>\n",
       "      <th>T148</th>\n",
       "      <th>T151</th>\n",
       "      <th>T154</th>\n",
       "      <th>T155</th>\n",
       "      <th>T156</th>\n",
       "      <th>T157</th>\n",
       "      <th>T159</th>\n",
       "    </tr>\n",
       "  </thead>\n",
       "  <tbody>\n",
       "    <tr>\n",
       "      <th>My category</th>\n",
       "      <td>Difficult</td>\n",
       "      <td>Difficult</td>\n",
       "      <td>Difficult</td>\n",
       "      <td>Difficult</td>\n",
       "      <td>Difficult</td>\n",
       "      <td>Difficult</td>\n",
       "      <td>Difficult</td>\n",
       "      <td>Difficult</td>\n",
       "      <td>Difficult</td>\n",
       "      <td>Difficult</td>\n",
       "    </tr>\n",
       "    <tr>\n",
       "      <th>Top-1</th>\n",
       "      <td>0</td>\n",
       "      <td>0</td>\n",
       "      <td>0</td>\n",
       "      <td>0</td>\n",
       "      <td>1/1***</td>\n",
       "      <td>0</td>\n",
       "      <td>0</td>\n",
       "      <td>0</td>\n",
       "      <td>0</td>\n",
       "      <td>1/1**</td>\n",
       "    </tr>\n",
       "    <tr>\n",
       "      <th>Top-5</th>\n",
       "      <td>0</td>\n",
       "      <td>0</td>\n",
       "      <td>1/1*</td>\n",
       "      <td>0</td>\n",
       "      <td>5/5***</td>\n",
       "      <td>0</td>\n",
       "      <td>0</td>\n",
       "      <td>0</td>\n",
       "      <td>0</td>\n",
       "      <td>5/2**</td>\n",
       "    </tr>\n",
       "    <tr>\n",
       "      <th>Top-10</th>\n",
       "      <td>0</td>\n",
       "      <td>0</td>\n",
       "      <td>2/2*</td>\n",
       "      <td>0</td>\n",
       "      <td>10/10***</td>\n",
       "      <td>0</td>\n",
       "      <td>0</td>\n",
       "      <td>0</td>\n",
       "      <td>0</td>\n",
       "      <td>10/4**</td>\n",
       "    </tr>\n",
       "  </tbody>\n",
       "</table>\n",
       "</div>"
      ],
      "text/plain": [
       "(CAPRI ID)        T138       T141       T146       T148       T151       T154  \\\n",
       "My category  Difficult  Difficult  Difficult  Difficult  Difficult  Difficult   \n",
       "Top-1                0          0          0          0     1/1***          0   \n",
       "Top-5                0          0       1/1*          0     5/5***          0   \n",
       "Top-10               0          0       2/2*          0   10/10***          0   \n",
       "\n",
       "(CAPRI ID)        T155       T156       T157       T159  \n",
       "My category  Difficult  Difficult  Difficult  Difficult  \n",
       "Top-1                0          0          0      1/1**  \n",
       "Top-5                0          0          0      5/2**  \n",
       "Top-10               0          0          0     10/4**  "
      ]
     },
     "execution_count": 258,
     "metadata": {},
     "output_type": "execute_result"
    }
   ],
   "source": [
    "df_only_difficult[['My category','Top-1','Top-5','Top-10']].T"
   ]
  },
  {
   "cell_type": "code",
   "execution_count": 297,
   "metadata": {},
   "outputs": [
    {
     "data": {
      "text/plain": [
       "[Text(0, 0.5, 'Top-1'), Text(0, 1.5, 'Top-5'), Text(0, 2.5, 'Top-10')]"
      ]
     },
     "execution_count": 297,
     "metadata": {},
     "output_type": "execute_result"
    },
    {
     "data": {
      "image/png": "[encoded data removed]",
      "text/plain": [
       "<Figure size 1080x720 with 4 Axes>"
      ]
     },
     "metadata": {},
     "output_type": "display_data"
    }
   ],
   "source": [
    "fig, ((ax1, ax2) ) = plt.subplots(2,1 , sharex=False\n",
    "                                ,sharey=False\n",
    "                                ,figsize=( 15 , 10\n",
    "                                         )\n",
    "                               )\n",
    "\n",
    "g=sns.heatmap(df_only_easy[[\"Top 1\",\"Top 5\",\"Top 10\"]].T,ax=ax1,\n",
    "                cmap=my_colors[2:],\n",
    "#                annot=True ,\n",
    "                square=True, \n",
    "                linewidths=.5, \n",
    "#                 cbar_ax=ax2,\n",
    "                #cbar=False\n",
    "                cbar_kws={\"shrink\": .6 ,\n",
    "                          \n",
    "                          #\"use_gridspec\":False,\n",
    "#                           \"ticks\":['High', 'Medium', 'Acceptable','Incorrect'],\n",
    "#                           \"ticks\":[2.6,1.85,1.1,0.4],\n",
    "                          \"pad\":0.009\n",
    "                         # \"ticklabels\":['Incorrect', 'Acceptable', 'Medium','High']\n",
    "                      \n",
    "                        }\n",
    "               )\n",
    "g1=sns.heatmap(df_only_difficult[[\"Top 1\",\"Top 5\",\"Top 10\"]].T,ax=ax2,\n",
    "                cmap=my_colors,\n",
    "#                annot=True ,\n",
    "                square=True, \n",
    "                linewidths=.5, \n",
    "#                 cbar_ax=ax4,\n",
    "                #cbar=False\n",
    "                cbar_kws={\"shrink\": .6 ,\n",
    "                          \n",
    "                          #\"use_gridspec\":False,\n",
    "                          \n",
    "#                           \"ticks\":[2.6,1.85,1.1,0.4],\n",
    "                          \"pad\":0.009\n",
    "                         # \"ticklabels\":['Incorrect', 'Acceptable', 'Medium','High']\n",
    "                      \n",
    "                        }\n",
    "               )\n",
    "cbar = g.collections[0].colorbar\n",
    "cbar.set_ticks([2.7,2.3])#,1.1,0.4])\n",
    "# # cbar.set_ticklabels(['High', 'Medium', 'Acceptable','Incorrect'])\n",
    "cbar.set_ticklabels(['High', 'Medium'])#, 'Acceptable','Incorrect'])\n",
    "cbar1 = g1.collections[0].colorbar\n",
    "cbar1.set_ticks([2.6,1.85,1.1,0.4])\n",
    "cbar1.set_ticklabels(['High', 'Medium', 'Acceptable','Incorrect'])\n",
    "#cbar.ax.tick_params(labelsize=20) \n",
    "# co÷.set_ticklabels(['High', 'Medium', 'Acceptable','Incorrect'])\n",
    "ax1.set_xlabel(\"Target\",size=20)\n",
    "ax2.set_xlabel(\"Target\",size=20)\n",
    "ax1.set_yticklabels(['Top-1', 'Top-5', 'Top-10'],rotation=0)\n",
    "ax2.set_yticklabels(['Top-1', 'Top-5', 'Top-10'],rotation=0)\n",
    "# ax1.set_title(\"Easy\",loc= 'center',fontweight='bold')\n",
    "# ax2.set_title(\"Difficult\",loc= 'center',fontweight='bold')\n",
    "# plt.yticks(rotation=0)\n",
    "#plt.xticks(rotation=0)"
   ]
  },
  {
   "cell_type": "code",
   "execution_count": 298,
   "metadata": {},
   "outputs": [],
   "source": [
    "fig.savefig(\"Heatmap_easy_difficult_greens_2.svg\",format=\"svg\")"
   ]
  },
  {
   "cell_type": "code",
   "execution_count": 303,
   "metadata": {},
   "outputs": [
    {
     "data": {
      "text/plain": [
       "(array([0.5, 1.5, 2.5]), <a list of 3 Text yticklabel objects>)"
      ]
     },
     "execution_count": 303,
     "metadata": {},
     "output_type": "execute_result"
    },
    {
     "data": {
      "image/png": "[encoded data removed]",
      "text/plain": [
       "<Figure size 1080x720 with 2 Axes>"
      ]
     },
     "metadata": {},
     "output_type": "display_data"
    }
   ],
   "source": [
    "#from mpl_toolkits.axes_grid1.axes_divider import make_axes_locatable\n",
    "#from mpl_toolkits.axes_grid1.colorbar import colorbar\n",
    "# Set up the matplotlib figure\n",
    "### https://stackoverflow.com/questions/47916205/seaborn-heatmap-move-colorbar-on-top-of-the-plot\n",
    "\n",
    "f, ax = plt.subplots(figsize=(15 , 10))\n",
    "#my_labels = {3:\"High\",2:\"Medium\",1:\"Acceptable\",0:\"Incorrect\"}\n",
    "\n",
    "#cbar_ax = f.add_axes([.91, .4, .02, .20])\n",
    "\n",
    "g = sns.heatmap(df4[['T139', 'T140', 'T142', 'T143', 'T144', 'T147', 'T152', 'T153', 'T158',\n",
    "                     'T138', 'T141', 'T146', 'T148', 'T151', 'T154', 'T155', 'T156', 'T157','T159']],\n",
    "                ax=ax,\n",
    "                cmap=my_colors,\n",
    "               # annot=True ,\n",
    "                square=True, \n",
    "                linewidths=.5, \n",
    "                #cbar_ax=cbar_ax\n",
    "                #cbar=False\n",
    "                cbar_kws={\"shrink\": .2 ,\n",
    "                          \n",
    "                          #\"use_gridspec\":False,\n",
    "                          \n",
    "                          \"ticks\":[2.6,1.85,1.1,0.4],\n",
    "                          \"pad\":0.009\n",
    "                         # \"ticklabels\":['Incorrect', 'Acceptable', 'Medium','High']\n",
    "                      \n",
    "                        }\n",
    "               )\n",
    "\n",
    "#cbar_ax.minorticks_off()\n",
    "#cbar_ax.set_yticks([2.6,1.85,1.1,0.4])\n",
    "#cbar_ax.set_yticklabels(['Incorrect', 'Acceptable','Medium','High'])\n",
    "# color=\"#4CB391\"\n",
    "\n",
    "### this works \n",
    "### https://matplotlib.org/gallery/ticks_and_spines/colorbar_tick_labelling_demo.html\n",
    "#cbar = g.collections[0].colorbar\n",
    "#cbar.set_ticks([2.6,1.85,1.1,0.4])\n",
    "#cbar.set_ticklabels(['High', 'Medium', 'Acceptable','Incorrect'])\n",
    "\n",
    "# split axes of heatmap to put colorbar\n",
    "#ax_divider = make_axes_locatable(g)\n",
    "#cax = ax_divider.append_axes('right', size = '1%', pad = '1%')\n",
    "# make colorbar for heatmap. \n",
    "# Heatmap returns an axes obj but you need to get a mappable obj (get_children)\n",
    "#colorbar(g.get_children()[0], cax = cax)\n",
    "cbar = g.collections[0].colorbar\n",
    "#cbar.set_ticks([2.6,1.85,1.1,0.4])\n",
    "cbar.set_ticklabels(['High', 'Medium', 'Acceptable','Incorrect'])\n",
    "#cbar.ax.tick_params(labelsize=20) \n",
    "#colorbar.set_ticklabels(['High', 'Medium', 'Acceptable','Incorrect'])\n",
    "ax.set_xlabel(\"Target\",size=18)\n",
    "ax.set_yticklabels(['Top-1', 'Top-5', 'Top-10'],rotation=0)\n",
    "\n",
    "plt.yticks(rotation=0)\n",
    "#plt.xticks(rotation=0)"
   ]
  },
  {
   "cell_type": "code",
   "execution_count": 304,
   "metadata": {},
   "outputs": [],
   "source": [
    "f.savefig(\"heatmap_long_version.pdf\",format='pdf')"
   ]
  },
  {
   "cell_type": "code",
   "execution_count": 224,
   "metadata": {},
   "outputs": [
    {
     "data": {
      "text/plain": [
       "['#bbbbbb', '#00e500', '#00b200', '#007f00']"
      ]
     },
     "execution_count": 224,
     "metadata": {},
     "output_type": "execute_result"
    }
   ],
   "source": [
    "my_colors"
   ]
  },
  {
   "cell_type": "code",
   "execution_count": 276,
   "metadata": {},
   "outputs": [
    {
     "data": {
      "text/plain": [
       "['#00b200', '#007f00']"
      ]
     },
     "execution_count": 276,
     "metadata": {},
     "output_type": "execute_result"
    }
   ],
   "source": [
    "my_colors[2:]"
   ]
  },
  {
   "cell_type": "code",
   "execution_count": 293,
   "metadata": {},
   "outputs": [],
   "source": [
    "my_colors_2 = ['#bbbbbb','#007f00' , '#00b200' ,'#00e500']"
   ]
  },
  {
   "cell_type": "code",
   "execution_count": 301,
   "metadata": {},
   "outputs": [
    {
     "data": {
      "text/plain": [
       "(array([0.5, 1.5, 2.5]), <a list of 3 Text yticklabel objects>)"
      ]
     },
     "execution_count": 301,
     "metadata": {},
     "output_type": "execute_result"
    },
    {
     "data": {
      "image/png": "[encoded data removed]",
      "text/plain": [
       "<Figure size 1080x720 with 2 Axes>"
      ]
     },
     "metadata": {},
     "output_type": "display_data"
    }
   ],
   "source": [
    "#from mpl_toolkits.axes_grid1.axes_divider import make_axes_locatable\n",
    "#from mpl_toolkits.axes_grid1.colorbar import colorbar\n",
    "# Set up the matplotlib figure\n",
    "### https://stackoverflow.com/questions/47916205/seaborn-heatmap-move-colorbar-on-top-of-the-plot\n",
    "\n",
    "f, ax = plt.subplots(figsize=(15 , 10))\n",
    "#my_labels = {3:\"High\",2:\"Medium\",1:\"Acceptable\",0:\"Incorrect\"}\n",
    "\n",
    "#cbar_ax = f.add_axes([.91, .4, .02, .20])\n",
    "\n",
    "g = sns.heatmap(df4[['T139', 'T140', 'T142', 'T143', 'T144', 'T147', 'T152', 'T153', 'T158',\n",
    "                     'T138', 'T141', 'T146', 'T148', 'T151', 'T154', 'T155', 'T156', 'T157','T159']],\n",
    "                ax=ax,\n",
    "                cmap=my_colors_2,\n",
    "               # annot=True ,\n",
    "                square=True, \n",
    "                linewidths=.5, \n",
    "                #cbar_ax=cbar_ax\n",
    "                #cbar=False\n",
    "                cbar_kws={\"shrink\": .2 ,\n",
    "                          \n",
    "                          #\"use_gridspec\":False,\n",
    "                          \n",
    "                          \"ticks\":[2.6,1.85,1.1,0.4],\n",
    "                          \"pad\":0.009\n",
    "                         # \"ticklabels\":['Incorrect', 'Acceptable', 'Medium','High']\n",
    "                      \n",
    "                        }\n",
    "               )\n",
    "\n",
    "#cbar_ax.minorticks_off()\n",
    "#cbar_ax.set_yticks([2.6,1.85,1.1,0.4])\n",
    "#cbar_ax.set_yticklabels(['Incorrect', 'Acceptable','Medium','High'])\n",
    "# color=\"#4CB391\"\n",
    "\n",
    "### this works \n",
    "### https://matplotlib.org/gallery/ticks_and_spines/colorbar_tick_labelling_demo.html\n",
    "#cbar = g.collections[0].colorbar\n",
    "#cbar.set_ticks([2.6,1.85,1.1,0.4])\n",
    "#cbar.set_ticklabels(['High', 'Medium', 'Acceptable','Incorrect'])\n",
    "\n",
    "# split axes of heatmap to put colorbar\n",
    "#ax_divider = make_axes_locatable(g)\n",
    "#cax = ax_divider.append_axes('right', size = '1%', pad = '1%')\n",
    "# make colorbar for heatmap. \n",
    "# Heatmap returns an axes obj but you need to get a mappable obj (get_children)\n",
    "#colorbar(g.get_children()[0], cax = cax)\n",
    "cbar = g.collections[0].colorbar\n",
    "#cbar.set_ticks([2.6,1.85,1.1,0.4])\n",
    "cbar.set_ticklabels(['High', 'Medium', 'Acceptable','Incorrect'])\n",
    "#cbar.ax.tick_params(labelsize=20) \n",
    "#colorbar.set_ticklabels(['High', 'Medium', 'Acceptable','Incorrect'])\n",
    "ax.set_xlabel(\"Target\",size=18)\n",
    "ax.set_yticklabels(['Top-1', 'Top-5', 'Top-10'],rotation=0)\n",
    "\n",
    "plt.yticks(rotation=0)\n",
    "#plt.xticks(rotation=0)"
   ]
  },
  {
   "cell_type": "code",
   "execution_count": 302,
   "metadata": {},
   "outputs": [],
   "source": [
    "f.savefig(\"heatmap_long_version_reverse.pdf\",format='pdf')"
   ]
  },
  {
   "cell_type": "code",
   "execution_count": 305,
   "metadata": {},
   "outputs": [
    {
     "data": {
      "text/plain": [
       "[Text(0, 0.5, 'Top-1'), Text(0, 1.5, 'Top-5'), Text(0, 2.5, 'Top-10')]"
      ]
     },
     "execution_count": 305,
     "metadata": {},
     "output_type": "execute_result"
    },
    {
     "data": {
      "image/png": "[encoded data removed]",
      "text/plain": [
       "<Figure size 1080x720 with 4 Axes>"
      ]
     },
     "metadata": {},
     "output_type": "display_data"
    }
   ],
   "source": [
    "fig, ((ax1, ax2) ) = plt.subplots(2,1 , sharex=False\n",
    "                                ,sharey=False\n",
    "                                ,figsize=( 15 , 10\n",
    "                                         )\n",
    "                               )\n",
    "\n",
    "g=sns.heatmap(df_only_easy[[\"Top 1\",\"Top 5\",\"Top 10\"]].T,ax=ax1,\n",
    "                cmap=my_colors_2[2:],\n",
    "#                annot=True ,\n",
    "                square=True, \n",
    "                linewidths=.5, \n",
    "#                 cbar_ax=ax2,\n",
    "                #cbar=False\n",
    "                cbar_kws={\"shrink\": .6 ,\n",
    "                          \n",
    "                          #\"use_gridspec\":False,\n",
    "#                           \"ticks\":['High', 'Medium', 'Acceptable','Incorrect'],\n",
    "#                           \"ticks\":[2.6,1.85,1.1,0.4],\n",
    "                          \"pad\":0.009\n",
    "                         # \"ticklabels\":['Incorrect', 'Acceptable', 'Medium','High']\n",
    "                      \n",
    "                        }\n",
    "               )\n",
    "g1=sns.heatmap(df_only_difficult[[\"Top 1\",\"Top 5\",\"Top 10\"]].T,ax=ax2,\n",
    "                cmap=my_colors_2,\n",
    "#                annot=True ,\n",
    "                square=True, \n",
    "                linewidths=.5, \n",
    "#                 cbar_ax=ax4,\n",
    "                #cbar=False\n",
    "                cbar_kws={\"shrink\": .6 ,\n",
    "                          \n",
    "                          #\"use_gridspec\":False,\n",
    "                          \n",
    "#                           \"ticks\":[2.6,1.85,1.1,0.4],\n",
    "                          \"pad\":0.009\n",
    "                         # \"ticklabels\":['Incorrect', 'Acceptable', 'Medium','High']\n",
    "                      \n",
    "                        }\n",
    "               )\n",
    "cbar = g.collections[0].colorbar\n",
    "cbar.set_ticks([2.7,2.3])#,1.1,0.4])\n",
    "# # cbar.set_ticklabels(['High', 'Medium', 'Acceptable','Incorrect'])\n",
    "cbar.set_ticklabels(['High', 'Medium'])#, 'Acceptable','Incorrect'])\n",
    "cbar1 = g1.collections[0].colorbar\n",
    "cbar1.set_ticks([2.6,1.85,1.1,0.4])\n",
    "cbar1.set_ticklabels(['High', 'Medium', 'Acceptable','Incorrect'])\n",
    "#cbar.ax.tick_params(labelsize=20) \n",
    "# co÷.set_ticklabels(['High', 'Medium', 'Acceptable','Incorrect'])\n",
    "ax1.set_xlabel(\"Target\",size=20)\n",
    "ax2.set_xlabel(\"Target\",size=20)\n",
    "ax1.set_yticklabels(['Top-1', 'Top-5', 'Top-10'],rotation=0)\n",
    "ax2.set_yticklabels(['Top-1', 'Top-5', 'Top-10'],rotation=0)\n",
    "# ax1.set_title(\"Easy\",loc= 'center',fontweight='bold')\n",
    "# ax2.set_title(\"Difficult\",loc= 'center',fontweight='bold')\n",
    "# plt.yticks(rotation=0)\n",
    "#plt.xticks(rotation=0)"
   ]
  },
  {
   "cell_type": "code",
   "execution_count": 306,
   "metadata": {},
   "outputs": [],
   "source": [
    "fig.savefig(\"Heatmap_easy_difficult_greens_2_reversed.svg\",format=\"svg\")"
   ]
  },
  {
   "cell_type": "code",
   "execution_count": null,
   "metadata": {},
   "outputs": [],
   "source": []
  }
 ],
 "metadata": {
  "kernelspec": {
   "display_name": "Python 2",
   "language": "python",
   "name": "python2"
  },
  "language_info": {
   "codemirror_mode": {
    "name": "ipython",
    "version": 2
   },
   "file_extension": ".py",
   "mimetype": "text/x-python",
   "name": "python",
   "nbconvert_exporter": "python",
   "pygments_lexer": "ipython2",
   "version": "2.7.14"
  }
 },
 "nbformat": 4,
 "nbformat_minor": 4
}
